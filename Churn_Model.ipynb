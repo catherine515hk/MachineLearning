{
 "cells": [
  {
   "cell_type": "markdown",
   "metadata": {},
   "source": [
    "# Import Library"
   ]
  },
  {
   "cell_type": "code",
   "execution_count": 1,
   "metadata": {},
   "outputs": [],
   "source": [
    "import pandas as pd\n",
    "import numpy as np\n",
    "import matplotlib.pyplot as plt\n",
    "%matplotlib inline\n",
    "import seaborn as sns\n",
    "from sklearn.metrics import confusion_matrix,accuracy_score,precision_score,recall_score,f1_score"
   ]
  },
  {
   "cell_type": "markdown",
   "metadata": {},
   "source": [
    "# Data Extraction"
   ]
  },
  {
   "cell_type": "code",
   "execution_count": 2,
   "metadata": {},
   "outputs": [],
   "source": [
    "df=pd.read_csv('Churn_Modelling.csv')"
   ]
  },
  {
   "cell_type": "markdown",
   "metadata": {},
   "source": [
    "# EDA"
   ]
  },
  {
   "cell_type": "markdown",
   "metadata": {},
   "source": [
    "## Checking Missing Value and Data Type"
   ]
  },
  {
   "cell_type": "code",
   "execution_count": 3,
   "metadata": {},
   "outputs": [
    {
     "name": "stdout",
     "output_type": "stream",
     "text": [
      "<class 'pandas.core.frame.DataFrame'>\n",
      "RangeIndex: 10000 entries, 0 to 9999\n",
      "Data columns (total 14 columns):\n",
      " #   Column           Non-Null Count  Dtype  \n",
      "---  ------           --------------  -----  \n",
      " 0   RowNumber        10000 non-null  int64  \n",
      " 1   CustomerId       10000 non-null  int64  \n",
      " 2   Surname          10000 non-null  object \n",
      " 3   CreditScore      10000 non-null  int64  \n",
      " 4   Geography        10000 non-null  object \n",
      " 5   Gender           10000 non-null  object \n",
      " 6   Age              10000 non-null  int64  \n",
      " 7   Tenure           10000 non-null  int64  \n",
      " 8   Balance          10000 non-null  float64\n",
      " 9   NumOfProducts    10000 non-null  int64  \n",
      " 10  HasCrCard        10000 non-null  int64  \n",
      " 11  IsActiveMember   10000 non-null  int64  \n",
      " 12  EstimatedSalary  10000 non-null  float64\n",
      " 13  Exited           10000 non-null  int64  \n",
      "dtypes: float64(2), int64(9), object(3)\n",
      "memory usage: 1.1+ MB\n"
     ]
    }
   ],
   "source": [
    "df.info()"
   ]
  },
  {
   "cell_type": "markdown",
   "metadata": {},
   "source": [
    "#### 1) There is no missing value\n",
    "#### 2) Numerical Data: Age, Estimated Salary, Tenure, Balance, CreditScore, \n",
    "#### 3a) Categorical Data: Gender, Geography\n",
    "#### 3b) HasCrDard, IsActiveMember and NumofProducts should be Categorical/ Binary Data rather than int64\n",
    "#### 4) Label: Exited should be Categorical data"
   ]
  },
  {
   "cell_type": "markdown",
   "metadata": {},
   "source": [
    "## Prepare Dataset for EDA"
   ]
  },
  {
   "cell_type": "code",
   "execution_count": 4,
   "metadata": {},
   "outputs": [],
   "source": [
    "EDA_Data=df\n",
    "EDA_Data['Exited']=EDA_Data['Exited'].apply(lambda x: 'Exit' if x==1 else 'Not Exit')\n",
    "EDA_Data['HasCrCard']=EDA_Data['HasCrCard'].apply(lambda x: 'Has Credit Card' if x==1 else 'Do not have Credit Card')\n",
    "EDA_Data['IsActiveMember']=EDA_Data['IsActiveMember'].apply(lambda x: 'Active Member' if x==1 else 'Inactive Member')\n",
    "EDA_Data['NumOfProducts']=EDA_Data['NumOfProducts'].astype('str')"
   ]
  },
  {
   "cell_type": "code",
   "execution_count": 5,
   "metadata": {},
   "outputs": [
    {
     "data": {
      "text/html": [
       "<div>\n",
       "<style scoped>\n",
       "    .dataframe tbody tr th:only-of-type {\n",
       "        vertical-align: middle;\n",
       "    }\n",
       "\n",
       "    .dataframe tbody tr th {\n",
       "        vertical-align: top;\n",
       "    }\n",
       "\n",
       "    .dataframe thead th {\n",
       "        text-align: right;\n",
       "    }\n",
       "</style>\n",
       "<table border=\"1\" class=\"dataframe\">\n",
       "  <thead>\n",
       "    <tr style=\"text-align: right;\">\n",
       "      <th></th>\n",
       "      <th>RowNumber</th>\n",
       "      <th>CustomerId</th>\n",
       "      <th>CreditScore</th>\n",
       "      <th>Age</th>\n",
       "      <th>Tenure</th>\n",
       "      <th>Balance</th>\n",
       "      <th>EstimatedSalary</th>\n",
       "    </tr>\n",
       "  </thead>\n",
       "  <tbody>\n",
       "    <tr>\n",
       "      <th>count</th>\n",
       "      <td>10000.00000</td>\n",
       "      <td>1.000000e+04</td>\n",
       "      <td>10000.000000</td>\n",
       "      <td>10000.000000</td>\n",
       "      <td>10000.000000</td>\n",
       "      <td>10000.000000</td>\n",
       "      <td>10000.000000</td>\n",
       "    </tr>\n",
       "    <tr>\n",
       "      <th>mean</th>\n",
       "      <td>5000.50000</td>\n",
       "      <td>1.569094e+07</td>\n",
       "      <td>650.528800</td>\n",
       "      <td>38.921800</td>\n",
       "      <td>5.012800</td>\n",
       "      <td>76485.889288</td>\n",
       "      <td>100090.239881</td>\n",
       "    </tr>\n",
       "    <tr>\n",
       "      <th>std</th>\n",
       "      <td>2886.89568</td>\n",
       "      <td>7.193619e+04</td>\n",
       "      <td>96.653299</td>\n",
       "      <td>10.487806</td>\n",
       "      <td>2.892174</td>\n",
       "      <td>62397.405202</td>\n",
       "      <td>57510.492818</td>\n",
       "    </tr>\n",
       "    <tr>\n",
       "      <th>min</th>\n",
       "      <td>1.00000</td>\n",
       "      <td>1.556570e+07</td>\n",
       "      <td>350.000000</td>\n",
       "      <td>18.000000</td>\n",
       "      <td>0.000000</td>\n",
       "      <td>0.000000</td>\n",
       "      <td>11.580000</td>\n",
       "    </tr>\n",
       "    <tr>\n",
       "      <th>25%</th>\n",
       "      <td>2500.75000</td>\n",
       "      <td>1.562853e+07</td>\n",
       "      <td>584.000000</td>\n",
       "      <td>32.000000</td>\n",
       "      <td>3.000000</td>\n",
       "      <td>0.000000</td>\n",
       "      <td>51002.110000</td>\n",
       "    </tr>\n",
       "    <tr>\n",
       "      <th>50%</th>\n",
       "      <td>5000.50000</td>\n",
       "      <td>1.569074e+07</td>\n",
       "      <td>652.000000</td>\n",
       "      <td>37.000000</td>\n",
       "      <td>5.000000</td>\n",
       "      <td>97198.540000</td>\n",
       "      <td>100193.915000</td>\n",
       "    </tr>\n",
       "    <tr>\n",
       "      <th>75%</th>\n",
       "      <td>7500.25000</td>\n",
       "      <td>1.575323e+07</td>\n",
       "      <td>718.000000</td>\n",
       "      <td>44.000000</td>\n",
       "      <td>7.000000</td>\n",
       "      <td>127644.240000</td>\n",
       "      <td>149388.247500</td>\n",
       "    </tr>\n",
       "    <tr>\n",
       "      <th>max</th>\n",
       "      <td>10000.00000</td>\n",
       "      <td>1.581569e+07</td>\n",
       "      <td>850.000000</td>\n",
       "      <td>92.000000</td>\n",
       "      <td>10.000000</td>\n",
       "      <td>250898.090000</td>\n",
       "      <td>199992.480000</td>\n",
       "    </tr>\n",
       "  </tbody>\n",
       "</table>\n",
       "</div>"
      ],
      "text/plain": [
       "         RowNumber    CustomerId   CreditScore           Age        Tenure  \\\n",
       "count  10000.00000  1.000000e+04  10000.000000  10000.000000  10000.000000   \n",
       "mean    5000.50000  1.569094e+07    650.528800     38.921800      5.012800   \n",
       "std     2886.89568  7.193619e+04     96.653299     10.487806      2.892174   \n",
       "min        1.00000  1.556570e+07    350.000000     18.000000      0.000000   \n",
       "25%     2500.75000  1.562853e+07    584.000000     32.000000      3.000000   \n",
       "50%     5000.50000  1.569074e+07    652.000000     37.000000      5.000000   \n",
       "75%     7500.25000  1.575323e+07    718.000000     44.000000      7.000000   \n",
       "max    10000.00000  1.581569e+07    850.000000     92.000000     10.000000   \n",
       "\n",
       "             Balance  EstimatedSalary  \n",
       "count   10000.000000     10000.000000  \n",
       "mean    76485.889288    100090.239881  \n",
       "std     62397.405202     57510.492818  \n",
       "min         0.000000        11.580000  \n",
       "25%         0.000000     51002.110000  \n",
       "50%     97198.540000    100193.915000  \n",
       "75%    127644.240000    149388.247500  \n",
       "max    250898.090000    199992.480000  "
      ]
     },
     "execution_count": 5,
     "metadata": {},
     "output_type": "execute_result"
    }
   ],
   "source": [
    "EDA_Data.describe()"
   ]
  },
  {
   "cell_type": "markdown",
   "metadata": {},
   "source": [
    "## Part 1: Relationship between Numerical Data and Exited"
   ]
  },
  {
   "cell_type": "markdown",
   "metadata": {},
   "source": [
    "### 1) Relationship between Age and Exited"
   ]
  },
  {
   "cell_type": "code",
   "execution_count": 6,
   "metadata": {},
   "outputs": [
    {
     "data": {
      "text/plain": [
       "<matplotlib.axes._subplots.AxesSubplot at 0x1b8bafb7188>"
      ]
     },
     "execution_count": 6,
     "metadata": {},
     "output_type": "execute_result"
    },
    {
     "data": {
      "image/png": "[encoded data removed]",
      "text/plain": [
       "<Figure size 432x288 with 1 Axes>"
      ]
     },
     "metadata": {
      "needs_background": "light"
     },
     "output_type": "display_data"
    }
   ],
   "source": [
    "sns.boxplot(x='Exited',y='Age',data=EDA_Data)"
   ]
  },
  {
   "cell_type": "markdown",
   "metadata": {},
   "source": [
    "#### Overall, customer who exited is older than those not exit. \n",
    "#### The median of exited customer is around 45 years old.\n",
    "#### The median of exited customer is already older than 75% not exit customer."
   ]
  },
  {
   "cell_type": "markdown",
   "metadata": {},
   "source": [
    "### 2) Relationship between Tenure and Exited"
   ]
  },
  {
   "cell_type": "code",
   "execution_count": 7,
   "metadata": {},
   "outputs": [
    {
     "data": {
      "text/plain": [
       "<matplotlib.axes._subplots.AxesSubplot at 0x1b8bdc92548>"
      ]
     },
     "execution_count": 7,
     "metadata": {},
     "output_type": "execute_result"
    },
    {
     "data": {
      "image/png": "[encoded data removed]",
      "text/plain": [
       "<Figure size 432x288 with 1 Axes>"
      ]
     },
     "metadata": {
      "needs_background": "light"
     },
     "output_type": "display_data"
    }
   ],
   "source": [
    "sns.boxplot(x='Exited',y='Tenure',data=EDA_Data)"
   ]
  },
  {
   "cell_type": "markdown",
   "metadata": {},
   "source": [
    "#### Compare to Not Exist Customer, Customer who join less than 3 years or above 7 years are more likely to exit."
   ]
  },
  {
   "cell_type": "markdown",
   "metadata": {},
   "source": [
    "### 3) Relationship between Balance and Exited"
   ]
  },
  {
   "cell_type": "code",
   "execution_count": 8,
   "metadata": {},
   "outputs": [
    {
     "data": {
      "text/plain": [
       "<matplotlib.axes._subplots.AxesSubplot at 0x1b8bdd3a948>"
      ]
     },
     "execution_count": 8,
     "metadata": {},
     "output_type": "execute_result"
    },
    {
     "data": {
      "image/png": "[encoded data removed]",
      "text/plain": [
       "<Figure size 432x288 with 1 Axes>"
      ]
     },
     "metadata": {
      "needs_background": "light"
     },
     "output_type": "display_data"
    }
   ],
   "source": [
    "sns.boxplot(x='Exited',y='Balance',data=EDA_Data)"
   ]
  },
  {
   "cell_type": "markdown",
   "metadata": {},
   "source": [
    "#### Customer whose balance less than $40000 are more likely not exit\n",
    "#### The top 25% exit customer has higher balance than those not exit"
   ]
  },
  {
   "cell_type": "markdown",
   "metadata": {},
   "source": [
    "### 4) Relationship between Credit Score and Exited"
   ]
  },
  {
   "cell_type": "code",
   "execution_count": 9,
   "metadata": {},
   "outputs": [
    {
     "data": {
      "text/plain": [
       "<matplotlib.axes._subplots.AxesSubplot at 0x1b8bddb8208>"
      ]
     },
     "execution_count": 9,
     "metadata": {},
     "output_type": "execute_result"
    },
    {
     "data": {
      "image/png": "[encoded data removed]",
      "text/plain": [
       "<Figure size 432x288 with 1 Axes>"
      ]
     },
     "metadata": {
      "needs_background": "light"
     },
     "output_type": "display_data"
    }
   ],
   "source": [
    "sns.boxplot(x='Exited',y='CreditScore',data=EDA_Data)"
   ]
  },
  {
   "cell_type": "markdown",
   "metadata": {},
   "source": [
    "#### Credit Score only slightly correlated to Exited. \n",
    "#### Customer with lower credt score slightly exit.\n",
    "#### There are some outliers whose score fall around 350. "
   ]
  },
  {
   "cell_type": "markdown",
   "metadata": {},
   "source": [
    "### 5) Relationship between EstimatedSalary and Exited"
   ]
  },
  {
   "cell_type": "code",
   "execution_count": 10,
   "metadata": {},
   "outputs": [
    {
     "data": {
      "text/plain": [
       "<matplotlib.axes._subplots.AxesSubplot at 0x1b8bde2a788>"
      ]
     },
     "execution_count": 10,
     "metadata": {},
     "output_type": "execute_result"
    },
    {
     "data": {
      "image/png": "[encoded data removed]",
      "text/plain": [
       "<Figure size 432x288 with 1 Axes>"
      ]
     },
     "metadata": {
      "needs_background": "light"
     },
     "output_type": "display_data"
    }
   ],
   "source": [
    "sns.boxplot(x='Exited',y='EstimatedSalary',data=EDA_Data)"
   ]
  },
  {
   "cell_type": "markdown",
   "metadata": {},
   "source": [
    "#### Estimated Salary do not correlated to Exited."
   ]
  },
  {
   "cell_type": "markdown",
   "metadata": {},
   "source": [
    "### 6) Correlation between numerical features"
   ]
  },
  {
   "cell_type": "code",
   "execution_count": 11,
   "metadata": {},
   "outputs": [
    {
     "data": {
      "text/plain": [
       "<matplotlib.axes._subplots.AxesSubplot at 0x1b8bdeccb08>"
      ]
     },
     "execution_count": 11,
     "metadata": {},
     "output_type": "execute_result"
    },
    {
     "data": {
      "image/png": "[encoded data removed]",
      "text/plain": [
       "<Figure size 432x288 with 2 Axes>"
      ]
     },
     "metadata": {
      "needs_background": "light"
     },
     "output_type": "display_data"
    }
   ],
   "source": [
    "EDA_num=EDA_Data[['Age','CreditScore','Tenure', 'Balance','EstimatedSalary']]\n",
    "sns.heatmap(EDA_num.corr(),vmin=-1,vmax=1,annot=True)"
   ]
  },
  {
   "cell_type": "markdown",
   "metadata": {},
   "source": [
    "#### Features with color close to 0 means no correlation, \n",
    "#### Features with color close to -1 or 1 means having strong negative or postive relationship to each other respectively. \n",
    "#### From the above heat map, we can see that all features only have weak relationship to each other."
   ]
  },
  {
   "cell_type": "markdown",
   "metadata": {},
   "source": [
    "## Part 2: Relationship between Categorical Data and Exited"
   ]
  },
  {
   "cell_type": "code",
   "execution_count": 12,
   "metadata": {},
   "outputs": [
    {
     "data": {
      "image/png": "[encoded data removed]",
      "text/plain": [
       "<Figure size 720x1080 with 5 Axes>"
      ]
     },
     "metadata": {
      "needs_background": "light"
     },
     "output_type": "display_data"
    }
   ],
   "source": [
    "fig, axis = plt.subplots(3, 2, figsize=(10,15),)\n",
    "axis[0,0].set_title(\"Relationship between Gender and Exited\")\n",
    "axis[0,1].set_title(\"Relationship between Geography and Exited\")\n",
    "axis[1,0].set_title(\"Relationship between Has Credit Card and Exited\")\n",
    "axis[1,1].set_title(\"Relationship between Is Active and Exited\")\n",
    "axis[2,0].set_title(\"Relationship between No. of Product and Exited\")\n",
    "\n",
    "sns.countplot(x='Gender',hue='Exited',data=EDA_Data,ax=axis[0,0])\n",
    "sns.countplot(x='Geography',hue='Exited',data=EDA_Data,ax=axis[0,1])\n",
    "sns.countplot(x='HasCrCard',hue='Exited',data=EDA_Data,ax=axis[1,0])\n",
    "sns.countplot(x='IsActiveMember',hue='Exited',data=EDA_Data,ax=axis[1,1])\n",
    "sns.countplot(x='NumOfProducts',hue='Exited',data=EDA_Data,ax=axis[2,0])\n",
    "\n",
    "axis[2,1].remove()"
   ]
  },
  {
   "cell_type": "markdown",
   "metadata": {},
   "source": [
    "#### From the above diagram, we can see that:\n",
    "#### 1) Female is easier exit than Male\n",
    "#### 2) Customer in Germany more likely to exit\n",
    "#### 3) Inactive Member has higher proportion to exit than Active Member\n",
    "#### 4) Credit Card is not correlated to Exit\n",
    "#### 5) Customer with 2 products have higher proportion not exit"
   ]
  },
  {
   "cell_type": "markdown",
   "metadata": {},
   "source": [
    "## Train Data without Feature Engineering - Set 1"
   ]
  },
  {
   "cell_type": "code",
   "execution_count": 165,
   "metadata": {},
   "outputs": [],
   "source": [
    "X0=df.iloc[:,3:-1]\n",
    "X0_c=X0.loc[:,['Geography','Gender','NumOfProducts','HasCrCard','IsActiveMember']]"
   ]
  },
  {
   "cell_type": "markdown",
   "metadata": {},
   "source": [
    "#### Apply OneHotEncoding to Categorical Data: (Geography,Gender,NumOfProducts,HasCrCard,IsActiveMember)"
   ]
  },
  {
   "cell_type": "code",
   "execution_count": 166,
   "metadata": {},
   "outputs": [],
   "source": [
    "X0_c=pd.get_dummies(X0_c)"
   ]
  },
  {
   "cell_type": "code",
   "execution_count": 167,
   "metadata": {},
   "outputs": [],
   "source": [
    "from sklearn.preprocessing import StandardScaler\n",
    "X0_n=X0.loc[:,['CreditScore','Age','Balance','Tenure','EstimatedSalary']]\n",
    "scaler = StandardScaler()\n",
    "X0_n1=scaler.fit_transform(X0_n)"
   ]
  },
  {
   "cell_type": "code",
   "execution_count": 168,
   "metadata": {},
   "outputs": [],
   "source": [
    "X0_n1=pd.DataFrame(X0_n1,columns=['CreditScore','Age','Balance','Tenure','EstimatedSalary'])"
   ]
  },
  {
   "cell_type": "code",
   "execution_count": 169,
   "metadata": {},
   "outputs": [],
   "source": [
    "X=pd.concat([X0_c,X0_n1],axis=1)\n",
    "y=EDA_Data['Exited'].apply(lambda x: 1 if x=='Exit' else 0)"
   ]
  },
  {
   "cell_type": "code",
   "execution_count": 170,
   "metadata": {},
   "outputs": [],
   "source": [
    "from sklearn.model_selection import train_test_split\n",
    "X_train, X_test, y_train, y_test = train_test_split(X, y, test_size=0.2, random_state=42)"
   ]
  },
  {
   "cell_type": "code",
   "execution_count": 171,
   "metadata": {},
   "outputs": [
    {
     "data": {
      "text/plain": [
       "0.843"
      ]
     },
     "execution_count": 171,
     "metadata": {},
     "output_type": "execute_result"
    }
   ],
   "source": [
    "from sklearn.linear_model import LogisticRegression\n",
    "clf = LogisticRegression(random_state=42).fit(X_train, y_train)\n",
    "y_pred=clf.predict(X_test)\n",
    "s1_1_y_pred=y_pred\n",
    "clf.score(X_test, y_test)"
   ]
  },
  {
   "cell_type": "code",
   "execution_count": 172,
   "metadata": {},
   "outputs": [
    {
     "name": "stdout",
     "output_type": "stream",
     "text": [
      " Accuracy Score: 0.843 \n",
      " Recall Score: 0.364 \n",
      " Precision Score: 0.691 \n",
      " F1 Score Score: 0.477\n"
     ]
    }
   ],
   "source": [
    "print(' Accuracy Score: %.3f' % accuracy_score(y_test, y_pred) ,'\\n', \n",
    "      'Recall Score: %.3f' % recall_score(y_test, y_pred) ,'\\n', #True Postive out of Actual Postive\n",
    "      'Precision Score: %.3f' % precision_score(y_test, y_pred) ,'\\n', #True Postive out of Predicted Postive\n",
    "      'F1 Score Score: %.3f' % f1_score(y_test, y_pred) ) #Close to 1 is better; Close to 0 is worse"
   ]
  },
  {
   "cell_type": "code",
   "execution_count": 173,
   "metadata": {},
   "outputs": [
    {
     "data": {
      "text/plain": [
       "0.86"
      ]
     },
     "execution_count": 173,
     "metadata": {},
     "output_type": "execute_result"
    }
   ],
   "source": [
    "from sklearn.svm import SVC\n",
    "clf = SVC(random_state=42)\n",
    "svc=clf.fit(X_train, y_train)\n",
    "y_pred=svc.predict(X_test)\n",
    "s1_2_y_pred=y_pred\n",
    "svc.score(X_test, y_test)"
   ]
  },
  {
   "cell_type": "code",
   "execution_count": 174,
   "metadata": {},
   "outputs": [
    {
     "name": "stdout",
     "output_type": "stream",
     "text": [
      " Accuracy Score: 0.860 \n",
      " Recall Score: 0.387 \n",
      " Precision Score: 0.796 \n",
      " F1 Score Score: 0.521\n"
     ]
    }
   ],
   "source": [
    "print(' Accuracy Score: %.3f' % accuracy_score(y_test, y_pred) ,'\\n', \n",
    "      'Recall Score: %.3f' % recall_score(y_test, y_pred) ,'\\n', #True Postive out of Actual Postive\n",
    "      'Precision Score: %.3f' % precision_score(y_test, y_pred) ,'\\n', #True Postive out of Predicted Postive\n",
    "      'F1 Score Score: %.3f' % f1_score(y_test, y_pred) ) #Close to 1 is better; Close to 0 is worse"
   ]
  },
  {
   "cell_type": "code",
   "execution_count": 175,
   "metadata": {},
   "outputs": [
    {
     "data": {
      "text/plain": [
       "0.8675"
      ]
     },
     "execution_count": 175,
     "metadata": {},
     "output_type": "execute_result"
    }
   ],
   "source": [
    "from sklearn.ensemble import RandomForestClassifier\n",
    "clf = RandomForestClassifier(random_state=42)\n",
    "clf.fit(X_train, y_train)\n",
    "y_pred=clf.predict(X_test)\n",
    "s1_3_y_pred=y_pred\n",
    "clf.score(X_test, y_test)"
   ]
  },
  {
   "cell_type": "code",
   "execution_count": 176,
   "metadata": {},
   "outputs": [
    {
     "name": "stdout",
     "output_type": "stream",
     "text": [
      " Accuracy Score: 0.868 \n",
      " Recall Score: 0.483 \n",
      " Precision Score: 0.754 \n",
      " F1 Score Score: 0.589\n"
     ]
    }
   ],
   "source": [
    "print(' Accuracy Score: %.3f' % accuracy_score(y_test, y_pred) ,'\\n', \n",
    "      'Recall Score: %.3f' % recall_score(y_test, y_pred) ,'\\n', #True Postive out of Actual Postive\n",
    "      'Precision Score: %.3f' % precision_score(y_test, y_pred) ,'\\n', #True Postive out of Predicted Postive\n",
    "      'F1 Score Score: %.3f' % f1_score(y_test, y_pred) ) #Close to 1 is better; Close to 0 is worse"
   ]
  },
  {
   "cell_type": "code",
   "execution_count": 177,
   "metadata": {},
   "outputs": [
    {
     "data": {
      "text/plain": [
       "0.5585"
      ]
     },
     "execution_count": 177,
     "metadata": {},
     "output_type": "execute_result"
    }
   ],
   "source": [
    "import xgboost as xgb\n",
    "dtrain = xgb.DMatrix(data = X_train, label = y_train) \n",
    "dtest = xgb.DMatrix(data = X_test, label = y_test) \n",
    "# specify parameters via map\n",
    "param = {'max_depth':6, 'eta':0.3, 'objective':'binary:hinge' } #Use default value in the first time\n",
    "num_round = 2\n",
    "bst = xgb.train(param, dtrain, num_round)\n",
    "# make prediction\n",
    "y_pred = bst.predict(dtest)\n",
    "s1_4_y_pred=y_pred\n",
    "accuracy_score(y_test,y_pred)"
   ]
  },
  {
   "cell_type": "code",
   "execution_count": 178,
   "metadata": {},
   "outputs": [
    {
     "name": "stdout",
     "output_type": "stream",
     "text": [
      " Accuracy Score: 0.558 \n",
      " Recall Score: 0.893 \n",
      " Precision Score: 0.294 \n",
      " F1 Score Score: 0.443\n"
     ]
    }
   ],
   "source": [
    "print(' Accuracy Score: %.3f' % accuracy_score(y_test, y_pred) ,'\\n', \n",
    "      'Recall Score: %.3f' % recall_score(y_test, y_pred) ,'\\n', #True Postive out of Actual Postive\n",
    "      'Precision Score: %.3f' % precision_score(y_test, y_pred) ,'\\n', #True Postive out of Predicted Postive\n",
    "      'F1 Score Score: %.3f' % f1_score(y_test, y_pred) ) #Close to 1 is better; Close to 0 is worse"
   ]
  },
  {
   "cell_type": "markdown",
   "metadata": {},
   "source": [
    "## Train Data with Feature Engineering (Based on EDA) - Set 2 \n",
    "### [Keep all hyperparameter same as Set 1]"
   ]
  },
  {
   "cell_type": "markdown",
   "metadata": {},
   "source": [
    "### Remove Estimated Salary, Has Credit Card and Credit Score refer to EDA"
   ]
  },
  {
   "cell_type": "code",
   "execution_count": 179,
   "metadata": {},
   "outputs": [],
   "source": [
    "X1=df.iloc[:,3:-1]\n",
    "X1_c=X1.loc[:,['Geography','Gender','NumOfProducts','IsActiveMember']]\n",
    "X1_n=X1.loc[:,['Age','Balance','Tenure']]"
   ]
  },
  {
   "cell_type": "markdown",
   "metadata": {},
   "source": [
    "### Part 1: Distribution of Numerical Feature"
   ]
  },
  {
   "cell_type": "code",
   "execution_count": 180,
   "metadata": {},
   "outputs": [
    {
     "data": {
      "text/html": [
       "<div>\n",
       "<style scoped>\n",
       "    .dataframe tbody tr th:only-of-type {\n",
       "        vertical-align: middle;\n",
       "    }\n",
       "\n",
       "    .dataframe tbody tr th {\n",
       "        vertical-align: top;\n",
       "    }\n",
       "\n",
       "    .dataframe thead th {\n",
       "        text-align: right;\n",
       "    }\n",
       "</style>\n",
       "<table border=\"1\" class=\"dataframe\">\n",
       "  <thead>\n",
       "    <tr style=\"text-align: right;\">\n",
       "      <th></th>\n",
       "      <th>RowNumber</th>\n",
       "      <th>CustomerId</th>\n",
       "      <th>CreditScore</th>\n",
       "      <th>Age</th>\n",
       "      <th>Tenure</th>\n",
       "      <th>Balance</th>\n",
       "      <th>EstimatedSalary</th>\n",
       "    </tr>\n",
       "  </thead>\n",
       "  <tbody>\n",
       "    <tr>\n",
       "      <th>count</th>\n",
       "      <td>2037.000000</td>\n",
       "      <td>2.037000e+03</td>\n",
       "      <td>2037.000000</td>\n",
       "      <td>2037.000000</td>\n",
       "      <td>2037.000000</td>\n",
       "      <td>2037.000000</td>\n",
       "      <td>2037.000000</td>\n",
       "    </tr>\n",
       "    <tr>\n",
       "      <th>mean</th>\n",
       "      <td>4905.917526</td>\n",
       "      <td>1.569005e+07</td>\n",
       "      <td>645.351497</td>\n",
       "      <td>44.837997</td>\n",
       "      <td>4.932744</td>\n",
       "      <td>91108.539337</td>\n",
       "      <td>101465.677531</td>\n",
       "    </tr>\n",
       "    <tr>\n",
       "      <th>std</th>\n",
       "      <td>2866.855245</td>\n",
       "      <td>7.269262e+04</td>\n",
       "      <td>100.321503</td>\n",
       "      <td>9.761562</td>\n",
       "      <td>2.936106</td>\n",
       "      <td>58360.794816</td>\n",
       "      <td>57912.418071</td>\n",
       "    </tr>\n",
       "    <tr>\n",
       "      <th>min</th>\n",
       "      <td>1.000000</td>\n",
       "      <td>1.556571e+07</td>\n",
       "      <td>350.000000</td>\n",
       "      <td>18.000000</td>\n",
       "      <td>0.000000</td>\n",
       "      <td>0.000000</td>\n",
       "      <td>11.580000</td>\n",
       "    </tr>\n",
       "    <tr>\n",
       "      <th>25%</th>\n",
       "      <td>2419.000000</td>\n",
       "      <td>1.562736e+07</td>\n",
       "      <td>578.000000</td>\n",
       "      <td>38.000000</td>\n",
       "      <td>2.000000</td>\n",
       "      <td>38340.020000</td>\n",
       "      <td>51907.720000</td>\n",
       "    </tr>\n",
       "    <tr>\n",
       "      <th>50%</th>\n",
       "      <td>4871.000000</td>\n",
       "      <td>1.568896e+07</td>\n",
       "      <td>646.000000</td>\n",
       "      <td>45.000000</td>\n",
       "      <td>5.000000</td>\n",
       "      <td>109349.290000</td>\n",
       "      <td>102460.840000</td>\n",
       "    </tr>\n",
       "    <tr>\n",
       "      <th>75%</th>\n",
       "      <td>7404.000000</td>\n",
       "      <td>1.575309e+07</td>\n",
       "      <td>716.000000</td>\n",
       "      <td>51.000000</td>\n",
       "      <td>8.000000</td>\n",
       "      <td>131433.330000</td>\n",
       "      <td>152422.910000</td>\n",
       "    </tr>\n",
       "    <tr>\n",
       "      <th>max</th>\n",
       "      <td>9999.000000</td>\n",
       "      <td>1.581566e+07</td>\n",
       "      <td>850.000000</td>\n",
       "      <td>84.000000</td>\n",
       "      <td>10.000000</td>\n",
       "      <td>250898.090000</td>\n",
       "      <td>199808.100000</td>\n",
       "    </tr>\n",
       "  </tbody>\n",
       "</table>\n",
       "</div>"
      ],
      "text/plain": [
       "         RowNumber    CustomerId  CreditScore          Age       Tenure  \\\n",
       "count  2037.000000  2.037000e+03  2037.000000  2037.000000  2037.000000   \n",
       "mean   4905.917526  1.569005e+07   645.351497    44.837997     4.932744   \n",
       "std    2866.855245  7.269262e+04   100.321503     9.761562     2.936106   \n",
       "min       1.000000  1.556571e+07   350.000000    18.000000     0.000000   \n",
       "25%    2419.000000  1.562736e+07   578.000000    38.000000     2.000000   \n",
       "50%    4871.000000  1.568896e+07   646.000000    45.000000     5.000000   \n",
       "75%    7404.000000  1.575309e+07   716.000000    51.000000     8.000000   \n",
       "max    9999.000000  1.581566e+07   850.000000    84.000000    10.000000   \n",
       "\n",
       "             Balance  EstimatedSalary  \n",
       "count    2037.000000      2037.000000  \n",
       "mean    91108.539337    101465.677531  \n",
       "std     58360.794816     57912.418071  \n",
       "min         0.000000        11.580000  \n",
       "25%     38340.020000     51907.720000  \n",
       "50%    109349.290000    102460.840000  \n",
       "75%    131433.330000    152422.910000  \n",
       "max    250898.090000    199808.100000  "
      ]
     },
     "execution_count": 180,
     "metadata": {},
     "output_type": "execute_result"
    }
   ],
   "source": [
    "EDA_Data[EDA_Data['Exited']=='Exit'].describe()"
   ]
  },
  {
   "cell_type": "code",
   "execution_count": 181,
   "metadata": {},
   "outputs": [
    {
     "data": {
      "text/html": [
       "<div>\n",
       "<style scoped>\n",
       "    .dataframe tbody tr th:only-of-type {\n",
       "        vertical-align: middle;\n",
       "    }\n",
       "\n",
       "    .dataframe tbody tr th {\n",
       "        vertical-align: top;\n",
       "    }\n",
       "\n",
       "    .dataframe thead th {\n",
       "        text-align: right;\n",
       "    }\n",
       "</style>\n",
       "<table border=\"1\" class=\"dataframe\">\n",
       "  <thead>\n",
       "    <tr style=\"text-align: right;\">\n",
       "      <th></th>\n",
       "      <th>RowNumber</th>\n",
       "      <th>CustomerId</th>\n",
       "      <th>CreditScore</th>\n",
       "      <th>Age</th>\n",
       "      <th>Tenure</th>\n",
       "      <th>Balance</th>\n",
       "      <th>EstimatedSalary</th>\n",
       "    </tr>\n",
       "  </thead>\n",
       "  <tbody>\n",
       "    <tr>\n",
       "      <th>count</th>\n",
       "      <td>7963.000000</td>\n",
       "      <td>7.963000e+03</td>\n",
       "      <td>7963.000000</td>\n",
       "      <td>7963.000000</td>\n",
       "      <td>7963.000000</td>\n",
       "      <td>7963.000000</td>\n",
       "      <td>7963.000000</td>\n",
       "    </tr>\n",
       "    <tr>\n",
       "      <th>mean</th>\n",
       "      <td>5024.694964</td>\n",
       "      <td>1.569117e+07</td>\n",
       "      <td>651.853196</td>\n",
       "      <td>37.408389</td>\n",
       "      <td>5.033279</td>\n",
       "      <td>72745.296779</td>\n",
       "      <td>99738.391772</td>\n",
       "    </tr>\n",
       "    <tr>\n",
       "      <th>std</th>\n",
       "      <td>2891.682053</td>\n",
       "      <td>7.174423e+04</td>\n",
       "      <td>95.653837</td>\n",
       "      <td>10.125363</td>\n",
       "      <td>2.880658</td>\n",
       "      <td>62848.040701</td>\n",
       "      <td>57405.586966</td>\n",
       "    </tr>\n",
       "    <tr>\n",
       "      <th>min</th>\n",
       "      <td>2.000000</td>\n",
       "      <td>1.556570e+07</td>\n",
       "      <td>405.000000</td>\n",
       "      <td>18.000000</td>\n",
       "      <td>0.000000</td>\n",
       "      <td>0.000000</td>\n",
       "      <td>90.070000</td>\n",
       "    </tr>\n",
       "    <tr>\n",
       "      <th>25%</th>\n",
       "      <td>2526.500000</td>\n",
       "      <td>1.562882e+07</td>\n",
       "      <td>585.000000</td>\n",
       "      <td>31.000000</td>\n",
       "      <td>3.000000</td>\n",
       "      <td>0.000000</td>\n",
       "      <td>50783.490000</td>\n",
       "    </tr>\n",
       "    <tr>\n",
       "      <th>50%</th>\n",
       "      <td>5042.000000</td>\n",
       "      <td>1.569154e+07</td>\n",
       "      <td>653.000000</td>\n",
       "      <td>36.000000</td>\n",
       "      <td>5.000000</td>\n",
       "      <td>92072.680000</td>\n",
       "      <td>99645.040000</td>\n",
       "    </tr>\n",
       "    <tr>\n",
       "      <th>75%</th>\n",
       "      <td>7525.500000</td>\n",
       "      <td>1.575335e+07</td>\n",
       "      <td>718.000000</td>\n",
       "      <td>41.000000</td>\n",
       "      <td>7.000000</td>\n",
       "      <td>126410.280000</td>\n",
       "      <td>148609.955000</td>\n",
       "    </tr>\n",
       "    <tr>\n",
       "      <th>max</th>\n",
       "      <td>10000.000000</td>\n",
       "      <td>1.581569e+07</td>\n",
       "      <td>850.000000</td>\n",
       "      <td>92.000000</td>\n",
       "      <td>10.000000</td>\n",
       "      <td>221532.800000</td>\n",
       "      <td>199992.480000</td>\n",
       "    </tr>\n",
       "  </tbody>\n",
       "</table>\n",
       "</div>"
      ],
      "text/plain": [
       "          RowNumber    CustomerId  CreditScore          Age       Tenure  \\\n",
       "count   7963.000000  7.963000e+03  7963.000000  7963.000000  7963.000000   \n",
       "mean    5024.694964  1.569117e+07   651.853196    37.408389     5.033279   \n",
       "std     2891.682053  7.174423e+04    95.653837    10.125363     2.880658   \n",
       "min        2.000000  1.556570e+07   405.000000    18.000000     0.000000   \n",
       "25%     2526.500000  1.562882e+07   585.000000    31.000000     3.000000   \n",
       "50%     5042.000000  1.569154e+07   653.000000    36.000000     5.000000   \n",
       "75%     7525.500000  1.575335e+07   718.000000    41.000000     7.000000   \n",
       "max    10000.000000  1.581569e+07   850.000000    92.000000    10.000000   \n",
       "\n",
       "             Balance  EstimatedSalary  \n",
       "count    7963.000000      7963.000000  \n",
       "mean    72745.296779     99738.391772  \n",
       "std     62848.040701     57405.586966  \n",
       "min         0.000000        90.070000  \n",
       "25%         0.000000     50783.490000  \n",
       "50%     92072.680000     99645.040000  \n",
       "75%    126410.280000    148609.955000  \n",
       "max    221532.800000    199992.480000  "
      ]
     },
     "execution_count": 181,
     "metadata": {},
     "output_type": "execute_result"
    }
   ],
   "source": [
    "EDA_Data[EDA_Data['Exited']=='Not Exit'].describe()"
   ]
  },
  {
   "cell_type": "code",
   "execution_count": 182,
   "metadata": {},
   "outputs": [
    {
     "data": {
      "text/plain": [
       "<matplotlib.axes._subplots.AxesSubplot at 0x1b8c635bb48>"
      ]
     },
     "execution_count": 182,
     "metadata": {},
     "output_type": "execute_result"
    },
    {
     "data": {
      "image/png": "[encoded data removed]",
      "text/plain": [
       "<Figure size 432x288 with 1 Axes>"
      ]
     },
     "metadata": {
      "needs_background": "light"
     },
     "output_type": "display_data"
    }
   ],
   "source": [
    "sns.distplot(a=EDA_Data['Age'],kde=False)"
   ]
  },
  {
   "cell_type": "code",
   "execution_count": 183,
   "metadata": {},
   "outputs": [],
   "source": [
    "def age_gp(a):\n",
    "    if a>=18 and a<30:\n",
    "        return 'Gp1'\n",
    "    elif a>=30 and a<40:\n",
    "        return 'Gp2'\n",
    "    elif a>=40 and a<50:\n",
    "        return 'Gp3'\n",
    "    elif a>=50:\n",
    "        return 'Gp4'"
   ]
  },
  {
   "cell_type": "code",
   "execution_count": 184,
   "metadata": {},
   "outputs": [],
   "source": [
    "X1_c['Age_group']=X1_n['Age'].apply(age_gp)"
   ]
  },
  {
   "cell_type": "code",
   "execution_count": 185,
   "metadata": {},
   "outputs": [
    {
     "data": {
      "text/html": [
       "<div>\n",
       "<style scoped>\n",
       "    .dataframe tbody tr th:only-of-type {\n",
       "        vertical-align: middle;\n",
       "    }\n",
       "\n",
       "    .dataframe tbody tr th {\n",
       "        vertical-align: top;\n",
       "    }\n",
       "\n",
       "    .dataframe thead th {\n",
       "        text-align: right;\n",
       "    }\n",
       "</style>\n",
       "<table border=\"1\" class=\"dataframe\">\n",
       "  <thead>\n",
       "    <tr style=\"text-align: right;\">\n",
       "      <th></th>\n",
       "      <th>Geography</th>\n",
       "      <th>Gender</th>\n",
       "      <th>NumOfProducts</th>\n",
       "      <th>IsActiveMember</th>\n",
       "      <th>Age_group</th>\n",
       "    </tr>\n",
       "  </thead>\n",
       "  <tbody>\n",
       "    <tr>\n",
       "      <th>0</th>\n",
       "      <td>France</td>\n",
       "      <td>Female</td>\n",
       "      <td>1</td>\n",
       "      <td>Active Member</td>\n",
       "      <td>Gp3</td>\n",
       "    </tr>\n",
       "    <tr>\n",
       "      <th>1</th>\n",
       "      <td>Spain</td>\n",
       "      <td>Female</td>\n",
       "      <td>1</td>\n",
       "      <td>Active Member</td>\n",
       "      <td>Gp3</td>\n",
       "    </tr>\n",
       "    <tr>\n",
       "      <th>2</th>\n",
       "      <td>France</td>\n",
       "      <td>Female</td>\n",
       "      <td>3</td>\n",
       "      <td>Inactive Member</td>\n",
       "      <td>Gp3</td>\n",
       "    </tr>\n",
       "  </tbody>\n",
       "</table>\n",
       "</div>"
      ],
      "text/plain": [
       "  Geography  Gender NumOfProducts   IsActiveMember Age_group\n",
       "0    France  Female             1    Active Member       Gp3\n",
       "1     Spain  Female             1    Active Member       Gp3\n",
       "2    France  Female             3  Inactive Member       Gp3"
      ]
     },
     "execution_count": 185,
     "metadata": {},
     "output_type": "execute_result"
    }
   ],
   "source": [
    "X1_c.head(3)"
   ]
  },
  {
   "cell_type": "code",
   "execution_count": 186,
   "metadata": {},
   "outputs": [
    {
     "data": {
      "text/plain": [
       "<matplotlib.axes._subplots.AxesSubplot at 0x1b8c77dc948>"
      ]
     },
     "execution_count": 186,
     "metadata": {},
     "output_type": "execute_result"
    },
    {
     "data": {
      "image/png": "[encoded data removed]",
      "text/plain": [
       "<Figure size 432x288 with 1 Axes>"
      ]
     },
     "metadata": {
      "needs_background": "light"
     },
     "output_type": "display_data"
    }
   ],
   "source": [
    "sns.distplot(a=EDA_Data['Tenure'],kde=False)"
   ]
  },
  {
   "cell_type": "code",
   "execution_count": 187,
   "metadata": {},
   "outputs": [],
   "source": [
    "X1_c['Tenure_group']=X1_n['Tenure'].astype('str')"
   ]
  },
  {
   "cell_type": "code",
   "execution_count": 188,
   "metadata": {},
   "outputs": [
    {
     "data": {
      "text/plain": [
       "<matplotlib.axes._subplots.AxesSubplot at 0x1b8c7921588>"
      ]
     },
     "execution_count": 188,
     "metadata": {},
     "output_type": "execute_result"
    },
    {
     "data": {
      "image/png": "[encoded data removed]",
      "text/plain": [
       "<Figure size 432x288 with 1 Axes>"
      ]
     },
     "metadata": {
      "needs_background": "light"
     },
     "output_type": "display_data"
    }
   ],
   "source": [
    "sns.distplot(a=EDA_Data['Balance'],kde=False)"
   ]
  },
  {
   "cell_type": "code",
   "execution_count": 189,
   "metadata": {},
   "outputs": [],
   "source": [
    "X1_c['Balance_Group']=X1_n['Balance'].apply(lambda x: 'Without Balance' if x==0 else 'With Balance')"
   ]
  },
  {
   "cell_type": "code",
   "execution_count": 190,
   "metadata": {},
   "outputs": [],
   "source": [
    "## As All of X's are Catergorical Data, only need transfer them to Binary Dataa"
   ]
  },
  {
   "cell_type": "code",
   "execution_count": 191,
   "metadata": {},
   "outputs": [],
   "source": [
    "X1_c2=pd.get_dummies(X1_c)\n",
    "y=EDA_Data['Exited'].apply(lambda x: 1 if x=='Exit' else 0)"
   ]
  },
  {
   "cell_type": "code",
   "execution_count": 192,
   "metadata": {},
   "outputs": [],
   "source": [
    "from sklearn.model_selection import train_test_split\n",
    "X_train, X_test, y_train, y_test = train_test_split(X1_c2, y, test_size=0.2, random_state=42)"
   ]
  },
  {
   "cell_type": "code",
   "execution_count": 193,
   "metadata": {},
   "outputs": [
    {
     "data": {
      "text/plain": [
       "0.8585"
      ]
     },
     "execution_count": 193,
     "metadata": {},
     "output_type": "execute_result"
    }
   ],
   "source": [
    "from sklearn.linear_model import LogisticRegression\n",
    "clf = LogisticRegression(random_state=42).fit(X_train, y_train)\n",
    "y_pred=clf.predict(X_test)\n",
    "s2_1_y_pred=y_pred\n",
    "clf.score(X_test, y_test)"
   ]
  },
  {
   "cell_type": "code",
   "execution_count": 194,
   "metadata": {},
   "outputs": [
    {
     "name": "stdout",
     "output_type": "stream",
     "text": [
      " Accuracy Score: 0.859 \n",
      " Recall Score: 0.433 \n",
      " Precision Score: 0.739 \n",
      " F1 Score Score: 0.546\n"
     ]
    }
   ],
   "source": [
    "print(' Accuracy Score: %.3f' % accuracy_score(y_test, y_pred) ,'\\n', \n",
    "      'Recall Score: %.3f' % recall_score(y_test, y_pred) ,'\\n', #True Postive out of Actual Postive\n",
    "      'Precision Score: %.3f' % precision_score(y_test, y_pred) ,'\\n', #True Postive out of Predicted Postive\n",
    "      'F1 Score Score: %.3f' % f1_score(y_test, y_pred) ) #Close to 1 is better; Close to 0 is worse"
   ]
  },
  {
   "cell_type": "code",
   "execution_count": 195,
   "metadata": {},
   "outputs": [
    {
     "data": {
      "text/plain": [
       "0.8585"
      ]
     },
     "execution_count": 195,
     "metadata": {},
     "output_type": "execute_result"
    }
   ],
   "source": [
    "from sklearn.svm import SVC\n",
    "clf = SVC(random_state=42)\n",
    "svc=clf.fit(X_train, y_train)\n",
    "y_pred=svc.predict(X_test)\n",
    "s2_2_y_pred=y_pred\n",
    "svc.score(X_test, y_test)"
   ]
  },
  {
   "cell_type": "code",
   "execution_count": 196,
   "metadata": {},
   "outputs": [
    {
     "name": "stdout",
     "output_type": "stream",
     "text": [
      " Accuracy Score: 0.859 \n",
      " Recall Score: 0.427 \n",
      " Precision Score: 0.743 \n",
      " F1 Score Score: 0.543\n"
     ]
    }
   ],
   "source": [
    "print(' Accuracy Score: %.3f' % accuracy_score(y_test, y_pred) ,'\\n', \n",
    "      'Recall Score: %.3f' % recall_score(y_test, y_pred) ,'\\n', #True Postive out of Actual Postive\n",
    "      'Precision Score: %.3f' % precision_score(y_test, y_pred) ,'\\n', #True Postive out of Predicted Postive\n",
    "      'F1 Score Score: %.3f' % f1_score(y_test, y_pred) ) #Close to 1 is better; Close to 0 is worse"
   ]
  },
  {
   "cell_type": "code",
   "execution_count": 197,
   "metadata": {},
   "outputs": [
    {
     "data": {
      "text/plain": [
       "0.841"
      ]
     },
     "execution_count": 197,
     "metadata": {},
     "output_type": "execute_result"
    }
   ],
   "source": [
    "from sklearn.ensemble import RandomForestClassifier\n",
    "clf = RandomForestClassifier(random_state=42)\n",
    "clf.fit(X_train, y_train)\n",
    "y_pred=clf.predict(X_test)\n",
    "s2_3_y_pred=y_pred\n",
    "clf.score(X_test, y_test)"
   ]
  },
  {
   "cell_type": "code",
   "execution_count": 198,
   "metadata": {},
   "outputs": [
    {
     "name": "stdout",
     "output_type": "stream",
     "text": [
      " Accuracy Score: 0.841 \n",
      " Recall Score: 0.455 \n",
      " Precision Score: 0.633 \n",
      " F1 Score Score: 0.530\n"
     ]
    }
   ],
   "source": [
    "print(' Accuracy Score: %.3f' % accuracy_score(y_test, y_pred) ,'\\n', \n",
    "      'Recall Score: %.3f' % recall_score(y_test, y_pred) ,'\\n', #True Postive out of Actual Postive\n",
    "      'Precision Score: %.3f' % precision_score(y_test, y_pred) ,'\\n', #True Postive out of Predicted Postive\n",
    "      'F1 Score Score: %.3f' % f1_score(y_test, y_pred) ) #Close to 1 is better; Close to 0 is worse"
   ]
  },
  {
   "cell_type": "code",
   "execution_count": 199,
   "metadata": {},
   "outputs": [
    {
     "data": {
      "text/plain": [
       "0.4895"
      ]
     },
     "execution_count": 199,
     "metadata": {},
     "output_type": "execute_result"
    }
   ],
   "source": [
    "import xgboost as xgb\n",
    "dtrain = xgb.DMatrix(data = X_train, label = y_train) \n",
    "dtest = xgb.DMatrix(data = X_test, label = y_test) \n",
    "# specify parameters via map\n",
    "param = {'max_depth':6, 'eta':0.3, 'objective':'binary:hinge' }\n",
    "num_round = 2\n",
    "bst = xgb.train(param, dtrain, num_round)\n",
    "# make prediction\n",
    "y_pred = bst.predict(dtest)\n",
    "s2_4_y_pred=y_pred\n",
    "accuracy_score(y_test,y_pred)"
   ]
  },
  {
   "cell_type": "code",
   "execution_count": 200,
   "metadata": {},
   "outputs": [
    {
     "name": "stdout",
     "output_type": "stream",
     "text": [
      " Accuracy Score: 0.489 \n",
      " Recall Score: 0.939 \n",
      " Precision Score: 0.270 \n",
      " F1 Score Score: 0.420\n"
     ]
    }
   ],
   "source": [
    "print(' Accuracy Score: %.3f' % accuracy_score(y_test, y_pred) ,'\\n', \n",
    "      'Recall Score: %.3f' % recall_score(y_test, y_pred) ,'\\n', #True Postive out of Actual Postive\n",
    "      'Precision Score: %.3f' % precision_score(y_test, y_pred) ,'\\n', #True Postive out of Predicted Postive\n",
    "      'F1 Score Score: %.3f' % f1_score(y_test, y_pred) ) #Close to 1 is better; Close to 0 is worse"
   ]
  },
  {
   "cell_type": "code",
   "execution_count": 201,
   "metadata": {},
   "outputs": [
    {
     "data": {
      "image/png": "[encoded data removed]",
      "text/plain": [
       "<Figure size 432x288 with 1 Axes>"
      ]
     },
     "metadata": {
      "needs_background": "light"
     },
     "output_type": "display_data"
    }
   ],
   "source": [
    "import sklearn.metrics as metrics\n",
    "# calculate the fpr and tpr for all thresholds of the classification\n",
    "probs = clf.predict_proba(X_test)\n",
    "preds = probs[:,1]\n",
    "\n",
    "\n",
    "fpr11, tpr11, threshold = metrics.roc_curve(y_test, s1_1_y_pred)\n",
    "roc_auc11 = metrics.auc(fpr11, tpr11)\n",
    "fpr12, tpr12, threshold = metrics.roc_curve(y_test, s1_2_y_pred)\n",
    "roc_auc12 = metrics.auc(fpr12, tpr12)\n",
    "fpr13, tpr13, threshold = metrics.roc_curve(y_test, s1_3_y_pred)\n",
    "roc_auc13 = metrics.auc(fpr13, tpr13)\n",
    "fpr14, tpr14, threshold = metrics.roc_curve(y_test, s1_4_y_pred)\n",
    "roc_auc14 = metrics.auc(fpr14, tpr14)\n",
    "\n",
    "\n",
    "# method I: plt\n",
    "import matplotlib.pyplot as plt\n",
    "plt.title('Set 1 Model AUC-ROC')\n",
    "plt.plot(fpr11, tpr11, 'b', label = 'AUC = %0.2f logistic' % roc_auc11)\n",
    "plt.plot(fpr12, tpr12, 'r', label = 'AUC = %0.2f svc' % roc_auc12)\n",
    "plt.plot(fpr13, tpr13, 'y', label = 'AUC = %0.2f RF' % roc_auc13)\n",
    "plt.plot(fpr14, tpr14, 'g', label = 'AUC = %0.2f XGB' % roc_auc14)\n",
    "\n",
    "plt.legend(loc = 'lower right')\n",
    "plt.plot([0, 1], [0, 1],'r--')\n",
    "plt.xlim([0, 1])\n",
    "plt.ylim([0, 1])\n",
    "plt.ylabel('True Positive Rate')\n",
    "plt.xlabel('False Positive Rate')\n",
    "plt.show()"
   ]
  },
  {
   "cell_type": "code",
   "execution_count": 202,
   "metadata": {},
   "outputs": [
    {
     "data": {
      "image/png": "[encoded data removed]",
      "text/plain": [
       "<Figure size 432x288 with 1 Axes>"
      ]
     },
     "metadata": {
      "needs_background": "light"
     },
     "output_type": "display_data"
    }
   ],
   "source": [
    "import sklearn.metrics as metrics\n",
    "# calculate the fpr and tpr for all thresholds of the classification\n",
    "probs = clf.predict_proba(X_test)\n",
    "preds = probs[:,1]\n",
    "\n",
    "\n",
    "fpr21, tpr21, threshold = metrics.roc_curve(y_test, s2_1_y_pred)\n",
    "roc_auc21 = metrics.auc(fpr21, tpr21)\n",
    "fpr22, tpr22, threshold = metrics.roc_curve(y_test, s2_2_y_pred)\n",
    "roc_auc22 = metrics.auc(fpr22, tpr22)\n",
    "fpr23, tpr23, threshold = metrics.roc_curve(y_test, s2_3_y_pred)\n",
    "roc_auc23 = metrics.auc(fpr23, tpr23)\n",
    "fpr24, tpr24, threshold = metrics.roc_curve(y_test, s2_4_y_pred)\n",
    "roc_auc24 = metrics.auc(fpr24, tpr24)\n",
    "\n",
    "\n",
    "# method I: plt\n",
    "import matplotlib.pyplot as plt\n",
    "plt.title('Set 2 Model AUC-ROC')\n",
    "plt.plot(fpr11, tpr21, 'b', label = 'AUC = %0.2f logistic' % roc_auc21)\n",
    "plt.plot(fpr12, tpr22, 'r', label = 'AUC = %0.2f svm' % roc_auc22)\n",
    "plt.plot(fpr13, tpr23, 'y', label = 'AUC = %0.2f RF' % roc_auc23)\n",
    "plt.plot(fpr14, tpr24, 'g', label = 'AUC = %0.2f XGB' % roc_auc24)\n",
    "\n",
    "plt.legend(loc = 'lower right')\n",
    "plt.plot([0, 1], [0, 1],'r--')\n",
    "plt.xlim([0, 1])\n",
    "plt.ylim([0, 1])\n",
    "plt.ylabel('True Positive Rate')\n",
    "plt.xlabel('False Positive Rate')\n",
    "plt.show()"
   ]
  },
  {
   "cell_type": "markdown",
   "metadata": {},
   "source": [
    "#### We can see that the best model among Set 1 and Set 2 is 'Random Forest in Set 1'\n",
    "#### SVM, Random Forest and XGBoosting perform better in Set 1; while Logistic Regression perform better in Set 2\n",
    "#### However, for building a Churn Model, it is more important to predict customer who will leave rather than the overall accuracy of the model.\n",
    "#### Let's think carefully: \n",
    "#### For Type I error, which is the error to predict the customer who exit, but actually he/she doesn't. \n",
    "#### For Type II error, which is the error to predict the customer who not exist, but actually he/she does.\n",
    "#### Which error is more serious? It should be Type II error.\n",
    "#### For Type I error case, if we predict wrongly, we may raise some cost/resource to retain a customer who actually will stay.\n",
    "#### For Type II error case, if we predict wrongly, we may take no action to the customer and the customer will therefore leave.\n",
    "#### Therefore, Recall Score is much more important than Accuracy Score.\n",
    "#### Before select which model to be used, let's fine tune our model!"
   ]
  },
  {
   "cell_type": "markdown",
   "metadata": {},
   "source": [
    "## Hyperparameter Tuning - Set 1"
   ]
  },
  {
   "cell_type": "code",
   "execution_count": 203,
   "metadata": {},
   "outputs": [],
   "source": [
    "from sklearn.model_selection import GridSearchCV"
   ]
  },
  {
   "cell_type": "code",
   "execution_count": 204,
   "metadata": {},
   "outputs": [],
   "source": [
    "X=pd.concat([X0_c,X0_n1],axis=1)\n",
    "y=EDA_Data['Exited'].apply(lambda x: 1 if x=='Exit' else 0)"
   ]
  },
  {
   "cell_type": "code",
   "execution_count": 205,
   "metadata": {},
   "outputs": [],
   "source": [
    "from sklearn.model_selection import train_test_split\n",
    "X_train, X_test, y_train, y_test = train_test_split(X, y, test_size=0.2, random_state=42)"
   ]
  },
  {
   "cell_type": "code",
   "execution_count": 206,
   "metadata": {},
   "outputs": [
    {
     "name": "stdout",
     "output_type": "stream",
     "text": [
      " Accuracy Score: 0.843 \n",
      " Recall Score: 0.364 \n",
      " Precision Score: 0.691 \n",
      " F1 Score Score: 0.477\n"
     ]
    }
   ],
   "source": [
    "from sklearn.linear_model import LogisticRegression\n",
    "\n",
    "clf =  LogisticRegression(random_state=42,C=1)\n",
    "'''\n",
    "param_grid = [\n",
    "  #{'solver': ['newton-cg','sag','lbfgs' ],'penalty':['l2']}]\n",
    "  {'solver': ['liblinear','saga'],'penalty':['l1']}]\n",
    "search = GridSearchCV(clf, param_grid, cv=5)\n",
    "lr=search.fit(X_train, y_train)\n",
    "'''\n",
    "lr=clf.fit(X_train, y_train)\n",
    "y_pred=lr.predict(X_test)\n",
    "lr.score(X_test, y_test) \n",
    "\n",
    "print(' Accuracy Score: %.3f' % accuracy_score(y_test, y_pred) ,'\\n', \n",
    "      'Recall Score: %.3f' % recall_score(y_test, y_pred) ,'\\n', #True Postive out of Actual Postive\n",
    "      'Precision Score: %.3f' % precision_score(y_test, y_pred) ,'\\n', #True Postive out of Predicted Postive\n",
    "      'F1 Score Score: %.3f' % f1_score(y_test, y_pred) ) #Close to 1 is better; Close to 0 is worse\n",
    "\n",
    "#search.cv_results_"
   ]
  },
  {
   "cell_type": "code",
   "execution_count": 207,
   "metadata": {},
   "outputs": [
    {
     "data": {
      "text/plain": [
       "0.865"
      ]
     },
     "execution_count": 207,
     "metadata": {},
     "output_type": "execute_result"
    }
   ],
   "source": [
    "from sklearn.svm import SVC\n",
    "clf = SVC(random_state=42)\n",
    "param_grid = [\n",
    "  {'C': [0.01,0.1,1,10], 'kernel': ['rbf','sigmoid']}]\n",
    "search = GridSearchCV(clf, param_grid, cv=5)\n",
    "svc=search.fit(X_train, y_train)\n",
    "y_pred=svc.predict(X_test)\n",
    "svc.score(X_test, y_test) #Base on result, use  {'C': 10, 'kernel': 'rbf'} or  {'C': 1, 'kernel': 'rbf'} is better\n",
    "#search.cv_results_"
   ]
  },
  {
   "cell_type": "code",
   "execution_count": 208,
   "metadata": {},
   "outputs": [
    {
     "name": "stdout",
     "output_type": "stream",
     "text": [
      " Accuracy Score: 0.865 \n",
      " Recall Score: 0.476 \n",
      " Precision Score: 0.745 \n",
      " F1 Score Score: 0.581\n"
     ]
    }
   ],
   "source": [
    "from sklearn.svm import SVC\n",
    "clf = SVC(random_state=42,C= 10,kernel='rbf')\n",
    "svc=clf.fit(X_train, y_train)\n",
    "y_pred=svc.predict(X_test)\n",
    "svc.score(X_test, y_test) #Base on result, use  {'C': 10, 'kernel': 'rbf'} or  {'C': 1, 'kernel': 'rbf'} is better\n",
    "\n",
    "print(' Accuracy Score: %.3f' % accuracy_score(y_test, y_pred) ,'\\n', \n",
    "      'Recall Score: %.3f' % recall_score(y_test, y_pred) ,'\\n', #True Postive out of Actual Postive\n",
    "      'Precision Score: %.3f' % precision_score(y_test, y_pred) ,'\\n', #True Postive out of Predicted Postive\n",
    "      'F1 Score Score: %.3f' % f1_score(y_test, y_pred) ) #Close to 1 is better; Close to 0 is worse"
   ]
  },
  {
   "cell_type": "code",
   "execution_count": 209,
   "metadata": {},
   "outputs": [
    {
     "name": "stdout",
     "output_type": "stream",
     "text": [
      " Accuracy Score: 0.869 \n",
      " Recall Score: 0.491 \n",
      " Precision Score: 0.754 \n",
      " F1 Score Score: 0.595\n"
     ]
    }
   ],
   "source": [
    "from sklearn.ensemble import RandomForestClassifier\n",
    "clf = RandomForestClassifier(random_state=42)\n",
    "param_grid = [\n",
    "  {'n_estimators' : [140,150,160,170,180,190,200]}]\n",
    "search = GridSearchCV(clf, param_grid, cv=5)\n",
    "clf=search.fit(X_train, y_train)\n",
    "y_pred=clf.predict(X_test)\n",
    "\n",
    "clf.score(X_test, y_test)\n",
    "print(' Accuracy Score: %.3f' % accuracy_score(y_test, y_pred) ,'\\n', \n",
    "      'Recall Score: %.3f' % recall_score(y_test, y_pred) ,'\\n', #True Postive out of Actual Postive\n",
    "      'Precision Score: %.3f' % precision_score(y_test, y_pred) ,'\\n', #True Postive out of Predicted Postive\n",
    "      'F1 Score Score: %.3f' % f1_score(y_test, y_pred) ) #Close to 1 is better; Close to 0 is worse\n",
    "\n",
    "#search.cv_results_  #Seems that 160 is better"
   ]
  },
  {
   "cell_type": "code",
   "execution_count": 210,
   "metadata": {},
   "outputs": [
    {
     "name": "stdout",
     "output_type": "stream",
     "text": [
      " Accuracy Score: 0.865 \n",
      " Recall Score: 0.478 \n",
      " Precision Score: 0.743 \n",
      " F1 Score Score: 0.582\n"
     ]
    }
   ],
   "source": [
    "import xgboost as xgb\n",
    "dtrain = xgb.DMatrix(data = X_train, label = y_train) \n",
    "dtest = xgb.DMatrix(data = X_test, label = y_test) \n",
    "# specify parameters via map\n",
    "param = {'max_depth':4, 'eta':0.7, 'objective':'binary:hinge' }\n",
    "num_round = 20\n",
    "bst = xgb.train(param, dtrain, num_round)\n",
    "# make prediction\n",
    "y_pred = bst.predict(dtest)\n",
    "accuracy_score(y_test,y_pred)\n",
    "\n",
    "print(' Accuracy Score: %.3f' % accuracy_score(y_test, y_pred) ,'\\n', \n",
    "      'Recall Score: %.3f' % recall_score(y_test, y_pred) ,'\\n', #True Postive out of Actual Postive\n",
    "      'Precision Score: %.3f' % precision_score(y_test, y_pred) ,'\\n', #True Postive out of Predicted Postive\n",
    "      'F1 Score Score: %.3f' % f1_score(y_test, y_pred) ) #Close to 1 is better; Close to 0 is worse"
   ]
  },
  {
   "cell_type": "markdown",
   "metadata": {},
   "source": [
    "## Hyperparameter Tuning - Set 2"
   ]
  },
  {
   "cell_type": "code",
   "execution_count": 211,
   "metadata": {},
   "outputs": [],
   "source": [
    "X1_c2=pd.get_dummies(X1_c)\n",
    "y=EDA_Data['Exited'].apply(lambda x: 1 if x=='Exit' else 0)"
   ]
  },
  {
   "cell_type": "code",
   "execution_count": 212,
   "metadata": {},
   "outputs": [],
   "source": [
    "from sklearn.model_selection import train_test_split\n",
    "X_train, X_test, y_train, y_test = train_test_split(X1_c2, y, test_size=0.2, random_state=42)"
   ]
  },
  {
   "cell_type": "code",
   "execution_count": 213,
   "metadata": {},
   "outputs": [
    {
     "name": "stdout",
     "output_type": "stream",
     "text": [
      " Accuracy Score: 0.859 \n",
      " Recall Score: 0.433 \n",
      " Precision Score: 0.739 \n",
      " F1 Score Score: 0.546\n"
     ]
    }
   ],
   "source": [
    "from sklearn.linear_model import LogisticRegression\n",
    "clf = LogisticRegression(random_state=42,C=1)\n",
    "\n",
    "'''\n",
    "param_grid = [\n",
    "   #{'solver': ['newton-cg','sag','lbfgs' ],'C':[0.01,0.1,1,10]}] \n",
    "  #{'solver': ['newton-cg','sag','lbfgs' ],'penalty':['l2']}]\n",
    "  #{'solver': ['liblinear','saga'],'penalty':['l1']}]\n",
    "search = GridSearchCV(clf, param_grid, cv=5)\n",
    "'''\n",
    "\n",
    "lr=clf.fit(X_train, y_train)\n",
    "y_pred=lr.predict(X_test)\n",
    "lr.score(X_test, y_test) \n",
    "\n",
    "print(' Accuracy Score: %.3f' % accuracy_score(y_test, y_pred) ,'\\n', \n",
    "      'Recall Score: %.3f' % recall_score(y_test, y_pred) ,'\\n', #True Postive out of Actual Postive\n",
    "      'Precision Score: %.3f' % precision_score(y_test, y_pred) ,'\\n', #True Postive out of Predicted Postive\n",
    "      'F1 Score Score: %.3f' % f1_score(y_test, y_pred) ) #Close to 1 is better; Close to 0 is worse\n",
    "\n",
    "#search.cv_results_  (No much Change)"
   ]
  },
  {
   "cell_type": "code",
   "execution_count": 216,
   "metadata": {},
   "outputs": [
    {
     "name": "stdout",
     "output_type": "stream",
     "text": [
      " Accuracy Score: 0.859 \n",
      " Recall Score: 0.427 \n",
      " Precision Score: 0.743 \n",
      " F1 Score Score: 0.543\n"
     ]
    }
   ],
   "source": [
    "from sklearn.svm import SVC\n",
    "\n",
    "clf = SVC(random_state=42,C=1,kernel='rbf',gamma='scale')\n",
    "\n",
    "'''\n",
    "param_grid = [\n",
    "  #{'C': [0.01,0.1,1,10], 'kernel': ['rbf','sigmoid']}]\n",
    "  #{'C': [0.01,0.1,1,10], 'kernel': ['rbf'],'gamma':['scale','auto']}]\n",
    "\n",
    "search = GridSearchCV(clf, param_grid, cv=5)\n",
    "svc=search.fit(X_train, y_train)\n",
    "y_pred=svc.predict(X_test)\n",
    "'''\n",
    "\n",
    "svc=clf.fit(X_train, y_train)\n",
    "y_pred=svc.predict(X_test)\n",
    "s2_2_y_pred=y_pred\n",
    "svc.score(X_test, y_test)\n",
    "print(' Accuracy Score: %.3f' % accuracy_score(y_test, y_pred) ,'\\n', \n",
    "      'Recall Score: %.3f' % recall_score(y_test, y_pred) ,'\\n', #True Postive out of Actual Postive\n",
    "      'Precision Score: %.3f' % precision_score(y_test, y_pred) ,'\\n', #True Postive out of Predicted Postive\n",
    "      'F1 Score Score: %.3f' % f1_score(y_test, y_pred) ) #Close to 1 is better; Close to 0 is worse\n",
    "\n",
    "#search.cv_results_  #( auto rbf is better)"
   ]
  },
  {
   "cell_type": "code",
   "execution_count": 217,
   "metadata": {},
   "outputs": [
    {
     "name": "stdout",
     "output_type": "stream",
     "text": [
      " Accuracy Score: 0.862 \n",
      " Recall Score: 0.415 \n",
      " Precision Score: 0.780 \n",
      " F1 Score Score: 0.542\n"
     ]
    }
   ],
   "source": [
    "from sklearn.ensemble import RandomForestClassifier\n",
    "\n",
    "clf = RandomForestClassifier(random_state=42)\n",
    "param_grid = [\n",
    "  #{'n_estimators' : [100,150,200],'max_depth':[5,10,15]}]\n",
    "  #{'n_estimators' : [100,110,120,130,140,150],'max_depth':[5,6,7,8,9,10]}]\n",
    "  {'n_estimators' : [100,110,120,130,140,150],'max_depth':[9,10]}]\n",
    "search = GridSearchCV(clf, param_grid, cv=5)\n",
    "clf=search.fit(X_train, y_train)\n",
    "y_pred=clf.predict(X_test)\n",
    "\n",
    "clf.fit(X_train, y_train)\n",
    "y_pred=clf.predict(X_test)\n",
    "clf.score(X_test, y_test)\n",
    "\n",
    "print(' Accuracy Score: %.3f' % accuracy_score(y_test, y_pred) ,'\\n', \n",
    "      'Recall Score: %.3f' % recall_score(y_test, y_pred) ,'\\n', #True Postive out of Actual Postive\n",
    "      'Precision Score: %.3f' % precision_score(y_test, y_pred) ,'\\n', #True Postive out of Predicted Postive\n",
    "      'F1 Score Score: %.3f' % f1_score(y_test, y_pred) ) #Close to 1 is better; Close to 0 is worse\n",
    "\n",
    "#search.cv_results_"
   ]
  },
  {
   "cell_type": "code",
   "execution_count": 228,
   "metadata": {},
   "outputs": [
    {
     "name": "stdout",
     "output_type": "stream",
     "text": [
      " Accuracy Score: 0.860 \n",
      " Recall Score: 0.420 \n",
      " Precision Score: 0.760 \n",
      " F1 Score Score: 0.541\n"
     ]
    }
   ],
   "source": [
    "import xgboost as xgb\n",
    "dtrain = xgb.DMatrix(data = X_train, label = y_train) \n",
    "dtest = xgb.DMatrix(data = X_test, label = y_test) \n",
    "# specify parameters via map\n",
    "param = {'max_depth':4, 'eta':0.05,'gamma':0.1,'objective':'binary:hinge' }\n",
    "num_round = 100\n",
    "bst = xgb.train(param, dtrain, num_round)\n",
    "# make prediction\n",
    "y_pred = bst.predict(dtest)\n",
    "accuracy_score(y_test,y_pred)\n",
    "\n",
    "print(' Accuracy Score: %.3f' % accuracy_score(y_test, y_pred) ,'\\n', \n",
    "      'Recall Score: %.3f' % recall_score(y_test, y_pred) ,'\\n', #True Postive out of Actual Postive\n",
    "      'Precision Score: %.3f' % precision_score(y_test, y_pred) ,'\\n', #True Postive out of Predicted Postive\n",
    "      'F1 Score Score: %.3f' % f1_score(y_test, y_pred) ) #Close to 1 is better; Close to 0 is worse"
   ]
  }
 ],
 "metadata": {
  "kernelspec": {
   "display_name": "Python 3",
   "language": "python",
   "name": "python3"
  },
  "language_info": {
   "codemirror_mode": {
    "name": "ipython",
    "version": 3
   },
   "file_extension": ".py",
   "mimetype": "text/x-python",
   "name": "python",
   "nbconvert_exporter": "python",
   "pygments_lexer": "ipython3",
   "version": "3.7.6"
  }
 },
 "nbformat": 4,
 "nbformat_minor": 4
}
