{
 "cells": [
  {
   "cell_type": "markdown",
   "metadata": {},
   "source": [
    "# Business Question: \n",
    "## Based upon customer data provided by a global bank, please provide a Exiting Customer list to Marketing Team.\n",
    "## The Exiting Customer list will be used to retain customer who is going to exit the bank."
   ]
  },
  {
   "cell_type": "markdown",
   "metadata": {},
   "source": [
    "# Import Library"
   ]
  },
  {
   "cell_type": "code",
   "execution_count": 2,
   "metadata": {},
   "outputs": [],
   "source": [
    "import pandas as pd\n",
    "import numpy as np\n",
    "import matplotlib.pyplot as plt\n",
    "%matplotlib inline\n",
    "import seaborn as sns\n",
    "from sklearn.metrics import confusion_matrix,accuracy_score,precision_score,recall_score,f1_score"
   ]
  },
  {
   "cell_type": "markdown",
   "metadata": {},
   "source": [
    "# Data Extraction"
   ]
  },
  {
   "cell_type": "code",
   "execution_count": 3,
   "metadata": {},
   "outputs": [],
   "source": [
    "df=pd.read_csv('Churn_Modelling.csv')"
   ]
  },
  {
   "cell_type": "markdown",
   "metadata": {},
   "source": [
    "# EDA"
   ]
  },
  {
   "cell_type": "markdown",
   "metadata": {},
   "source": [
    "## Checking Missing Value and Data Type"
   ]
  },
  {
   "cell_type": "code",
   "execution_count": 4,
   "metadata": {},
   "outputs": [
    {
     "name": "stdout",
     "output_type": "stream",
     "text": [
      "<class 'pandas.core.frame.DataFrame'>\n",
      "RangeIndex: 10000 entries, 0 to 9999\n",
      "Data columns (total 14 columns):\n",
      " #   Column           Non-Null Count  Dtype  \n",
      "---  ------           --------------  -----  \n",
      " 0   RowNumber        10000 non-null  int64  \n",
      " 1   CustomerId       10000 non-null  int64  \n",
      " 2   Surname          10000 non-null  object \n",
      " 3   CreditScore      10000 non-null  int64  \n",
      " 4   Geography        10000 non-null  object \n",
      " 5   Gender           10000 non-null  object \n",
      " 6   Age              10000 non-null  int64  \n",
      " 7   Tenure           10000 non-null  int64  \n",
      " 8   Balance          10000 non-null  float64\n",
      " 9   NumOfProducts    10000 non-null  int64  \n",
      " 10  HasCrCard        10000 non-null  int64  \n",
      " 11  IsActiveMember   10000 non-null  int64  \n",
      " 12  EstimatedSalary  10000 non-null  float64\n",
      " 13  Exited           10000 non-null  int64  \n",
      "dtypes: float64(2), int64(9), object(3)\n",
      "memory usage: 1.1+ MB\n"
     ]
    }
   ],
   "source": [
    "df.info()"
   ]
  },
  {
   "cell_type": "code",
   "execution_count": 5,
   "metadata": {},
   "outputs": [
    {
     "data": {
      "text/html": [
       "<div>\n",
       "<style scoped>\n",
       "    .dataframe tbody tr th:only-of-type {\n",
       "        vertical-align: middle;\n",
       "    }\n",
       "\n",
       "    .dataframe tbody tr th {\n",
       "        vertical-align: top;\n",
       "    }\n",
       "\n",
       "    .dataframe thead th {\n",
       "        text-align: right;\n",
       "    }\n",
       "</style>\n",
       "<table border=\"1\" class=\"dataframe\">\n",
       "  <thead>\n",
       "    <tr style=\"text-align: right;\">\n",
       "      <th></th>\n",
       "      <th>CustomerId</th>\n",
       "    </tr>\n",
       "    <tr>\n",
       "      <th>Exited</th>\n",
       "      <th></th>\n",
       "    </tr>\n",
       "  </thead>\n",
       "  <tbody>\n",
       "    <tr>\n",
       "      <th>0</th>\n",
       "      <td>7963</td>\n",
       "    </tr>\n",
       "    <tr>\n",
       "      <th>1</th>\n",
       "      <td>2037</td>\n",
       "    </tr>\n",
       "  </tbody>\n",
       "</table>\n",
       "</div>"
      ],
      "text/plain": [
       "        CustomerId\n",
       "Exited            \n",
       "0             7963\n",
       "1             2037"
      ]
     },
     "execution_count": 5,
     "metadata": {},
     "output_type": "execute_result"
    }
   ],
   "source": [
    "df.groupby('Exited').agg({'CustomerId':'count'})"
   ]
  },
  {
   "cell_type": "markdown",
   "metadata": {},
   "source": [
    "#### 1) There is no missing value\n",
    "#### 2) Numerical Data: Age, Estimated Salary, Tenure, Balance, CreditScore, \n",
    "#### 3a) Categorical Data: Gender, Geography\n",
    "#### 3b) HasCrDard, IsActiveMember and NumofProducts should be Categorical/ Binary Data rather than int64\n",
    "#### 4a) Label: Exited should be Categorical data\n",
    "#### 4b) Label: Exited is imbalance, the proportion of Exit:Not Exit around 20%:80%"
   ]
  },
  {
   "cell_type": "markdown",
   "metadata": {},
   "source": [
    "## Prepare Dataset for EDA"
   ]
  },
  {
   "cell_type": "code",
   "execution_count": 6,
   "metadata": {},
   "outputs": [],
   "source": [
    "EDA_Data=df.copy()\n",
    "EDA_Data['Exited']=EDA_Data['Exited'].apply(lambda x: 'Exit' if x==1 else 'Not Exit')\n",
    "EDA_Data['HasCrCard']=EDA_Data['HasCrCard'].apply(lambda x: 'Has Credit Card' if x==1 else 'Do not have Credit Card')\n",
    "EDA_Data['IsActiveMember']=EDA_Data['IsActiveMember'].apply(lambda x: 'Active Member' if x==1 else 'Inactive Member')\n",
    "EDA_Data['NumOfProducts']=EDA_Data['NumOfProducts'].astype('str')"
   ]
  },
  {
   "cell_type": "code",
   "execution_count": 7,
   "metadata": {},
   "outputs": [
    {
     "data": {
      "text/html": [
       "<div>\n",
       "<style scoped>\n",
       "    .dataframe tbody tr th:only-of-type {\n",
       "        vertical-align: middle;\n",
       "    }\n",
       "\n",
       "    .dataframe tbody tr th {\n",
       "        vertical-align: top;\n",
       "    }\n",
       "\n",
       "    .dataframe thead th {\n",
       "        text-align: right;\n",
       "    }\n",
       "</style>\n",
       "<table border=\"1\" class=\"dataframe\">\n",
       "  <thead>\n",
       "    <tr style=\"text-align: right;\">\n",
       "      <th></th>\n",
       "      <th>CreditScore</th>\n",
       "      <th>Age</th>\n",
       "      <th>Tenure</th>\n",
       "      <th>Balance</th>\n",
       "      <th>EstimatedSalary</th>\n",
       "    </tr>\n",
       "  </thead>\n",
       "  <tbody>\n",
       "    <tr>\n",
       "      <th>count</th>\n",
       "      <td>10000.000000</td>\n",
       "      <td>10000.000000</td>\n",
       "      <td>10000.000000</td>\n",
       "      <td>10000.000000</td>\n",
       "      <td>10000.000000</td>\n",
       "    </tr>\n",
       "    <tr>\n",
       "      <th>mean</th>\n",
       "      <td>650.528800</td>\n",
       "      <td>38.921800</td>\n",
       "      <td>5.012800</td>\n",
       "      <td>76485.889288</td>\n",
       "      <td>100090.239881</td>\n",
       "    </tr>\n",
       "    <tr>\n",
       "      <th>std</th>\n",
       "      <td>96.653299</td>\n",
       "      <td>10.487806</td>\n",
       "      <td>2.892174</td>\n",
       "      <td>62397.405202</td>\n",
       "      <td>57510.492818</td>\n",
       "    </tr>\n",
       "    <tr>\n",
       "      <th>min</th>\n",
       "      <td>350.000000</td>\n",
       "      <td>18.000000</td>\n",
       "      <td>0.000000</td>\n",
       "      <td>0.000000</td>\n",
       "      <td>11.580000</td>\n",
       "    </tr>\n",
       "    <tr>\n",
       "      <th>25%</th>\n",
       "      <td>584.000000</td>\n",
       "      <td>32.000000</td>\n",
       "      <td>3.000000</td>\n",
       "      <td>0.000000</td>\n",
       "      <td>51002.110000</td>\n",
       "    </tr>\n",
       "    <tr>\n",
       "      <th>50%</th>\n",
       "      <td>652.000000</td>\n",
       "      <td>37.000000</td>\n",
       "      <td>5.000000</td>\n",
       "      <td>97198.540000</td>\n",
       "      <td>100193.915000</td>\n",
       "    </tr>\n",
       "    <tr>\n",
       "      <th>75%</th>\n",
       "      <td>718.000000</td>\n",
       "      <td>44.000000</td>\n",
       "      <td>7.000000</td>\n",
       "      <td>127644.240000</td>\n",
       "      <td>149388.247500</td>\n",
       "    </tr>\n",
       "    <tr>\n",
       "      <th>max</th>\n",
       "      <td>850.000000</td>\n",
       "      <td>92.000000</td>\n",
       "      <td>10.000000</td>\n",
       "      <td>250898.090000</td>\n",
       "      <td>199992.480000</td>\n",
       "    </tr>\n",
       "  </tbody>\n",
       "</table>\n",
       "</div>"
      ],
      "text/plain": [
       "        CreditScore           Age        Tenure        Balance  \\\n",
       "count  10000.000000  10000.000000  10000.000000   10000.000000   \n",
       "mean     650.528800     38.921800      5.012800   76485.889288   \n",
       "std       96.653299     10.487806      2.892174   62397.405202   \n",
       "min      350.000000     18.000000      0.000000       0.000000   \n",
       "25%      584.000000     32.000000      3.000000       0.000000   \n",
       "50%      652.000000     37.000000      5.000000   97198.540000   \n",
       "75%      718.000000     44.000000      7.000000  127644.240000   \n",
       "max      850.000000     92.000000     10.000000  250898.090000   \n",
       "\n",
       "       EstimatedSalary  \n",
       "count     10000.000000  \n",
       "mean     100090.239881  \n",
       "std       57510.492818  \n",
       "min          11.580000  \n",
       "25%       51002.110000  \n",
       "50%      100193.915000  \n",
       "75%      149388.247500  \n",
       "max      199992.480000  "
      ]
     },
     "execution_count": 7,
     "metadata": {},
     "output_type": "execute_result"
    }
   ],
   "source": [
    "EDA_Data.drop(['RowNumber','CustomerId'],axis=1).describe()"
   ]
  },
  {
   "cell_type": "markdown",
   "metadata": {},
   "source": [
    "## Part 1: Relationship between Numerical Data and Exited"
   ]
  },
  {
   "cell_type": "markdown",
   "metadata": {},
   "source": [
    "### 1) Relationship between Age and Exited"
   ]
  },
  {
   "cell_type": "code",
   "execution_count": 8,
   "metadata": {},
   "outputs": [
    {
     "data": {
      "text/plain": [
       "<matplotlib.axes._subplots.AxesSubplot at 0x1c82048fd48>"
      ]
     },
     "execution_count": 8,
     "metadata": {},
     "output_type": "execute_result"
    },
    {
     "data": {
      "image/png": "[encoded data removed]",
      "text/plain": [
       "<Figure size 432x288 with 1 Axes>"
      ]
     },
     "metadata": {
      "needs_background": "light"
     },
     "output_type": "display_data"
    }
   ],
   "source": [
    "sns.boxplot(x='Exited',y='Age',data=EDA_Data)"
   ]
  },
  {
   "cell_type": "markdown",
   "metadata": {},
   "source": [
    "#### Overall, customer who exited is older than those not exit. \n",
    "#### The median of exited customer is around 45 years old.\n",
    "#### The median of exited customer is already older than 75% not exit customer."
   ]
  },
  {
   "cell_type": "markdown",
   "metadata": {},
   "source": [
    "### 2) Relationship between Tenure and Exited"
   ]
  },
  {
   "cell_type": "code",
   "execution_count": 9,
   "metadata": {},
   "outputs": [
    {
     "data": {
      "text/plain": [
       "<matplotlib.axes._subplots.AxesSubplot at 0x1c820bec788>"
      ]
     },
     "execution_count": 9,
     "metadata": {},
     "output_type": "execute_result"
    },
    {
     "data": {
      "image/png": "[encoded data removed]",
      "text/plain": [
       "<Figure size 432x288 with 1 Axes>"
      ]
     },
     "metadata": {
      "needs_background": "light"
     },
     "output_type": "display_data"
    }
   ],
   "source": [
    "sns.boxplot(x='Exited',y='Tenure',data=EDA_Data)"
   ]
  },
  {
   "cell_type": "markdown",
   "metadata": {},
   "source": [
    "#### Compare to Not Exist Customer, Customer who join less than 3 years or above 7 years are more likely to exit."
   ]
  },
  {
   "cell_type": "markdown",
   "metadata": {},
   "source": [
    "### 3) Relationship between Balance and Exited"
   ]
  },
  {
   "cell_type": "code",
   "execution_count": 10,
   "metadata": {},
   "outputs": [
    {
     "data": {
      "text/plain": [
       "<matplotlib.axes._subplots.AxesSubplot at 0x1c820ca7fc8>"
      ]
     },
     "execution_count": 10,
     "metadata": {},
     "output_type": "execute_result"
    },
    {
     "data": {
      "image/png": "[encoded data removed]",
      "text/plain": [
       "<Figure size 432x288 with 1 Axes>"
      ]
     },
     "metadata": {
      "needs_background": "light"
     },
     "output_type": "display_data"
    }
   ],
   "source": [
    "sns.boxplot(x='Exited',y='Balance',data=EDA_Data)"
   ]
  },
  {
   "cell_type": "markdown",
   "metadata": {},
   "source": [
    "#### Customer whose balance less than $40000 are more likely not exit\n",
    "#### The top 25% exit customer has higher balance than those not exit"
   ]
  },
  {
   "cell_type": "markdown",
   "metadata": {},
   "source": [
    "### 4) Relationship between Credit Score and Exited"
   ]
  },
  {
   "cell_type": "code",
   "execution_count": 11,
   "metadata": {},
   "outputs": [
    {
     "data": {
      "text/plain": [
       "<matplotlib.axes._subplots.AxesSubplot at 0x1c820d3f6c8>"
      ]
     },
     "execution_count": 11,
     "metadata": {},
     "output_type": "execute_result"
    },
    {
     "data": {
      "image/png": "[encoded data removed]",
      "text/plain": [
       "<Figure size 432x288 with 1 Axes>"
      ]
     },
     "metadata": {
      "needs_background": "light"
     },
     "output_type": "display_data"
    }
   ],
   "source": [
    "sns.boxplot(x='Exited',y='CreditScore',data=EDA_Data)"
   ]
  },
  {
   "cell_type": "markdown",
   "metadata": {},
   "source": [
    "#### Credit Score only slightly correlated to Exited. \n",
    "#### Customer with lower credt score slightly exit.\n",
    "#### There are some outliers whose score fall around 350. "
   ]
  },
  {
   "cell_type": "markdown",
   "metadata": {},
   "source": [
    "### 5) Relationship between EstimatedSalary and Exited"
   ]
  },
  {
   "cell_type": "code",
   "execution_count": 12,
   "metadata": {},
   "outputs": [
    {
     "data": {
      "text/plain": [
       "<matplotlib.axes._subplots.AxesSubplot at 0x1c820c44348>"
      ]
     },
     "execution_count": 12,
     "metadata": {},
     "output_type": "execute_result"
    },
    {
     "data": {
      "image/png": "[encoded data removed]",
      "text/plain": [
       "<Figure size 432x288 with 1 Axes>"
      ]
     },
     "metadata": {
      "needs_background": "light"
     },
     "output_type": "display_data"
    }
   ],
   "source": [
    "sns.boxplot(x='Exited',y='EstimatedSalary',data=EDA_Data)"
   ]
  },
  {
   "cell_type": "markdown",
   "metadata": {},
   "source": [
    "## Part 2: Relationship between Categorical Data and Exited"
   ]
  },
  {
   "cell_type": "markdown",
   "metadata": {},
   "source": [
    "#### Estimated Salary do not correlated to Exited."
   ]
  },
  {
   "cell_type": "code",
   "execution_count": 13,
   "metadata": {},
   "outputs": [
    {
     "data": {
      "image/png": "[encoded data removed]",
      "text/plain": [
       "<Figure size 720x1080 with 5 Axes>"
      ]
     },
     "metadata": {
      "needs_background": "light"
     },
     "output_type": "display_data"
    }
   ],
   "source": [
    "fig, axis = plt.subplots(3, 2, figsize=(10,15),)\n",
    "axis[0,0].set_title(\"Relationship between Gender and Exited\")\n",
    "axis[0,1].set_title(\"Relationship between Geography and Exited\")\n",
    "axis[1,0].set_title(\"Relationship between Has Credit Card and Exited\")\n",
    "axis[1,1].set_title(\"Relationship between Is Active and Exited\")\n",
    "axis[2,0].set_title(\"Relationship between No. of Product and Exited\")\n",
    "\n",
    "sns.countplot(x='Gender',hue='Exited',data=EDA_Data,ax=axis[0,0])\n",
    "sns.countplot(x='Geography',hue='Exited',data=EDA_Data,ax=axis[0,1])\n",
    "sns.countplot(x='HasCrCard',hue='Exited',data=EDA_Data,ax=axis[1,0])\n",
    "sns.countplot(x='IsActiveMember',hue='Exited',data=EDA_Data,ax=axis[1,1])\n",
    "sns.countplot(x='NumOfProducts',hue='Exited',data=EDA_Data,ax=axis[2,0])\n",
    "\n",
    "axis[2,1].remove()"
   ]
  },
  {
   "cell_type": "markdown",
   "metadata": {},
   "source": [
    "#### From the above diagram, we can see that:\n",
    "#### 1) Female is easier exit than Male\n",
    "#### 2) Customer in Germany more likely to exit\n",
    "#### 3) Inactive Member has higher proportion to exit than Active Member\n",
    "#### 4) Credit Card is not correlated to Exit\n",
    "#### 5) Customer with 2 products have higher proportion not exit"
   ]
  },
  {
   "cell_type": "markdown",
   "metadata": {},
   "source": [
    "### Correlation between features"
   ]
  },
  {
   "cell_type": "code",
   "execution_count": 14,
   "metadata": {},
   "outputs": [
    {
     "data": {
      "text/plain": [
       "<matplotlib.axes._subplots.AxesSubplot at 0x1c81ffc2848>"
      ]
     },
     "execution_count": 14,
     "metadata": {},
     "output_type": "execute_result"
    },
    {
     "data": {
      "image/png": "[encoded data removed]",
      "text/plain": [
       "<Figure size 1440x720 with 2 Axes>"
      ]
     },
     "metadata": {
      "needs_background": "light"
     },
     "output_type": "display_data"
    }
   ],
   "source": [
    "plt.figure(figsize=(20,10))\n",
    "EDA2=df.iloc[:,3:-1]\n",
    "EDA2=pd.concat([df.iloc[:,-1],EDA2,],axis=1)\n",
    "EDA2=pd.get_dummies(EDA2,columns=['Geography','Gender','NumOfProducts','HasCrCard','IsActiveMember'])\n",
    "sns.heatmap(EDA2.corr(),vmin=-1,vmax=1,annot=True)"
   ]
  },
  {
   "cell_type": "markdown",
   "metadata": {},
   "source": [
    "#### Features with color close to 0 means no correlation, \n",
    "#### Features with color close to -1 or 1 means having strong negative or postive relationship to each other respectively. \n",
    "#### From the above heat map, we can see that all features only have weak relationship to each other.\n",
    "#### Features that have relative slightly relationship with Exited include:\n",
    "#### Age, NumOfProduct, Geography, IsActiveMember,Balance,Gender"
   ]
  },
  {
   "cell_type": "markdown",
   "metadata": {},
   "source": [
    "## Train Data without Feature Selected - Set 1"
   ]
  },
  {
   "cell_type": "code",
   "execution_count": 249,
   "metadata": {},
   "outputs": [],
   "source": [
    "X0=df.iloc[:,3:-1]\n",
    "X0_c=X0.loc[:,['Geography','Gender','NumOfProducts','HasCrCard','IsActiveMember']]"
   ]
  },
  {
   "cell_type": "markdown",
   "metadata": {},
   "source": [
    "#### Apply OneHotEncoding to Categorical Data: (Geography,Gender,NumOfProducts,HasCrCard,IsActiveMember)"
   ]
  },
  {
   "cell_type": "code",
   "execution_count": 250,
   "metadata": {},
   "outputs": [],
   "source": [
    "X0_c=pd.get_dummies(X0_c)"
   ]
  },
  {
   "cell_type": "code",
   "execution_count": 251,
   "metadata": {},
   "outputs": [],
   "source": [
    "from sklearn.preprocessing import StandardScaler\n",
    "X0_n=X0.loc[:,['CreditScore','Age','Balance','Tenure','EstimatedSalary']]\n",
    "scaler = StandardScaler()\n",
    "X0_n1=scaler.fit_transform(X0_n)"
   ]
  },
  {
   "cell_type": "code",
   "execution_count": 252,
   "metadata": {},
   "outputs": [],
   "source": [
    "X0_n1=pd.DataFrame(X0_n1,columns=['CreditScore','Age','Balance','Tenure','EstimatedSalary'])"
   ]
  },
  {
   "cell_type": "code",
   "execution_count": 253,
   "metadata": {},
   "outputs": [],
   "source": [
    "X=pd.concat([X0_c,X0_n1],axis=1)\n",
    "y=EDA_Data['Exited'].apply(lambda x: 1 if x=='Exit' else 0)"
   ]
  },
  {
   "cell_type": "code",
   "execution_count": 254,
   "metadata": {},
   "outputs": [],
   "source": [
    "from sklearn.model_selection import train_test_split\n",
    "X_train, X_test, y_train, y_test = train_test_split(X, y, test_size=0.2, random_state=42)"
   ]
  },
  {
   "cell_type": "markdown",
   "metadata": {},
   "source": [
    "#### Generating new data by oversampling\n",
    "#### As mentioned before, the data is imbalnce, so, we increase the number of samples by SMOTE technique"
   ]
  },
  {
   "cell_type": "code",
   "execution_count": 255,
   "metadata": {},
   "outputs": [],
   "source": [
    "#conda install -c conda-forge imbalanced-learn"
   ]
  },
  {
   "cell_type": "code",
   "execution_count": 256,
   "metadata": {},
   "outputs": [],
   "source": [
    "from imblearn.over_sampling import SMOTE\n",
    "smk = SMOTE()\n",
    "# Oversample training  data\n",
    "X_train, y_train = smk.fit_sample(X_train, y_train)\n",
    "\n",
    "# Oversample validation data\n",
    "X_test, y_test = smk.fit_sample(X_test, y_test)"
   ]
  },
  {
   "cell_type": "code",
   "execution_count": 257,
   "metadata": {},
   "outputs": [
    {
     "name": "stdout",
     "output_type": "stream",
     "text": [
      "1    6356\n",
      "0    6356\n",
      "Name: Exited, dtype: int64 \n",
      " 1    1607\n",
      "0    1607\n",
      "Name: Exited, dtype: int64\n"
     ]
    }
   ],
   "source": [
    "print(y_train.value_counts(),'\\n',y_test.value_counts())"
   ]
  },
  {
   "cell_type": "markdown",
   "metadata": {},
   "source": [
    "#### Start to Train Model"
   ]
  },
  {
   "cell_type": "code",
   "execution_count": 258,
   "metadata": {},
   "outputs": [],
   "source": [
    "Accuracy_Score=[]\n",
    "Recall_Score=[]\n",
    "Precision_Score=[]\n",
    "F1_Score=[]"
   ]
  },
  {
   "cell_type": "markdown",
   "metadata": {},
   "source": [
    "### Logistic Regression"
   ]
  },
  {
   "cell_type": "code",
   "execution_count": 259,
   "metadata": {},
   "outputs": [
    {
     "data": {
      "text/plain": [
       "0.7806471686372122"
      ]
     },
     "execution_count": 259,
     "metadata": {},
     "output_type": "execute_result"
    }
   ],
   "source": [
    "from sklearn.linear_model import LogisticRegression\n",
    "clf = LogisticRegression(random_state=42).fit(X_train, y_train)\n",
    "y_pred=clf.predict(X_test)\n",
    "s1_1_y_pred=y_pred\n",
    "clf.score(X_test, y_test)"
   ]
  },
  {
   "cell_type": "code",
   "execution_count": 260,
   "metadata": {},
   "outputs": [
    {
     "name": "stdout",
     "output_type": "stream",
     "text": [
      " Accuracy Score: 0.781 \n",
      " Recall Score: 0.808 \n",
      " Precision Score: 0.766 \n",
      " F1 Score Score: 0.786\n"
     ]
    }
   ],
   "source": [
    "print(' Accuracy Score: %.3f' % accuracy_score(y_test, y_pred) ,'\\n', \n",
    "      'Recall Score: %.3f' % recall_score(y_test, y_pred) ,'\\n', #True Postive out of Actual Postive\n",
    "      'Precision Score: %.3f' % precision_score(y_test, y_pred) ,'\\n', #True Postive out of Predicted Postive\n",
    "      'F1 Score Score: %.3f' % f1_score(y_test, y_pred) ) #Close to 1 is better; Close to 0 is worse\n",
    "\n",
    "Accuracy_Score.append(accuracy_score(y_test, y_pred))\n",
    "Recall_Score.append(recall_score(y_test, y_pred))\n",
    "Precision_Score.append(precision_score(y_test, y_pred))\n",
    "F1_Score.append(f1_score(y_test, y_pred))"
   ]
  },
  {
   "cell_type": "markdown",
   "metadata": {},
   "source": [
    "### SVC (Support Vector Classifier)"
   ]
  },
  {
   "cell_type": "code",
   "execution_count": 261,
   "metadata": {},
   "outputs": [
    {
     "data": {
      "text/plain": [
       "0.822028624766646"
      ]
     },
     "execution_count": 261,
     "metadata": {},
     "output_type": "execute_result"
    }
   ],
   "source": [
    "from sklearn.svm import SVC\n",
    "clf = SVC(random_state=42)\n",
    "svc=clf.fit(X_train, y_train)\n",
    "y_pred=svc.predict(X_test)\n",
    "s1_2_y_pred=y_pred\n",
    "svc.score(X_test, y_test)"
   ]
  },
  {
   "cell_type": "code",
   "execution_count": 262,
   "metadata": {},
   "outputs": [
    {
     "name": "stdout",
     "output_type": "stream",
     "text": [
      " Accuracy Score: 0.822 \n",
      " Recall Score: 0.823 \n",
      " Precision Score: 0.821 \n",
      " F1 Score Score: 0.822\n"
     ]
    }
   ],
   "source": [
    "print(' Accuracy Score: %.3f' % accuracy_score(y_test, y_pred) ,'\\n', \n",
    "      'Recall Score: %.3f' % recall_score(y_test, y_pred) ,'\\n', #True Postive out of Actual Postive\n",
    "      'Precision Score: %.3f' % precision_score(y_test, y_pred) ,'\\n', #True Postive out of Predicted Postive\n",
    "      'F1 Score Score: %.3f' % f1_score(y_test, y_pred) ) #Close to 1 is better; Close to 0 is worse\n",
    "\n",
    "Accuracy_Score.append(accuracy_score(y_test, y_pred))\n",
    "Recall_Score.append(recall_score(y_test, y_pred))\n",
    "Precision_Score.append(precision_score(y_test, y_pred))\n",
    "F1_Score.append(f1_score(y_test, y_pred))"
   ]
  },
  {
   "cell_type": "markdown",
   "metadata": {},
   "source": [
    "### Random Forest"
   ]
  },
  {
   "cell_type": "code",
   "execution_count": 263,
   "metadata": {},
   "outputs": [
    {
     "data": {
      "text/plain": [
       "0.8210952084629745"
      ]
     },
     "execution_count": 263,
     "metadata": {},
     "output_type": "execute_result"
    }
   ],
   "source": [
    "from sklearn.ensemble import RandomForestClassifier\n",
    "clf = RandomForestClassifier(random_state=42)\n",
    "clf.fit(X_train, y_train)\n",
    "y_pred=clf.predict(X_test)\n",
    "s1_3_y_pred=y_pred\n",
    "clf.score(X_test, y_test)"
   ]
  },
  {
   "cell_type": "code",
   "execution_count": 264,
   "metadata": {},
   "outputs": [
    {
     "name": "stdout",
     "output_type": "stream",
     "text": [
      " Accuracy Score: 0.821 \n",
      " Recall Score: 0.750 \n",
      " Precision Score: 0.874 \n",
      " F1 Score Score: 0.807\n"
     ]
    }
   ],
   "source": [
    "print(' Accuracy Score: %.3f' % accuracy_score(y_test, y_pred) ,'\\n', \n",
    "      'Recall Score: %.3f' % recall_score(y_test, y_pred) ,'\\n', #True Postive out of Actual Postive\n",
    "      'Precision Score: %.3f' % precision_score(y_test, y_pred) ,'\\n', #True Postive out of Predicted Postive\n",
    "      'F1 Score Score: %.3f' % f1_score(y_test, y_pred) ) #Close to 1 is better; Close to 0 is worse\n",
    "\n",
    "Accuracy_Score.append(accuracy_score(y_test, y_pred))\n",
    "Recall_Score.append(recall_score(y_test, y_pred))\n",
    "Precision_Score.append(precision_score(y_test, y_pred))\n",
    "F1_Score.append(f1_score(y_test, y_pred))"
   ]
  },
  {
   "cell_type": "markdown",
   "metadata": {},
   "source": [
    "### XGBoost"
   ]
  },
  {
   "cell_type": "code",
   "execution_count": 265,
   "metadata": {},
   "outputs": [
    {
     "data": {
      "text/plain": [
       "0.6057871810827629"
      ]
     },
     "execution_count": 265,
     "metadata": {},
     "output_type": "execute_result"
    }
   ],
   "source": [
    "import xgboost as xgb\n",
    "dtrain = xgb.DMatrix(data = X_train, label = y_train) \n",
    "dtest = xgb.DMatrix(data = X_test, label = y_test) \n",
    "# specify parameters via map\n",
    "param = {'max_depth':6, 'eta':0.3, 'objective':'binary:hinge' } #Use default value in the first time\n",
    "num_round = 2\n",
    "bst = xgb.train(param, dtrain, num_round)\n",
    "# make prediction\n",
    "y_pred = bst.predict(dtest)\n",
    "s1_4_y_pred=y_pred\n",
    "accuracy_score(y_test,y_pred)"
   ]
  },
  {
   "cell_type": "code",
   "execution_count": 266,
   "metadata": {},
   "outputs": [
    {
     "name": "stdout",
     "output_type": "stream",
     "text": [
      " Accuracy Score: 0.606 \n",
      " Recall Score: 0.974 \n",
      " Precision Score: 0.561 \n",
      " F1 Score Score: 0.712\n"
     ]
    }
   ],
   "source": [
    "print(' Accuracy Score: %.3f' % accuracy_score(y_test, y_pred) ,'\\n', \n",
    "      'Recall Score: %.3f' % recall_score(y_test, y_pred) ,'\\n', #True Postive out of Actual Postive\n",
    "      'Precision Score: %.3f' % precision_score(y_test, y_pred) ,'\\n', #True Postive out of Predicted Postive\n",
    "      'F1 Score Score: %.3f' % f1_score(y_test, y_pred) ) #Close to 1 is better; Close to 0 is worse\n",
    "\n",
    "Accuracy_Score.append(accuracy_score(y_test, y_pred))\n",
    "Recall_Score.append(recall_score(y_test, y_pred))\n",
    "Precision_Score.append(precision_score(y_test, y_pred))\n",
    "F1_Score.append(f1_score(y_test, y_pred))"
   ]
  },
  {
   "cell_type": "code",
   "execution_count": 267,
   "metadata": {},
   "outputs": [
    {
     "data": {
      "text/html": [
       "<div>\n",
       "<style scoped>\n",
       "    .dataframe tbody tr th:only-of-type {\n",
       "        vertical-align: middle;\n",
       "    }\n",
       "\n",
       "    .dataframe tbody tr th {\n",
       "        vertical-align: top;\n",
       "    }\n",
       "\n",
       "    .dataframe thead th {\n",
       "        text-align: right;\n",
       "    }\n",
       "</style>\n",
       "<table border=\"1\" class=\"dataframe\">\n",
       "  <thead>\n",
       "    <tr style=\"text-align: right;\">\n",
       "      <th></th>\n",
       "      <th>Logistic Reg.</th>\n",
       "      <th>SVC</th>\n",
       "      <th>Random Forest</th>\n",
       "      <th>XGB</th>\n",
       "    </tr>\n",
       "  </thead>\n",
       "  <tbody>\n",
       "    <tr>\n",
       "      <th>Accuracy_Score</th>\n",
       "      <td>0.780647</td>\n",
       "      <td>0.822029</td>\n",
       "      <td>0.821095</td>\n",
       "      <td>0.605787</td>\n",
       "    </tr>\n",
       "    <tr>\n",
       "      <th>Recall_Score</th>\n",
       "      <td>0.807716</td>\n",
       "      <td>0.823273</td>\n",
       "      <td>0.750467</td>\n",
       "      <td>0.973864</td>\n",
       "    </tr>\n",
       "    <tr>\n",
       "      <th>Precision_Score</th>\n",
       "      <td>0.766234</td>\n",
       "      <td>0.821229</td>\n",
       "      <td>0.873913</td>\n",
       "      <td>0.560932</td>\n",
       "    </tr>\n",
       "    <tr>\n",
       "      <th>F1_Score</th>\n",
       "      <td>0.786428</td>\n",
       "      <td>0.822250</td>\n",
       "      <td>0.807499</td>\n",
       "      <td>0.711849</td>\n",
       "    </tr>\n",
       "  </tbody>\n",
       "</table>\n",
       "</div>"
      ],
      "text/plain": [
       "                 Logistic Reg.       SVC  Random Forest       XGB\n",
       "Accuracy_Score        0.780647  0.822029       0.821095  0.605787\n",
       "Recall_Score          0.807716  0.823273       0.750467  0.973864\n",
       "Precision_Score       0.766234  0.821229       0.873913  0.560932\n",
       "F1_Score              0.786428  0.822250       0.807499  0.711849"
      ]
     },
     "execution_count": 267,
     "metadata": {},
     "output_type": "execute_result"
    }
   ],
   "source": [
    "# Set 1 Score:\n",
    "ind_name=['Accuracy_Score','Recall_Score','Precision_Score','F1_Score']\n",
    "summary1=pd.DataFrame(np.vstack((Accuracy_Score,Recall_Score,Precision_Score,F1_Score)),columns=['Logistic Reg.','SVC','Random Forest','XGB'],index=ind_name)\n",
    "summary1"
   ]
  },
  {
   "cell_type": "markdown",
   "metadata": {},
   "source": [
    "## Train Data with Feature Selected (Based on EDA) - Set 2 \n",
    "### [Keep all hyperparameter same as Set 1]"
   ]
  },
  {
   "cell_type": "markdown",
   "metadata": {},
   "source": [
    "### Remove Estimated Salary, Has Credit Card, Credit Score and Tenure refer to EDA"
   ]
  },
  {
   "cell_type": "code",
   "execution_count": 268,
   "metadata": {},
   "outputs": [],
   "source": [
    "X1=df.iloc[:,3:-1]\n",
    "X1_c=X1.loc[:,['Geography','Gender','NumOfProducts','IsActiveMember']]\n",
    "X1_n=X1.loc[:,['Age','Balance']]"
   ]
  },
  {
   "cell_type": "markdown",
   "metadata": {},
   "source": [
    "### Part 1: Distribution of Numerical Feature"
   ]
  },
  {
   "cell_type": "code",
   "execution_count": 269,
   "metadata": {},
   "outputs": [
    {
     "data": {
      "text/html": [
       "<div>\n",
       "<style scoped>\n",
       "    .dataframe tbody tr th:only-of-type {\n",
       "        vertical-align: middle;\n",
       "    }\n",
       "\n",
       "    .dataframe tbody tr th {\n",
       "        vertical-align: top;\n",
       "    }\n",
       "\n",
       "    .dataframe thead th {\n",
       "        text-align: right;\n",
       "    }\n",
       "</style>\n",
       "<table border=\"1\" class=\"dataframe\">\n",
       "  <thead>\n",
       "    <tr style=\"text-align: right;\">\n",
       "      <th></th>\n",
       "      <th>RowNumber</th>\n",
       "      <th>CustomerId</th>\n",
       "      <th>CreditScore</th>\n",
       "      <th>Age</th>\n",
       "      <th>Tenure</th>\n",
       "      <th>Balance</th>\n",
       "      <th>EstimatedSalary</th>\n",
       "    </tr>\n",
       "  </thead>\n",
       "  <tbody>\n",
       "    <tr>\n",
       "      <th>count</th>\n",
       "      <td>2037.000000</td>\n",
       "      <td>2.037000e+03</td>\n",
       "      <td>2037.000000</td>\n",
       "      <td>2037.000000</td>\n",
       "      <td>2037.000000</td>\n",
       "      <td>2037.000000</td>\n",
       "      <td>2037.000000</td>\n",
       "    </tr>\n",
       "    <tr>\n",
       "      <th>mean</th>\n",
       "      <td>4905.917526</td>\n",
       "      <td>1.569005e+07</td>\n",
       "      <td>645.351497</td>\n",
       "      <td>44.837997</td>\n",
       "      <td>4.932744</td>\n",
       "      <td>91108.539337</td>\n",
       "      <td>101465.677531</td>\n",
       "    </tr>\n",
       "    <tr>\n",
       "      <th>std</th>\n",
       "      <td>2866.855245</td>\n",
       "      <td>7.269262e+04</td>\n",
       "      <td>100.321503</td>\n",
       "      <td>9.761562</td>\n",
       "      <td>2.936106</td>\n",
       "      <td>58360.794816</td>\n",
       "      <td>57912.418071</td>\n",
       "    </tr>\n",
       "    <tr>\n",
       "      <th>min</th>\n",
       "      <td>1.000000</td>\n",
       "      <td>1.556571e+07</td>\n",
       "      <td>350.000000</td>\n",
       "      <td>18.000000</td>\n",
       "      <td>0.000000</td>\n",
       "      <td>0.000000</td>\n",
       "      <td>11.580000</td>\n",
       "    </tr>\n",
       "    <tr>\n",
       "      <th>25%</th>\n",
       "      <td>2419.000000</td>\n",
       "      <td>1.562736e+07</td>\n",
       "      <td>578.000000</td>\n",
       "      <td>38.000000</td>\n",
       "      <td>2.000000</td>\n",
       "      <td>38340.020000</td>\n",
       "      <td>51907.720000</td>\n",
       "    </tr>\n",
       "    <tr>\n",
       "      <th>50%</th>\n",
       "      <td>4871.000000</td>\n",
       "      <td>1.568896e+07</td>\n",
       "      <td>646.000000</td>\n",
       "      <td>45.000000</td>\n",
       "      <td>5.000000</td>\n",
       "      <td>109349.290000</td>\n",
       "      <td>102460.840000</td>\n",
       "    </tr>\n",
       "    <tr>\n",
       "      <th>75%</th>\n",
       "      <td>7404.000000</td>\n",
       "      <td>1.575309e+07</td>\n",
       "      <td>716.000000</td>\n",
       "      <td>51.000000</td>\n",
       "      <td>8.000000</td>\n",
       "      <td>131433.330000</td>\n",
       "      <td>152422.910000</td>\n",
       "    </tr>\n",
       "    <tr>\n",
       "      <th>max</th>\n",
       "      <td>9999.000000</td>\n",
       "      <td>1.581566e+07</td>\n",
       "      <td>850.000000</td>\n",
       "      <td>84.000000</td>\n",
       "      <td>10.000000</td>\n",
       "      <td>250898.090000</td>\n",
       "      <td>199808.100000</td>\n",
       "    </tr>\n",
       "  </tbody>\n",
       "</table>\n",
       "</div>"
      ],
      "text/plain": [
       "         RowNumber    CustomerId  CreditScore          Age       Tenure  \\\n",
       "count  2037.000000  2.037000e+03  2037.000000  2037.000000  2037.000000   \n",
       "mean   4905.917526  1.569005e+07   645.351497    44.837997     4.932744   \n",
       "std    2866.855245  7.269262e+04   100.321503     9.761562     2.936106   \n",
       "min       1.000000  1.556571e+07   350.000000    18.000000     0.000000   \n",
       "25%    2419.000000  1.562736e+07   578.000000    38.000000     2.000000   \n",
       "50%    4871.000000  1.568896e+07   646.000000    45.000000     5.000000   \n",
       "75%    7404.000000  1.575309e+07   716.000000    51.000000     8.000000   \n",
       "max    9999.000000  1.581566e+07   850.000000    84.000000    10.000000   \n",
       "\n",
       "             Balance  EstimatedSalary  \n",
       "count    2037.000000      2037.000000  \n",
       "mean    91108.539337    101465.677531  \n",
       "std     58360.794816     57912.418071  \n",
       "min         0.000000        11.580000  \n",
       "25%     38340.020000     51907.720000  \n",
       "50%    109349.290000    102460.840000  \n",
       "75%    131433.330000    152422.910000  \n",
       "max    250898.090000    199808.100000  "
      ]
     },
     "execution_count": 269,
     "metadata": {},
     "output_type": "execute_result"
    }
   ],
   "source": [
    "EDA_Data[EDA_Data['Exited']=='Exit'].describe()"
   ]
  },
  {
   "cell_type": "code",
   "execution_count": 270,
   "metadata": {},
   "outputs": [
    {
     "data": {
      "text/html": [
       "<div>\n",
       "<style scoped>\n",
       "    .dataframe tbody tr th:only-of-type {\n",
       "        vertical-align: middle;\n",
       "    }\n",
       "\n",
       "    .dataframe tbody tr th {\n",
       "        vertical-align: top;\n",
       "    }\n",
       "\n",
       "    .dataframe thead th {\n",
       "        text-align: right;\n",
       "    }\n",
       "</style>\n",
       "<table border=\"1\" class=\"dataframe\">\n",
       "  <thead>\n",
       "    <tr style=\"text-align: right;\">\n",
       "      <th></th>\n",
       "      <th>RowNumber</th>\n",
       "      <th>CustomerId</th>\n",
       "      <th>CreditScore</th>\n",
       "      <th>Age</th>\n",
       "      <th>Tenure</th>\n",
       "      <th>Balance</th>\n",
       "      <th>EstimatedSalary</th>\n",
       "    </tr>\n",
       "  </thead>\n",
       "  <tbody>\n",
       "    <tr>\n",
       "      <th>count</th>\n",
       "      <td>7963.000000</td>\n",
       "      <td>7.963000e+03</td>\n",
       "      <td>7963.000000</td>\n",
       "      <td>7963.000000</td>\n",
       "      <td>7963.000000</td>\n",
       "      <td>7963.000000</td>\n",
       "      <td>7963.000000</td>\n",
       "    </tr>\n",
       "    <tr>\n",
       "      <th>mean</th>\n",
       "      <td>5024.694964</td>\n",
       "      <td>1.569117e+07</td>\n",
       "      <td>651.853196</td>\n",
       "      <td>37.408389</td>\n",
       "      <td>5.033279</td>\n",
       "      <td>72745.296779</td>\n",
       "      <td>99738.391772</td>\n",
       "    </tr>\n",
       "    <tr>\n",
       "      <th>std</th>\n",
       "      <td>2891.682053</td>\n",
       "      <td>7.174423e+04</td>\n",
       "      <td>95.653837</td>\n",
       "      <td>10.125363</td>\n",
       "      <td>2.880658</td>\n",
       "      <td>62848.040701</td>\n",
       "      <td>57405.586966</td>\n",
       "    </tr>\n",
       "    <tr>\n",
       "      <th>min</th>\n",
       "      <td>2.000000</td>\n",
       "      <td>1.556570e+07</td>\n",
       "      <td>405.000000</td>\n",
       "      <td>18.000000</td>\n",
       "      <td>0.000000</td>\n",
       "      <td>0.000000</td>\n",
       "      <td>90.070000</td>\n",
       "    </tr>\n",
       "    <tr>\n",
       "      <th>25%</th>\n",
       "      <td>2526.500000</td>\n",
       "      <td>1.562882e+07</td>\n",
       "      <td>585.000000</td>\n",
       "      <td>31.000000</td>\n",
       "      <td>3.000000</td>\n",
       "      <td>0.000000</td>\n",
       "      <td>50783.490000</td>\n",
       "    </tr>\n",
       "    <tr>\n",
       "      <th>50%</th>\n",
       "      <td>5042.000000</td>\n",
       "      <td>1.569154e+07</td>\n",
       "      <td>653.000000</td>\n",
       "      <td>36.000000</td>\n",
       "      <td>5.000000</td>\n",
       "      <td>92072.680000</td>\n",
       "      <td>99645.040000</td>\n",
       "    </tr>\n",
       "    <tr>\n",
       "      <th>75%</th>\n",
       "      <td>7525.500000</td>\n",
       "      <td>1.575335e+07</td>\n",
       "      <td>718.000000</td>\n",
       "      <td>41.000000</td>\n",
       "      <td>7.000000</td>\n",
       "      <td>126410.280000</td>\n",
       "      <td>148609.955000</td>\n",
       "    </tr>\n",
       "    <tr>\n",
       "      <th>max</th>\n",
       "      <td>10000.000000</td>\n",
       "      <td>1.581569e+07</td>\n",
       "      <td>850.000000</td>\n",
       "      <td>92.000000</td>\n",
       "      <td>10.000000</td>\n",
       "      <td>221532.800000</td>\n",
       "      <td>199992.480000</td>\n",
       "    </tr>\n",
       "  </tbody>\n",
       "</table>\n",
       "</div>"
      ],
      "text/plain": [
       "          RowNumber    CustomerId  CreditScore          Age       Tenure  \\\n",
       "count   7963.000000  7.963000e+03  7963.000000  7963.000000  7963.000000   \n",
       "mean    5024.694964  1.569117e+07   651.853196    37.408389     5.033279   \n",
       "std     2891.682053  7.174423e+04    95.653837    10.125363     2.880658   \n",
       "min        2.000000  1.556570e+07   405.000000    18.000000     0.000000   \n",
       "25%     2526.500000  1.562882e+07   585.000000    31.000000     3.000000   \n",
       "50%     5042.000000  1.569154e+07   653.000000    36.000000     5.000000   \n",
       "75%     7525.500000  1.575335e+07   718.000000    41.000000     7.000000   \n",
       "max    10000.000000  1.581569e+07   850.000000    92.000000    10.000000   \n",
       "\n",
       "             Balance  EstimatedSalary  \n",
       "count    7963.000000      7963.000000  \n",
       "mean    72745.296779     99738.391772  \n",
       "std     62848.040701     57405.586966  \n",
       "min         0.000000        90.070000  \n",
       "25%         0.000000     50783.490000  \n",
       "50%     92072.680000     99645.040000  \n",
       "75%    126410.280000    148609.955000  \n",
       "max    221532.800000    199992.480000  "
      ]
     },
     "execution_count": 270,
     "metadata": {},
     "output_type": "execute_result"
    }
   ],
   "source": [
    "EDA_Data[EDA_Data['Exited']=='Not Exit'].describe()"
   ]
  },
  {
   "cell_type": "code",
   "execution_count": 271,
   "metadata": {},
   "outputs": [
    {
     "data": {
      "text/plain": [
       "<matplotlib.axes._subplots.AxesSubplot at 0x1c8332dae88>"
      ]
     },
     "execution_count": 271,
     "metadata": {},
     "output_type": "execute_result"
    },
    {
     "data": {
      "image/png": "[encoded data removed]",
      "text/plain": [
       "<Figure size 432x288 with 1 Axes>"
      ]
     },
     "metadata": {
      "needs_background": "light"
     },
     "output_type": "display_data"
    }
   ],
   "source": [
    "sns.distplot(a=EDA_Data['Age'],kde=False)"
   ]
  },
  {
   "cell_type": "code",
   "execution_count": 272,
   "metadata": {},
   "outputs": [
    {
     "data": {
      "text/plain": [
       "<matplotlib.axes._subplots.AxesSubplot at 0x1c8330b07c8>"
      ]
     },
     "execution_count": 272,
     "metadata": {},
     "output_type": "execute_result"
    },
    {
     "data": {
      "image/png": "[encoded data removed]",
      "text/plain": [
       "<Figure size 432x288 with 1 Axes>"
      ]
     },
     "metadata": {
      "needs_background": "light"
     },
     "output_type": "display_data"
    }
   ],
   "source": [
    "Age1=EDA_Data[EDA_Data['Exited']=='Exit']\n",
    "sns.distplot(a=Age1['Age'],kde=False)"
   ]
  },
  {
   "cell_type": "code",
   "execution_count": 273,
   "metadata": {},
   "outputs": [
    {
     "data": {
      "text/plain": [
       "<matplotlib.axes._subplots.AxesSubplot at 0x1c83349d108>"
      ]
     },
     "execution_count": 273,
     "metadata": {},
     "output_type": "execute_result"
    },
    {
     "data": {
      "image/png": "[encoded data removed]",
      "text/plain": [
       "<Figure size 432x288 with 1 Axes>"
      ]
     },
     "metadata": {
      "needs_background": "light"
     },
     "output_type": "display_data"
    }
   ],
   "source": [
    "Age1=EDA_Data[EDA_Data['Exited']=='Not Exit']\n",
    "sns.distplot(a=Age1['Age'],kde=False)"
   ]
  },
  {
   "cell_type": "code",
   "execution_count": 274,
   "metadata": {},
   "outputs": [],
   "source": [
    "def age_gp(a):\n",
    "    if a>=18 and a<30:\n",
    "        return 'Gp1'\n",
    "    elif a>=30 and a<40:\n",
    "        return 'Gp2'\n",
    "    elif a>=40 and a<50:\n",
    "        return 'Gp3'\n",
    "    elif a>=50:\n",
    "        return 'Gp4'"
   ]
  },
  {
   "cell_type": "code",
   "execution_count": 275,
   "metadata": {},
   "outputs": [],
   "source": [
    "X1_c['Age_group']=X1_n['Age'].apply(age_gp)"
   ]
  },
  {
   "cell_type": "code",
   "execution_count": 276,
   "metadata": {},
   "outputs": [
    {
     "data": {
      "text/html": [
       "<div>\n",
       "<style scoped>\n",
       "    .dataframe tbody tr th:only-of-type {\n",
       "        vertical-align: middle;\n",
       "    }\n",
       "\n",
       "    .dataframe tbody tr th {\n",
       "        vertical-align: top;\n",
       "    }\n",
       "\n",
       "    .dataframe thead th {\n",
       "        text-align: right;\n",
       "    }\n",
       "</style>\n",
       "<table border=\"1\" class=\"dataframe\">\n",
       "  <thead>\n",
       "    <tr style=\"text-align: right;\">\n",
       "      <th></th>\n",
       "      <th>Geography</th>\n",
       "      <th>Gender</th>\n",
       "      <th>NumOfProducts</th>\n",
       "      <th>IsActiveMember</th>\n",
       "      <th>Age_group</th>\n",
       "    </tr>\n",
       "  </thead>\n",
       "  <tbody>\n",
       "    <tr>\n",
       "      <th>0</th>\n",
       "      <td>France</td>\n",
       "      <td>Female</td>\n",
       "      <td>1</td>\n",
       "      <td>1</td>\n",
       "      <td>Gp3</td>\n",
       "    </tr>\n",
       "    <tr>\n",
       "      <th>1</th>\n",
       "      <td>Spain</td>\n",
       "      <td>Female</td>\n",
       "      <td>1</td>\n",
       "      <td>1</td>\n",
       "      <td>Gp3</td>\n",
       "    </tr>\n",
       "    <tr>\n",
       "      <th>2</th>\n",
       "      <td>France</td>\n",
       "      <td>Female</td>\n",
       "      <td>3</td>\n",
       "      <td>0</td>\n",
       "      <td>Gp3</td>\n",
       "    </tr>\n",
       "  </tbody>\n",
       "</table>\n",
       "</div>"
      ],
      "text/plain": [
       "  Geography  Gender  NumOfProducts  IsActiveMember Age_group\n",
       "0    France  Female              1               1       Gp3\n",
       "1     Spain  Female              1               1       Gp3\n",
       "2    France  Female              3               0       Gp3"
      ]
     },
     "execution_count": 276,
     "metadata": {},
     "output_type": "execute_result"
    }
   ],
   "source": [
    "X1_c.head(3)"
   ]
  },
  {
   "cell_type": "code",
   "execution_count": 277,
   "metadata": {},
   "outputs": [
    {
     "data": {
      "text/plain": [
       "<matplotlib.axes._subplots.AxesSubplot at 0x1c8335a6dc8>"
      ]
     },
     "execution_count": 277,
     "metadata": {},
     "output_type": "execute_result"
    },
    {
     "data": {
      "image/png": "[encoded data removed]",
      "text/plain": [
       "<Figure size 432x288 with 1 Axes>"
      ]
     },
     "metadata": {
      "needs_background": "light"
     },
     "output_type": "display_data"
    }
   ],
   "source": [
    "sns.distplot(a=EDA_Data['Balance'])"
   ]
  },
  {
   "cell_type": "code",
   "execution_count": 278,
   "metadata": {},
   "outputs": [],
   "source": [
    "X1_c['Balance_Group']=X1_n['Balance'].apply(lambda x: 'Without Balance' if x<50000 else 'With Balance')"
   ]
  },
  {
   "cell_type": "code",
   "execution_count": 279,
   "metadata": {},
   "outputs": [],
   "source": [
    "## As All of X's are Catergorical Data, only need transfer them to Binary Dataa"
   ]
  },
  {
   "cell_type": "code",
   "execution_count": 280,
   "metadata": {},
   "outputs": [],
   "source": [
    "X1_c2=pd.get_dummies(X1_c)\n",
    "y=EDA_Data['Exited'].apply(lambda x: 1 if x=='Exit' else 0)"
   ]
  },
  {
   "cell_type": "code",
   "execution_count": 281,
   "metadata": {},
   "outputs": [],
   "source": [
    "from sklearn.model_selection import train_test_split\n",
    "X_train, X_test, y_train, y_test = train_test_split(X1_c2, y, test_size=0.2, random_state=42)"
   ]
  },
  {
   "cell_type": "markdown",
   "metadata": {},
   "source": [
    "#### Generating new data by oversampling\n",
    "#### Same as before, as the data is imbalnce, so, we increase the number of samples by SMOTE technique"
   ]
  },
  {
   "cell_type": "code",
   "execution_count": 282,
   "metadata": {},
   "outputs": [],
   "source": [
    "from imblearn.over_sampling import SMOTE\n",
    "smk = SMOTE()\n",
    "# Oversample training  data\n",
    "X_train, y_train = smk.fit_sample(X_train, y_train)\n",
    "\n",
    "# Oversample validation data\n",
    "X_test, y_test = smk.fit_sample(X_test, y_test)"
   ]
  },
  {
   "cell_type": "code",
   "execution_count": 283,
   "metadata": {},
   "outputs": [
    {
     "name": "stdout",
     "output_type": "stream",
     "text": [
      "1    6356\n",
      "0    6356\n",
      "Name: Exited, dtype: int64 \n",
      " 1    1607\n",
      "0    1607\n",
      "Name: Exited, dtype: int64\n"
     ]
    }
   ],
   "source": [
    "print(y_train.value_counts(),'\\n',y_test.value_counts())"
   ]
  },
  {
   "cell_type": "markdown",
   "metadata": {},
   "source": [
    "#### Start to Train Model"
   ]
  },
  {
   "cell_type": "code",
   "execution_count": 284,
   "metadata": {},
   "outputs": [],
   "source": [
    "Accuracy_Score=[]\n",
    "Recall_Score=[]\n",
    "Precision_Score=[]\n",
    "F1_Score=[]"
   ]
  },
  {
   "cell_type": "markdown",
   "metadata": {},
   "source": [
    "### Logistic Regression"
   ]
  },
  {
   "cell_type": "code",
   "execution_count": 285,
   "metadata": {},
   "outputs": [
    {
     "data": {
      "text/plain": [
       "0.7479775980087119"
      ]
     },
     "execution_count": 285,
     "metadata": {},
     "output_type": "execute_result"
    }
   ],
   "source": [
    "from sklearn.linear_model import LogisticRegression\n",
    "clf = LogisticRegression(random_state=42).fit(X_train, y_train)\n",
    "y_pred=clf.predict(X_test)\n",
    "s2_1_y_pred=y_pred\n",
    "clf.score(X_test, y_test)\n"
   ]
  },
  {
   "cell_type": "code",
   "execution_count": 286,
   "metadata": {},
   "outputs": [
    {
     "name": "stdout",
     "output_type": "stream",
     "text": [
      " Accuracy Score: 0.748 \n",
      " Recall Score: 0.785 \n",
      " Precision Score: 0.731 \n",
      " F1 Score Score: 0.757\n"
     ]
    }
   ],
   "source": [
    "print(' Accuracy Score: %.3f' % accuracy_score(y_test, y_pred) ,'\\n', \n",
    "      'Recall Score: %.3f' % recall_score(y_test, y_pred) ,'\\n', #True Postive out of Actual Postive\n",
    "      'Precision Score: %.3f' % precision_score(y_test, y_pred) ,'\\n', #True Postive out of Predicted Postive\n",
    "      'F1 Score Score: %.3f' % f1_score(y_test, y_pred) ) #Close to 1 is better; Close to 0 is worse\n",
    "\n",
    "Accuracy_Score.append(accuracy_score(y_test, y_pred))\n",
    "Recall_Score.append(recall_score(y_test, y_pred))\n",
    "Precision_Score.append(precision_score(y_test, y_pred))\n",
    "F1_Score.append(f1_score(y_test, y_pred))"
   ]
  },
  {
   "cell_type": "markdown",
   "metadata": {},
   "source": [
    "### SVC (Support Vector Classifier)"
   ]
  },
  {
   "cell_type": "code",
   "execution_count": 287,
   "metadata": {},
   "outputs": [
    {
     "data": {
      "text/plain": [
       "0.7859365276913504"
      ]
     },
     "execution_count": 287,
     "metadata": {},
     "output_type": "execute_result"
    }
   ],
   "source": [
    "from sklearn.svm import SVC\n",
    "clf = SVC(random_state=42)\n",
    "svc=clf.fit(X_train, y_train)\n",
    "y_pred=svc.predict(X_test)\n",
    "s2_2_y_pred=y_pred\n",
    "svc.score(X_test, y_test)"
   ]
  },
  {
   "cell_type": "code",
   "execution_count": 288,
   "metadata": {},
   "outputs": [
    {
     "name": "stdout",
     "output_type": "stream",
     "text": [
      " Accuracy Score: 0.786 \n",
      " Recall Score: 0.812 \n",
      " Precision Score: 0.772 \n",
      " F1 Score Score: 0.791\n"
     ]
    }
   ],
   "source": [
    "print(' Accuracy Score: %.3f' % accuracy_score(y_test, y_pred) ,'\\n', \n",
    "      'Recall Score: %.3f' % recall_score(y_test, y_pred) ,'\\n', #True Postive out of Actual Postive\n",
    "      'Precision Score: %.3f' % precision_score(y_test, y_pred) ,'\\n', #True Postive out of Predicted Postive\n",
    "      'F1 Score Score: %.3f' % f1_score(y_test, y_pred) ) #Close to 1 is better; Close to 0 is worse\n",
    "\n",
    "Accuracy_Score.append(accuracy_score(y_test, y_pred))\n",
    "Recall_Score.append(recall_score(y_test, y_pred))\n",
    "Precision_Score.append(precision_score(y_test, y_pred))\n",
    "F1_Score.append(f1_score(y_test, y_pred))"
   ]
  },
  {
   "cell_type": "markdown",
   "metadata": {},
   "source": [
    "### Random Forest"
   ]
  },
  {
   "cell_type": "code",
   "execution_count": 289,
   "metadata": {},
   "outputs": [
    {
     "data": {
      "text/plain": [
       "0.790914747977598"
      ]
     },
     "execution_count": 289,
     "metadata": {},
     "output_type": "execute_result"
    }
   ],
   "source": [
    "from sklearn.ensemble import RandomForestClassifier\n",
    "clf = RandomForestClassifier(random_state=42)\n",
    "clf.fit(X_train, y_train)\n",
    "y_pred=clf.predict(X_test)\n",
    "s2_3_y_pred=y_pred\n",
    "clf.score(X_test, y_test)"
   ]
  },
  {
   "cell_type": "code",
   "execution_count": 290,
   "metadata": {},
   "outputs": [
    {
     "name": "stdout",
     "output_type": "stream",
     "text": [
      " Accuracy Score: 0.791 \n",
      " Recall Score: 0.800 \n",
      " Precision Score: 0.786 \n",
      " F1 Score Score: 0.793\n"
     ]
    }
   ],
   "source": [
    "print(' Accuracy Score: %.3f' % accuracy_score(y_test, y_pred) ,'\\n', \n",
    "      'Recall Score: %.3f' % recall_score(y_test, y_pred) ,'\\n', #True Postive out of Actual Postive\n",
    "      'Precision Score: %.3f' % precision_score(y_test, y_pred) ,'\\n', #True Postive out of Predicted Postive\n",
    "      'F1 Score Score: %.3f' % f1_score(y_test, y_pred) ) #Close to 1 is better; Close to 0 is worse\n",
    "\n",
    "Accuracy_Score.append(accuracy_score(y_test, y_pred))\n",
    "Recall_Score.append(recall_score(y_test, y_pred))\n",
    "Precision_Score.append(precision_score(y_test, y_pred))\n",
    "F1_Score.append(f1_score(y_test, y_pred))"
   ]
  },
  {
   "cell_type": "markdown",
   "metadata": {},
   "source": [
    "### XGBoosting"
   ]
  },
  {
   "cell_type": "code",
   "execution_count": 291,
   "metadata": {},
   "outputs": [
    {
     "data": {
      "text/plain": [
       "0.5752955818294959"
      ]
     },
     "execution_count": 291,
     "metadata": {},
     "output_type": "execute_result"
    }
   ],
   "source": [
    "import xgboost as xgb\n",
    "dtrain = xgb.DMatrix(data = X_train, label = y_train) \n",
    "dtest = xgb.DMatrix(data = X_test, label = y_test) \n",
    "# specify parameters via map\n",
    "param = {'max_depth':6, 'eta':0.3, 'objective':'binary:hinge' }\n",
    "num_round = 2\n",
    "bst = xgb.train(param, dtrain, num_round)\n",
    "# make prediction\n",
    "y_pred = bst.predict(dtest)\n",
    "s2_4_y_pred=y_pred\n",
    "accuracy_score(y_test,y_pred)"
   ]
  },
  {
   "cell_type": "code",
   "execution_count": 292,
   "metadata": {},
   "outputs": [
    {
     "name": "stdout",
     "output_type": "stream",
     "text": [
      " Accuracy Score: 0.575 \n",
      " Recall Score: 0.985 \n",
      " Precision Score: 0.541 \n",
      " F1 Score Score: 0.699\n"
     ]
    }
   ],
   "source": [
    "print(' Accuracy Score: %.3f' % accuracy_score(y_test, y_pred) ,'\\n', \n",
    "      'Recall Score: %.3f' % recall_score(y_test, y_pred) ,'\\n', #True Postive out of Actual Postive\n",
    "      'Precision Score: %.3f' % precision_score(y_test, y_pred) ,'\\n', #True Postive out of Predicted Postive\n",
    "      'F1 Score Score: %.3f' % f1_score(y_test, y_pred) ) #Close to 1 is better; Close to 0 is worse\n",
    "\n",
    "Accuracy_Score.append(accuracy_score(y_test, y_pred))\n",
    "Recall_Score.append(recall_score(y_test, y_pred))\n",
    "Precision_Score.append(precision_score(y_test, y_pred))\n",
    "F1_Score.append(f1_score(y_test, y_pred))"
   ]
  },
  {
   "cell_type": "code",
   "execution_count": 293,
   "metadata": {},
   "outputs": [
    {
     "data": {
      "text/html": [
       "<div>\n",
       "<style scoped>\n",
       "    .dataframe tbody tr th:only-of-type {\n",
       "        vertical-align: middle;\n",
       "    }\n",
       "\n",
       "    .dataframe tbody tr th {\n",
       "        vertical-align: top;\n",
       "    }\n",
       "\n",
       "    .dataframe thead th {\n",
       "        text-align: right;\n",
       "    }\n",
       "</style>\n",
       "<table border=\"1\" class=\"dataframe\">\n",
       "  <thead>\n",
       "    <tr style=\"text-align: right;\">\n",
       "      <th></th>\n",
       "      <th>Logistic Reg.</th>\n",
       "      <th>SVC</th>\n",
       "      <th>Random Forest</th>\n",
       "      <th>XGB</th>\n",
       "    </tr>\n",
       "  </thead>\n",
       "  <tbody>\n",
       "    <tr>\n",
       "      <th>Accuracy_Score</th>\n",
       "      <td>0.747978</td>\n",
       "      <td>0.785937</td>\n",
       "      <td>0.790915</td>\n",
       "      <td>0.575296</td>\n",
       "    </tr>\n",
       "    <tr>\n",
       "      <th>Recall_Score</th>\n",
       "      <td>0.785314</td>\n",
       "      <td>0.812072</td>\n",
       "      <td>0.799627</td>\n",
       "      <td>0.985065</td>\n",
       "    </tr>\n",
       "    <tr>\n",
       "      <th>Precision_Score</th>\n",
       "      <td>0.730747</td>\n",
       "      <td>0.771733</td>\n",
       "      <td>0.785933</td>\n",
       "      <td>0.541382</td>\n",
       "    </tr>\n",
       "    <tr>\n",
       "      <th>F1_Score</th>\n",
       "      <td>0.757049</td>\n",
       "      <td>0.791389</td>\n",
       "      <td>0.792721</td>\n",
       "      <td>0.698742</td>\n",
       "    </tr>\n",
       "  </tbody>\n",
       "</table>\n",
       "</div>"
      ],
      "text/plain": [
       "                 Logistic Reg.       SVC  Random Forest       XGB\n",
       "Accuracy_Score        0.747978  0.785937       0.790915  0.575296\n",
       "Recall_Score          0.785314  0.812072       0.799627  0.985065\n",
       "Precision_Score       0.730747  0.771733       0.785933  0.541382\n",
       "F1_Score              0.757049  0.791389       0.792721  0.698742"
      ]
     },
     "execution_count": 293,
     "metadata": {},
     "output_type": "execute_result"
    }
   ],
   "source": [
    "# Set 2 Score:\n",
    "ind_name=['Accuracy_Score','Recall_Score','Precision_Score','F1_Score']\n",
    "summary2=pd.DataFrame(np.vstack((Accuracy_Score,Recall_Score,Precision_Score,F1_Score)),columns=['Logistic Reg.','SVC','Random Forest','XGB'],index=ind_name)\n",
    "summary2"
   ]
  },
  {
   "cell_type": "code",
   "execution_count": 294,
   "metadata": {},
   "outputs": [
    {
     "data": {
      "image/png": "[encoded data removed]",
      "text/plain": [
       "<Figure size 432x288 with 1 Axes>"
      ]
     },
     "metadata": {
      "needs_background": "light"
     },
     "output_type": "display_data"
    }
   ],
   "source": [
    "import sklearn.metrics as metrics\n",
    "# calculate the fpr and tpr for all thresholds of the classification\n",
    "probs = clf.predict_proba(X_test)\n",
    "preds = probs[:,1]\n",
    "\n",
    "\n",
    "fpr11, tpr11, threshold = metrics.roc_curve(y_test, s1_1_y_pred)\n",
    "roc_auc11 = metrics.auc(fpr11, tpr11)\n",
    "fpr12, tpr12, threshold = metrics.roc_curve(y_test, s1_2_y_pred)\n",
    "roc_auc12 = metrics.auc(fpr12, tpr12)\n",
    "fpr13, tpr13, threshold = metrics.roc_curve(y_test, s1_3_y_pred)\n",
    "roc_auc13 = metrics.auc(fpr13, tpr13)\n",
    "fpr14, tpr14, threshold = metrics.roc_curve(y_test, s1_4_y_pred)\n",
    "roc_auc14 = metrics.auc(fpr14, tpr14)\n",
    "\n",
    "\n",
    "# method I: plt\n",
    "import matplotlib.pyplot as plt\n",
    "plt.title('Set 1 Model AUC-ROC')\n",
    "plt.plot(fpr11, tpr11, 'b', label = 'AUC = %0.2f logistic' % roc_auc11)\n",
    "plt.plot(fpr12, tpr12, 'r', label = 'AUC = %0.2f svc' % roc_auc12)\n",
    "plt.plot(fpr13, tpr13, 'y', label = 'AUC = %0.2f RF' % roc_auc13)\n",
    "plt.plot(fpr14, tpr14, 'g', label = 'AUC = %0.2f XGB' % roc_auc14)\n",
    "\n",
    "plt.legend(loc = 'lower right')\n",
    "plt.plot([0, 1], [0, 1],'r--')\n",
    "plt.xlim([0, 1])\n",
    "plt.ylim([0, 1])\n",
    "plt.ylabel('True Positive Rate')\n",
    "plt.xlabel('False Positive Rate')\n",
    "plt.show()"
   ]
  },
  {
   "cell_type": "code",
   "execution_count": 295,
   "metadata": {},
   "outputs": [
    {
     "data": {
      "image/png": "[encoded data removed]",
      "text/plain": [
       "<Figure size 432x288 with 1 Axes>"
      ]
     },
     "metadata": {
      "needs_background": "light"
     },
     "output_type": "display_data"
    }
   ],
   "source": [
    "import sklearn.metrics as metrics\n",
    "# calculate the fpr and tpr for all thresholds of the classification\n",
    "probs = clf.predict_proba(X_test)\n",
    "preds = probs[:,1]\n",
    "\n",
    "\n",
    "fpr21, tpr21, threshold = metrics.roc_curve(y_test, s2_1_y_pred)\n",
    "roc_auc21 = metrics.auc(fpr21, tpr21)\n",
    "fpr22, tpr22, threshold = metrics.roc_curve(y_test, s2_2_y_pred)\n",
    "roc_auc22 = metrics.auc(fpr22, tpr22)\n",
    "fpr23, tpr23, threshold = metrics.roc_curve(y_test, s2_3_y_pred)\n",
    "roc_auc23 = metrics.auc(fpr23, tpr23)\n",
    "fpr24, tpr24, threshold = metrics.roc_curve(y_test, s2_4_y_pred)\n",
    "roc_auc24 = metrics.auc(fpr24, tpr24)\n",
    "\n",
    "\n",
    "# method I: plt\n",
    "import matplotlib.pyplot as plt\n",
    "plt.title('Set 2 Model AUC-ROC')\n",
    "plt.plot(fpr11, tpr21, 'b', label = 'AUC = %0.2f logistic' % roc_auc21)\n",
    "plt.plot(fpr12, tpr22, 'r', label = 'AUC = %0.2f svm' % roc_auc22)\n",
    "plt.plot(fpr13, tpr23, 'y', label = 'AUC = %0.2f RF' % roc_auc23)\n",
    "plt.plot(fpr14, tpr24, 'g', label = 'AUC = %0.2f XGB' % roc_auc24)\n",
    "\n",
    "plt.legend(loc = 'lower right')\n",
    "plt.plot([0, 1], [0, 1],'r--')\n",
    "plt.xlim([0, 1])\n",
    "plt.ylim([0, 1])\n",
    "plt.ylabel('True Positive Rate')\n",
    "plt.xlabel('False Positive Rate')\n",
    "plt.show()"
   ]
  },
  {
   "cell_type": "code",
   "execution_count": 296,
   "metadata": {},
   "outputs": [
    {
     "data": {
      "text/html": [
       "<div>\n",
       "<style scoped>\n",
       "    .dataframe tbody tr th:only-of-type {\n",
       "        vertical-align: middle;\n",
       "    }\n",
       "\n",
       "    .dataframe tbody tr th {\n",
       "        vertical-align: top;\n",
       "    }\n",
       "\n",
       "    .dataframe thead th {\n",
       "        text-align: right;\n",
       "    }\n",
       "</style>\n",
       "<table border=\"1\" class=\"dataframe\">\n",
       "  <thead>\n",
       "    <tr style=\"text-align: right;\">\n",
       "      <th></th>\n",
       "      <th>Logistic Reg.</th>\n",
       "      <th>SVC</th>\n",
       "      <th>Random Forest</th>\n",
       "      <th>XGB</th>\n",
       "    </tr>\n",
       "  </thead>\n",
       "  <tbody>\n",
       "    <tr>\n",
       "      <th>Accuracy_Score</th>\n",
       "      <td>0.780647</td>\n",
       "      <td>0.822029</td>\n",
       "      <td>0.821095</td>\n",
       "      <td>0.605787</td>\n",
       "    </tr>\n",
       "    <tr>\n",
       "      <th>Recall_Score</th>\n",
       "      <td>0.807716</td>\n",
       "      <td>0.823273</td>\n",
       "      <td>0.750467</td>\n",
       "      <td>0.973864</td>\n",
       "    </tr>\n",
       "    <tr>\n",
       "      <th>Precision_Score</th>\n",
       "      <td>0.766234</td>\n",
       "      <td>0.821229</td>\n",
       "      <td>0.873913</td>\n",
       "      <td>0.560932</td>\n",
       "    </tr>\n",
       "    <tr>\n",
       "      <th>F1_Score</th>\n",
       "      <td>0.786428</td>\n",
       "      <td>0.822250</td>\n",
       "      <td>0.807499</td>\n",
       "      <td>0.711849</td>\n",
       "    </tr>\n",
       "  </tbody>\n",
       "</table>\n",
       "</div>"
      ],
      "text/plain": [
       "                 Logistic Reg.       SVC  Random Forest       XGB\n",
       "Accuracy_Score        0.780647  0.822029       0.821095  0.605787\n",
       "Recall_Score          0.807716  0.823273       0.750467  0.973864\n",
       "Precision_Score       0.766234  0.821229       0.873913  0.560932\n",
       "F1_Score              0.786428  0.822250       0.807499  0.711849"
      ]
     },
     "execution_count": 296,
     "metadata": {},
     "output_type": "execute_result"
    }
   ],
   "source": [
    "summary1"
   ]
  },
  {
   "cell_type": "code",
   "execution_count": 297,
   "metadata": {},
   "outputs": [
    {
     "data": {
      "text/html": [
       "<div>\n",
       "<style scoped>\n",
       "    .dataframe tbody tr th:only-of-type {\n",
       "        vertical-align: middle;\n",
       "    }\n",
       "\n",
       "    .dataframe tbody tr th {\n",
       "        vertical-align: top;\n",
       "    }\n",
       "\n",
       "    .dataframe thead th {\n",
       "        text-align: right;\n",
       "    }\n",
       "</style>\n",
       "<table border=\"1\" class=\"dataframe\">\n",
       "  <thead>\n",
       "    <tr style=\"text-align: right;\">\n",
       "      <th></th>\n",
       "      <th>Logistic Reg.</th>\n",
       "      <th>SVC</th>\n",
       "      <th>Random Forest</th>\n",
       "      <th>XGB</th>\n",
       "    </tr>\n",
       "  </thead>\n",
       "  <tbody>\n",
       "    <tr>\n",
       "      <th>Accuracy_Score</th>\n",
       "      <td>0.747978</td>\n",
       "      <td>0.785937</td>\n",
       "      <td>0.790915</td>\n",
       "      <td>0.575296</td>\n",
       "    </tr>\n",
       "    <tr>\n",
       "      <th>Recall_Score</th>\n",
       "      <td>0.785314</td>\n",
       "      <td>0.812072</td>\n",
       "      <td>0.799627</td>\n",
       "      <td>0.985065</td>\n",
       "    </tr>\n",
       "    <tr>\n",
       "      <th>Precision_Score</th>\n",
       "      <td>0.730747</td>\n",
       "      <td>0.771733</td>\n",
       "      <td>0.785933</td>\n",
       "      <td>0.541382</td>\n",
       "    </tr>\n",
       "    <tr>\n",
       "      <th>F1_Score</th>\n",
       "      <td>0.757049</td>\n",
       "      <td>0.791389</td>\n",
       "      <td>0.792721</td>\n",
       "      <td>0.698742</td>\n",
       "    </tr>\n",
       "  </tbody>\n",
       "</table>\n",
       "</div>"
      ],
      "text/plain": [
       "                 Logistic Reg.       SVC  Random Forest       XGB\n",
       "Accuracy_Score        0.747978  0.785937       0.790915  0.575296\n",
       "Recall_Score          0.785314  0.812072       0.799627  0.985065\n",
       "Precision_Score       0.730747  0.771733       0.785933  0.541382\n",
       "F1_Score              0.757049  0.791389       0.792721  0.698742"
      ]
     },
     "execution_count": 297,
     "metadata": {},
     "output_type": "execute_result"
    }
   ],
   "source": [
    "summary2"
   ]
  },
  {
   "cell_type": "markdown",
   "metadata": {},
   "source": [
    "#### We can see that the best model among Set 1 and Set 2 is 'Random Forest in Set 1'\n",
    "#### All Models have higher score in Set 1 than Set 2\n",
    "#### However, for building a Churn Model, it is more important to predict customer who will leave correctly rather than the overall accuracy of the model.\n",
    "#### Let's think carefully: \n",
    "#### For Type I error, which is the error to predict the customer who exit, but actually he/she doesn't. \n",
    "#### For Type II error, which is the error to predict the customer who not exist, but actually he/she does.\n",
    "#### Which error is more serious? It should be Type II error.\n",
    "#### For Type I error case, if we predict wrongly, we may waste cost/resource to retain a customer who actually will stay.\n",
    "#### For Type II error case, if we predict wrongly, we may take no action to the customer and the customer will therefore leave.\n",
    "#### Therefore, Recall Score is much more important than Accuracy Score.\n",
    "#### Before select which model to be used, let's fine tune our model!"
   ]
  },
  {
   "cell_type": "markdown",
   "metadata": {},
   "source": [
    "## Hyperparameter Tuning - Set 1\n",
    "I will try to fine tune the Hyperparameter and hope to obtain a better Accuracy and Recall Rate:"
   ]
  },
  {
   "cell_type": "code",
   "execution_count": 298,
   "metadata": {},
   "outputs": [],
   "source": [
    "from sklearn.model_selection import GridSearchCV"
   ]
  },
  {
   "cell_type": "code",
   "execution_count": 299,
   "metadata": {},
   "outputs": [],
   "source": [
    "X=pd.concat([X0_c,X0_n1],axis=1)\n",
    "y=EDA_Data['Exited'].apply(lambda x: 1 if x=='Exit' else 0)"
   ]
  },
  {
   "cell_type": "code",
   "execution_count": 300,
   "metadata": {},
   "outputs": [],
   "source": [
    "from sklearn.model_selection import train_test_split\n",
    "X_train, X_test, y_train, y_test = train_test_split(X, y, test_size=0.2, random_state=42)"
   ]
  },
  {
   "cell_type": "code",
   "execution_count": 301,
   "metadata": {},
   "outputs": [],
   "source": [
    "from imblearn.over_sampling import SMOTE\n",
    "smk = SMOTE()\n",
    "# Oversample training  data\n",
    "X_train, y_train = smk.fit_sample(X_train, y_train)\n",
    "\n",
    "# Oversample validation data\n",
    "X_test, y_test = smk.fit_sample(X_test, y_test)"
   ]
  },
  {
   "cell_type": "code",
   "execution_count": 302,
   "metadata": {},
   "outputs": [
    {
     "data": {
      "text/html": [
       "<div>\n",
       "<style scoped>\n",
       "    .dataframe tbody tr th:only-of-type {\n",
       "        vertical-align: middle;\n",
       "    }\n",
       "\n",
       "    .dataframe tbody tr th {\n",
       "        vertical-align: top;\n",
       "    }\n",
       "\n",
       "    .dataframe thead th {\n",
       "        text-align: right;\n",
       "    }\n",
       "</style>\n",
       "<table border=\"1\" class=\"dataframe\">\n",
       "  <thead>\n",
       "    <tr style=\"text-align: right;\">\n",
       "      <th></th>\n",
       "      <th>Exited</th>\n",
       "    </tr>\n",
       "    <tr>\n",
       "      <th>Exited</th>\n",
       "      <th></th>\n",
       "    </tr>\n",
       "  </thead>\n",
       "  <tbody>\n",
       "    <tr>\n",
       "      <th>0</th>\n",
       "      <td>6356</td>\n",
       "    </tr>\n",
       "    <tr>\n",
       "      <th>1</th>\n",
       "      <td>6356</td>\n",
       "    </tr>\n",
       "  </tbody>\n",
       "</table>\n",
       "</div>"
      ],
      "text/plain": [
       "        Exited\n",
       "Exited        \n",
       "0         6356\n",
       "1         6356"
      ]
     },
     "execution_count": 302,
     "metadata": {},
     "output_type": "execute_result"
    }
   ],
   "source": [
    "pd.DataFrame(y_train).groupby('Exited').agg({'Exited':'count'})"
   ]
  },
  {
   "cell_type": "code",
   "execution_count": 315,
   "metadata": {},
   "outputs": [],
   "source": [
    "Accuracy_Score=[]\n",
    "Recall_Score=[]\n",
    "Precision_Score=[]\n",
    "F1_Score=[]"
   ]
  },
  {
   "cell_type": "markdown",
   "metadata": {},
   "source": [
    "### Logistic Regression"
   ]
  },
  {
   "cell_type": "code",
   "execution_count": 316,
   "metadata": {},
   "outputs": [
    {
     "name": "stdout",
     "output_type": "stream",
     "text": [
      " Accuracy Score: 0.785 \n",
      " Recall Score: 0.814 \n",
      " Precision Score: 0.770 \n",
      " F1 Score Score: 0.791\n"
     ]
    }
   ],
   "source": [
    "from sklearn.linear_model import LogisticRegression\n",
    "\n",
    "clf =  LogisticRegression(random_state=42)\n",
    "param_grid = [\n",
    "    {'C':[0.01,0.1,1,10]}]\n",
    "     #'max_iter':[100,150,200,1000]}]\n",
    "    #{'solver': ['newton-cg','sag','lbfgs' ],'penalty':['l2']}] \n",
    "    #{'solver': ['liblinear','saga'],'penalty':['l1']}]\n",
    "search = GridSearchCV(clf, param_grid,scoring='accuracy',cv=5)\n",
    "lr=search.fit(X_train, y_train)\n",
    "\n",
    "lr=clf.fit(X_train, y_train)\n",
    "y_pred=lr.predict(X_test)\n",
    "lr.score(X_test, y_test) \n",
    "\n",
    "print(' Accuracy Score: %.3f' % accuracy_score(y_test, y_pred) ,'\\n', \n",
    "      'Recall Score: %.3f' % recall_score(y_test, y_pred) ,'\\n', #True Postive out of Actual Postive\n",
    "      'Precision Score: %.3f' % precision_score(y_test, y_pred) ,'\\n', #True Postive out of Predicted Postive\n",
    "      'F1 Score Score: %.3f' % f1_score(y_test, y_pred) ) #Close to 1 is better; Close to 0 is worse\n",
    "\n",
    "Accuracy_Score.append(accuracy_score(y_test, y_pred))\n",
    "Recall_Score.append(recall_score(y_test, y_pred))\n",
    "Precision_Score.append(precision_score(y_test, y_pred))\n",
    "F1_Score.append(f1_score(y_test, y_pred))\n",
    "\n",
    "#search.cv_results_\n"
   ]
  },
  {
   "cell_type": "code",
   "execution_count": 320,
   "metadata": {},
   "outputs": [
    {
     "name": "stdout",
     "output_type": "stream",
     "text": [
      " Accuracy Score: 0.785 \n",
      " Recall Score: 0.818 \n",
      " Precision Score: 0.768 \n",
      " F1 Score Score: 0.792\n"
     ]
    }
   ],
   "source": [
    "from sklearn.linear_model import LogisticRegression\n",
    "\n",
    "clf =  LogisticRegression(random_state=42)\n",
    "\n",
    "param_grid = [\n",
    "    {'C':[0.01,0.1,1,10]}]\n",
    "  #{'solver': ['newton-cg','sag','lbfgs' ],'penalty':['l2']}]\n",
    "  #{'solver': ['liblinear','saga'],'penalty':['l1']}]\n",
    "search = GridSearchCV(clf, param_grid,scoring='recall', cv=5)\n",
    "lr=search.fit(X_train, y_train)\n",
    "\n",
    "#lr=clf.fit(X_train, y_train)\n",
    "y_pred=lr.predict(X_test)\n",
    "lr.score(X_test, y_test) \n",
    "\n",
    "print(' Accuracy Score: %.3f' % accuracy_score(y_test, y_pred) ,'\\n', \n",
    "      'Recall Score: %.3f' % recall_score(y_test, y_pred) ,'\\n', #True Postive out of Actual Postive\n",
    "      'Precision Score: %.3f' % precision_score(y_test, y_pred) ,'\\n', #True Postive out of Predicted Postive\n",
    "      'F1 Score Score: %.3f' % f1_score(y_test, y_pred) ) #Close to 1 is better; Close to 0 is worse\n",
    "\n",
    "Accuracy_Score.append(accuracy_score(y_test, y_pred))\n",
    "Recall_Score.append(recall_score(y_test, y_pred))\n",
    "Precision_Score.append(precision_score(y_test, y_pred))\n",
    "F1_Score.append(f1_score(y_test, y_pred))\n",
    "\n",
    "#search.cv_results_"
   ]
  },
  {
   "cell_type": "markdown",
   "metadata": {},
   "source": [
    "### SVC (Support Vector Classifier)"
   ]
  },
  {
   "cell_type": "code",
   "execution_count": 323,
   "metadata": {},
   "outputs": [
    {
     "name": "stdout",
     "output_type": "stream",
     "text": [
      " Accuracy Score: 0.825 \n",
      " Recall Score: 0.827 \n",
      " Precision Score: 0.824 \n",
      " F1 Score Score: 0.826\n"
     ]
    }
   ],
   "source": [
    "from sklearn.svm import SVC\n",
    "clf = SVC(random_state=42, kernel='rbf')\n",
    "\n",
    "param_grid = [\n",
    "  {'C': [0.01,0.1,1,10]}]\n",
    "\n",
    "search = GridSearchCV(clf, param_grid,scoring='accuracy', cv=5)\n",
    "svc=search.fit(X_train, y_train)\n",
    "y_pred=svc.predict(X_test)\n",
    "svc.score(X_test, y_test) \n",
    "\n",
    "print(' Accuracy Score: %.3f' % accuracy_score(y_test, y_pred) ,'\\n', \n",
    "      'Recall Score: %.3f' % recall_score(y_test, y_pred) ,'\\n', #True Postive out of Actual Postive\n",
    "      'Precision Score: %.3f' % precision_score(y_test, y_pred) ,'\\n', #True Postive out of Predicted Postive\n",
    "      'F1 Score Score: %.3f' % f1_score(y_test, y_pred) ) #Close to 1 is better; Close to 0 is worse\n",
    "\n",
    "Accuracy_Score.append(accuracy_score(y_test, y_pred))\n",
    "Recall_Score.append(recall_score(y_test, y_pred))\n",
    "Precision_Score.append(precision_score(y_test, y_pred))\n",
    "F1_Score.append(f1_score(y_test, y_pred))\n",
    "#search.cv_results_"
   ]
  },
  {
   "cell_type": "code",
   "execution_count": 327,
   "metadata": {},
   "outputs": [
    {
     "name": "stdout",
     "output_type": "stream",
     "text": [
      " Accuracy Score: 0.825 \n",
      " Recall Score: 0.827 \n",
      " Precision Score: 0.824 \n",
      " F1 Score Score: 0.826\n"
     ]
    }
   ],
   "source": [
    "from sklearn.svm import SVC\n",
    "clf = SVC(random_state=42, kernel='rbf')\n",
    "\n",
    "param_grid = [\n",
    "  {'C': [0.01,0.1,1,10],\n",
    "   'gamma':['scale', 'auto']}]\n",
    "\n",
    "search = GridSearchCV(clf, param_grid,scoring='recall', cv=5)\n",
    "svc=search.fit(X_train, y_train)\n",
    "y_pred=svc.predict(X_test)\n",
    "svc.score(X_test, y_test)\n",
    "\n",
    "print(' Accuracy Score: %.3f' % accuracy_score(y_test, y_pred) ,'\\n', \n",
    "      'Recall Score: %.3f' % recall_score(y_test, y_pred) ,'\\n', #True Postive out of Actual Postive\n",
    "      'Precision Score: %.3f' % precision_score(y_test, y_pred) ,'\\n', #True Postive out of Predicted Postive\n",
    "      'F1 Score Score: %.3f' % f1_score(y_test, y_pred) ) #Close to 1 is better; Close to 0 is worse\n",
    "\n",
    "Accuracy_Score.append(accuracy_score(y_test, y_pred))\n",
    "Recall_Score.append(recall_score(y_test, y_pred))\n",
    "Precision_Score.append(precision_score(y_test, y_pred))\n",
    "F1_Score.append(f1_score(y_test, y_pred))\n",
    "#search.cv_results_"
   ]
  },
  {
   "cell_type": "markdown",
   "metadata": {},
   "source": [
    "### Random Forest"
   ]
  },
  {
   "cell_type": "code",
   "execution_count": 329,
   "metadata": {},
   "outputs": [
    {
     "name": "stdout",
     "output_type": "stream",
     "text": [
      " Accuracy Score: 0.831 \n",
      " Recall Score: 0.768 \n",
      " Precision Score: 0.880 \n",
      " F1 Score Score: 0.820\n"
     ]
    }
   ],
   "source": [
    "from sklearn.ensemble import RandomForestClassifier\n",
    "clf = RandomForestClassifier(random_state=42)\n",
    "param_grid = [\n",
    "  {'n_estimators' : [140,150,160,170,180,190,200]}]\n",
    "\n",
    "search = GridSearchCV(clf, param_grid,scoring='accuracy', cv=5)\n",
    "clf=search.fit(X_train, y_train)\n",
    "y_pred=clf.predict(X_test)\n",
    "\n",
    "clf.score(X_test, y_test)\n",
    "print(' Accuracy Score: %.3f' % accuracy_score(y_test, y_pred) ,'\\n', \n",
    "      'Recall Score: %.3f' % recall_score(y_test, y_pred) ,'\\n', #True Postive out of Actual Postive\n",
    "      'Precision Score: %.3f' % precision_score(y_test, y_pred) ,'\\n', #True Postive out of Predicted Postive\n",
    "      'F1 Score Score: %.3f' % f1_score(y_test, y_pred) ) #Close to 1 is better; Close to 0 is worse\n",
    "\n",
    "Accuracy_Score.append(accuracy_score(y_test, y_pred))\n",
    "Recall_Score.append(recall_score(y_test, y_pred))\n",
    "Precision_Score.append(precision_score(y_test, y_pred))\n",
    "F1_Score.append(f1_score(y_test, y_pred))\n",
    "#search.cv_results_  "
   ]
  },
  {
   "cell_type": "code",
   "execution_count": 332,
   "metadata": {},
   "outputs": [
    {
     "name": "stdout",
     "output_type": "stream",
     "text": [
      " Accuracy Score: 0.832 \n",
      " Recall Score: 0.771 \n",
      " Precision Score: 0.879 \n",
      " F1 Score Score: 0.821\n"
     ]
    }
   ],
   "source": [
    "from sklearn.ensemble import RandomForestClassifier\n",
    "clf = RandomForestClassifier(random_state=42)\n",
    "param_grid = [\n",
    "  {'n_estimators' : [140,150,160,170,180,190,200]}]\n",
    "\n",
    "search = GridSearchCV(clf, param_grid, scoring='recall', cv=5)\n",
    "clf=search.fit(X_train, y_train)\n",
    "y_pred=clf.predict(X_test)\n",
    "\n",
    "clf.score(X_test, y_test)\n",
    "print(' Accuracy Score: %.3f' % accuracy_score(y_test, y_pred) ,'\\n', \n",
    "      'Recall Score: %.3f' % recall_score(y_test, y_pred) ,'\\n', #True Postive out of Actual Postive\n",
    "      'Precision Score: %.3f' % precision_score(y_test, y_pred) ,'\\n', #True Postive out of Predicted Postive\n",
    "      'F1 Score Score: %.3f' % f1_score(y_test, y_pred) ) #Close to 1 is better; Close to 0 is worse\n",
    "\n",
    "Accuracy_Score.append(accuracy_score(y_test, y_pred))\n",
    "Recall_Score.append(recall_score(y_test, y_pred))\n",
    "Precision_Score.append(precision_score(y_test, y_pred))\n",
    "F1_Score.append(f1_score(y_test, y_pred))\n",
    "#search.cv_results_ "
   ]
  },
  {
   "cell_type": "markdown",
   "metadata": {},
   "source": [
    "### XGBoost"
   ]
  },
  {
   "cell_type": "code",
   "execution_count": 338,
   "metadata": {},
   "outputs": [
    {
     "name": "stdout",
     "output_type": "stream",
     "text": [
      " Accuracy Score: 0.886 \n",
      " Recall Score: 0.903 \n",
      " Precision Score: 0.873 \n",
      " F1 Score Score: 0.887\n"
     ]
    }
   ],
   "source": [
    "import xgboost as xgb\n",
    "dtrain = xgb.DMatrix(data = X_train, label = y_train) \n",
    "dtest = xgb.DMatrix(data = X_test, label = y_test) \n",
    "# specify parameters via map\n",
    "param = {'max_depth':4, 'eta':0.6, 'objective':'binary:hinge'}\n",
    "num_round = 20\n",
    "bst = xgb.train(param, dtrain, num_round)\n",
    "# make prediction\n",
    "y_pred = bst.predict(dtest)\n",
    "accuracy_score(y_test,y_pred)\n",
    "\n",
    "print(' Accuracy Score: %.3f' % accuracy_score(y_test, y_pred) ,'\\n', \n",
    "      'Recall Score: %.3f' % recall_score(y_test, y_pred) ,'\\n', #True Postive out of Actual Postive\n",
    "      'Precision Score: %.3f' % precision_score(y_test, y_pred) ,'\\n', #True Postive out of Predicted Postive\n",
    "      'F1 Score Score: %.3f' % f1_score(y_test, y_pred) ) #Close to 1 is better; Close to 0 is worse\n",
    "\n",
    "Accuracy_Score.append(accuracy_score(y_test, y_pred))\n",
    "Recall_Score.append(recall_score(y_test, y_pred))\n",
    "Precision_Score.append(precision_score(y_test, y_pred))\n",
    "F1_Score.append(f1_score(y_test, y_pred))"
   ]
  },
  {
   "cell_type": "code",
   "execution_count": 341,
   "metadata": {},
   "outputs": [
    {
     "data": {
      "text/html": [
       "<div>\n",
       "<style scoped>\n",
       "    .dataframe tbody tr th:only-of-type {\n",
       "        vertical-align: middle;\n",
       "    }\n",
       "\n",
       "    .dataframe tbody tr th {\n",
       "        vertical-align: top;\n",
       "    }\n",
       "\n",
       "    .dataframe thead th {\n",
       "        text-align: right;\n",
       "    }\n",
       "</style>\n",
       "<table border=\"1\" class=\"dataframe\">\n",
       "  <thead>\n",
       "    <tr style=\"text-align: right;\">\n",
       "      <th></th>\n",
       "      <th>Logistic Reg.(Accuracy)</th>\n",
       "      <th>Logistic Reg.(Recall)</th>\n",
       "      <th>SVC (Accuracy)</th>\n",
       "      <th>SVC (Recall)</th>\n",
       "      <th>Random Forest (Accuracy)</th>\n",
       "      <th>Random Forest (Recall)</th>\n",
       "      <th>XGB</th>\n",
       "    </tr>\n",
       "  </thead>\n",
       "  <tbody>\n",
       "    <tr>\n",
       "      <th>Accuracy_Score</th>\n",
       "      <td>0.785314</td>\n",
       "      <td>0.785003</td>\n",
       "      <td>0.825451</td>\n",
       "      <td>0.825451</td>\n",
       "      <td>0.831363</td>\n",
       "      <td>0.832296</td>\n",
       "      <td>0.885501</td>\n",
       "    </tr>\n",
       "    <tr>\n",
       "      <th>Recall_Score</th>\n",
       "      <td>0.813939</td>\n",
       "      <td>0.817673</td>\n",
       "      <td>0.827007</td>\n",
       "      <td>0.827007</td>\n",
       "      <td>0.767890</td>\n",
       "      <td>0.771002</td>\n",
       "      <td>0.902925</td>\n",
       "    </tr>\n",
       "    <tr>\n",
       "      <th>Precision_Score</th>\n",
       "      <td>0.769865</td>\n",
       "      <td>0.767523</td>\n",
       "      <td>0.824442</td>\n",
       "      <td>0.824442</td>\n",
       "      <td>0.879544</td>\n",
       "      <td>0.878723</td>\n",
       "      <td>0.872520</td>\n",
       "    </tr>\n",
       "    <tr>\n",
       "      <th>F1_Score</th>\n",
       "      <td>0.791289</td>\n",
       "      <td>0.791805</td>\n",
       "      <td>0.825722</td>\n",
       "      <td>0.825722</td>\n",
       "      <td>0.819934</td>\n",
       "      <td>0.821346</td>\n",
       "      <td>0.887462</td>\n",
       "    </tr>\n",
       "  </tbody>\n",
       "</table>\n",
       "</div>"
      ],
      "text/plain": [
       "                 Logistic Reg.(Accuracy)  Logistic Reg.(Recall)  \\\n",
       "Accuracy_Score                  0.785314               0.785003   \n",
       "Recall_Score                    0.813939               0.817673   \n",
       "Precision_Score                 0.769865               0.767523   \n",
       "F1_Score                        0.791289               0.791805   \n",
       "\n",
       "                 SVC (Accuracy)  SVC (Recall)  Random Forest (Accuracy)  \\\n",
       "Accuracy_Score         0.825451      0.825451                  0.831363   \n",
       "Recall_Score           0.827007      0.827007                  0.767890   \n",
       "Precision_Score        0.824442      0.824442                  0.879544   \n",
       "F1_Score               0.825722      0.825722                  0.819934   \n",
       "\n",
       "                 Random Forest (Recall)       XGB  \n",
       "Accuracy_Score                 0.832296  0.885501  \n",
       "Recall_Score                   0.771002  0.902925  \n",
       "Precision_Score                0.878723  0.872520  \n",
       "F1_Score                       0.821346  0.887462  "
      ]
     },
     "execution_count": 341,
     "metadata": {},
     "output_type": "execute_result"
    }
   ],
   "source": [
    "# Set 3 Score:\n",
    "ind_name=['Accuracy_Score','Recall_Score','Precision_Score','F1_Score']\n",
    "summary3=pd.DataFrame(np.vstack((Accuracy_Score,Recall_Score,Precision_Score,F1_Score)),\n",
    "                      columns=['Logistic Reg.(Accuracy)','Logistic Reg.(Recall)',\n",
    "                               'SVC (Accuracy)','SVC (Recall)',\n",
    "                               'Random Forest (Accuracy)','Random Forest (Recall)'\n",
    "                               ,'XGB'],index=ind_name)\n",
    "summary3"
   ]
  },
  {
   "cell_type": "code",
   "execution_count": 350,
   "metadata": {},
   "outputs": [
    {
     "data": {
      "text/html": [
       "<div>\n",
       "<style scoped>\n",
       "    .dataframe tbody tr th:only-of-type {\n",
       "        vertical-align: middle;\n",
       "    }\n",
       "\n",
       "    .dataframe tbody tr th {\n",
       "        vertical-align: top;\n",
       "    }\n",
       "\n",
       "    .dataframe thead th {\n",
       "        text-align: right;\n",
       "    }\n",
       "</style>\n",
       "<table border=\"1\" class=\"dataframe\">\n",
       "  <thead>\n",
       "    <tr style=\"text-align: right;\">\n",
       "      <th></th>\n",
       "      <th>Logistic Reg.</th>\n",
       "      <th>SVC</th>\n",
       "      <th>Random Forest</th>\n",
       "      <th>XGB</th>\n",
       "    </tr>\n",
       "  </thead>\n",
       "  <tbody>\n",
       "    <tr>\n",
       "      <th>Accuracy_Score</th>\n",
       "      <td>0.780647</td>\n",
       "      <td>0.822029</td>\n",
       "      <td>0.821095</td>\n",
       "      <td>0.605787</td>\n",
       "    </tr>\n",
       "    <tr>\n",
       "      <th>Recall_Score</th>\n",
       "      <td>0.807716</td>\n",
       "      <td>0.823273</td>\n",
       "      <td>0.750467</td>\n",
       "      <td>0.973864</td>\n",
       "    </tr>\n",
       "    <tr>\n",
       "      <th>Precision_Score</th>\n",
       "      <td>0.766234</td>\n",
       "      <td>0.821229</td>\n",
       "      <td>0.873913</td>\n",
       "      <td>0.560932</td>\n",
       "    </tr>\n",
       "    <tr>\n",
       "      <th>F1_Score</th>\n",
       "      <td>0.786428</td>\n",
       "      <td>0.822250</td>\n",
       "      <td>0.807499</td>\n",
       "      <td>0.711849</td>\n",
       "    </tr>\n",
       "  </tbody>\n",
       "</table>\n",
       "</div>"
      ],
      "text/plain": [
       "                 Logistic Reg.       SVC  Random Forest       XGB\n",
       "Accuracy_Score        0.780647  0.822029       0.821095  0.605787\n",
       "Recall_Score          0.807716  0.823273       0.750467  0.973864\n",
       "Precision_Score       0.766234  0.821229       0.873913  0.560932\n",
       "F1_Score              0.786428  0.822250       0.807499  0.711849"
      ]
     },
     "execution_count": 350,
     "metadata": {},
     "output_type": "execute_result"
    }
   ],
   "source": [
    "summary1"
   ]
  },
  {
   "cell_type": "code",
   "execution_count": 351,
   "metadata": {},
   "outputs": [
    {
     "data": {
      "text/html": [
       "<div>\n",
       "<style scoped>\n",
       "    .dataframe tbody tr th:only-of-type {\n",
       "        vertical-align: middle;\n",
       "    }\n",
       "\n",
       "    .dataframe tbody tr th {\n",
       "        vertical-align: top;\n",
       "    }\n",
       "\n",
       "    .dataframe thead th {\n",
       "        text-align: right;\n",
       "    }\n",
       "</style>\n",
       "<table border=\"1\" class=\"dataframe\">\n",
       "  <thead>\n",
       "    <tr style=\"text-align: right;\">\n",
       "      <th></th>\n",
       "      <th>Logistic Reg.</th>\n",
       "      <th>SVC</th>\n",
       "      <th>Random Forest</th>\n",
       "      <th>XGB</th>\n",
       "    </tr>\n",
       "  </thead>\n",
       "  <tbody>\n",
       "    <tr>\n",
       "      <th>Accuracy_Score</th>\n",
       "      <td>0.747978</td>\n",
       "      <td>0.785937</td>\n",
       "      <td>0.790915</td>\n",
       "      <td>0.575296</td>\n",
       "    </tr>\n",
       "    <tr>\n",
       "      <th>Recall_Score</th>\n",
       "      <td>0.785314</td>\n",
       "      <td>0.812072</td>\n",
       "      <td>0.799627</td>\n",
       "      <td>0.985065</td>\n",
       "    </tr>\n",
       "    <tr>\n",
       "      <th>Precision_Score</th>\n",
       "      <td>0.730747</td>\n",
       "      <td>0.771733</td>\n",
       "      <td>0.785933</td>\n",
       "      <td>0.541382</td>\n",
       "    </tr>\n",
       "    <tr>\n",
       "      <th>F1_Score</th>\n",
       "      <td>0.757049</td>\n",
       "      <td>0.791389</td>\n",
       "      <td>0.792721</td>\n",
       "      <td>0.698742</td>\n",
       "    </tr>\n",
       "  </tbody>\n",
       "</table>\n",
       "</div>"
      ],
      "text/plain": [
       "                 Logistic Reg.       SVC  Random Forest       XGB\n",
       "Accuracy_Score        0.747978  0.785937       0.790915  0.575296\n",
       "Recall_Score          0.785314  0.812072       0.799627  0.985065\n",
       "Precision_Score       0.730747  0.771733       0.785933  0.541382\n",
       "F1_Score              0.757049  0.791389       0.792721  0.698742"
      ]
     },
     "execution_count": 351,
     "metadata": {},
     "output_type": "execute_result"
    }
   ],
   "source": [
    "summary2"
   ]
  },
  {
   "cell_type": "markdown",
   "metadata": {},
   "source": [
    "## Hyperparameter Tuning - Set 2\n",
    "Also, I will try to fine tune the Hyperparameter and hope to obtain a better Accuracy and Recall Rate:"
   ]
  },
  {
   "cell_type": "code",
   "execution_count": 352,
   "metadata": {},
   "outputs": [],
   "source": [
    "X1_c2=pd.get_dummies(X1_c)\n",
    "y=EDA_Data['Exited'].apply(lambda x: 1 if x=='Exit' else 0)"
   ]
  },
  {
   "cell_type": "code",
   "execution_count": 353,
   "metadata": {},
   "outputs": [],
   "source": [
    "from sklearn.model_selection import train_test_split\n",
    "X_train, X_test, y_train, y_test = train_test_split(X1_c2, y, test_size=0.2, random_state=42)"
   ]
  },
  {
   "cell_type": "code",
   "execution_count": 354,
   "metadata": {},
   "outputs": [],
   "source": [
    "from imblearn.over_sampling import SMOTE\n",
    "smk = SMOTE()\n",
    "# Oversample training  data\n",
    "X_train, y_train = smk.fit_sample(X_train, y_train)\n",
    "\n",
    "# Oversample validation data\n",
    "X_test, y_test = smk.fit_sample(X_test, y_test)"
   ]
  },
  {
   "cell_type": "code",
   "execution_count": 355,
   "metadata": {},
   "outputs": [
    {
     "data": {
      "text/html": [
       "<div>\n",
       "<style scoped>\n",
       "    .dataframe tbody tr th:only-of-type {\n",
       "        vertical-align: middle;\n",
       "    }\n",
       "\n",
       "    .dataframe tbody tr th {\n",
       "        vertical-align: top;\n",
       "    }\n",
       "\n",
       "    .dataframe thead th {\n",
       "        text-align: right;\n",
       "    }\n",
       "</style>\n",
       "<table border=\"1\" class=\"dataframe\">\n",
       "  <thead>\n",
       "    <tr style=\"text-align: right;\">\n",
       "      <th></th>\n",
       "      <th>Exited</th>\n",
       "    </tr>\n",
       "    <tr>\n",
       "      <th>Exited</th>\n",
       "      <th></th>\n",
       "    </tr>\n",
       "  </thead>\n",
       "  <tbody>\n",
       "    <tr>\n",
       "      <th>0</th>\n",
       "      <td>6356</td>\n",
       "    </tr>\n",
       "    <tr>\n",
       "      <th>1</th>\n",
       "      <td>6356</td>\n",
       "    </tr>\n",
       "  </tbody>\n",
       "</table>\n",
       "</div>"
      ],
      "text/plain": [
       "        Exited\n",
       "Exited        \n",
       "0         6356\n",
       "1         6356"
      ]
     },
     "execution_count": 355,
     "metadata": {},
     "output_type": "execute_result"
    }
   ],
   "source": [
    "pd.DataFrame(y_train).groupby('Exited').agg({'Exited':'count'})"
   ]
  },
  {
   "cell_type": "code",
   "execution_count": 365,
   "metadata": {},
   "outputs": [],
   "source": [
    "Accuracy_Score=[]\n",
    "Recall_Score=[]\n",
    "Precision_Score=[]\n",
    "F1_Score=[]"
   ]
  },
  {
   "cell_type": "markdown",
   "metadata": {},
   "source": [
    "### Logistic Regression"
   ]
  },
  {
   "cell_type": "code",
   "execution_count": 366,
   "metadata": {},
   "outputs": [
    {
     "name": "stdout",
     "output_type": "stream",
     "text": [
      " Accuracy Score: 0.753 \n",
      " Recall Score: 0.782 \n",
      " Precision Score: 0.740 \n",
      " F1 Score Score: 0.760\n"
     ]
    }
   ],
   "source": [
    "from sklearn.linear_model import LogisticRegression\n",
    "clf = LogisticRegression(random_state=42)\n",
    "\n",
    "\n",
    "param_grid = [\n",
    "  {'C':[0.1,1,10],'max_iter':[1000,10000]}]\n",
    "  #{'solver': ['newton-cg','sag','lbfgs'],'C':[0.1,1,10],'max_iter':[1000,10000]}] \n",
    "  #{'solver': ['newton-cg','sag','lbfgs' ],'penalty':['l2'],'C':[0.1,1,10],'max_iter':[1000,10000]}] #1\n",
    "  #{'solver': ['liblinear','saga'],'penalty':['l1'],'max_iter':[1000,10000]}]\n",
    "search = GridSearchCV(clf, param_grid, scoring='accuracy', cv=5)\n",
    "\n",
    "\n",
    "lr=search.fit(X_train, y_train)\n",
    "y_pred=lr.predict(X_test)\n",
    "lr.score(X_test, y_test) \n",
    "\n",
    "print(' Accuracy Score: %.3f' % accuracy_score(y_test, y_pred) ,'\\n', \n",
    "      'Recall Score: %.3f' % recall_score(y_test, y_pred) ,'\\n', #True Postive out of Actual Postive\n",
    "      'Precision Score: %.3f' % precision_score(y_test, y_pred) ,'\\n', #True Postive out of Predicted Postive\n",
    "      'F1 Score Score: %.3f' % f1_score(y_test, y_pred) ) #Close to 1 is better; Close to 0 is worse\n",
    "\n",
    "Accuracy_Score.append(accuracy_score(y_test, y_pred))\n",
    "Recall_Score.append(recall_score(y_test, y_pred))\n",
    "Precision_Score.append(precision_score(y_test, y_pred))\n",
    "F1_Score.append(f1_score(y_test, y_pred))\n",
    "#search.cv_results_  (No much Change)"
   ]
  },
  {
   "cell_type": "code",
   "execution_count": 373,
   "metadata": {},
   "outputs": [
    {
     "name": "stdout",
     "output_type": "stream",
     "text": [
      " Accuracy Score: 0.753 \n",
      " Recall Score: 0.782 \n",
      " Precision Score: 0.740 \n",
      " F1 Score Score: 0.760\n"
     ]
    }
   ],
   "source": [
    "from sklearn.linear_model import LogisticRegression\n",
    "clf = LogisticRegression(random_state=42)\n",
    "\n",
    "param_grid = [\n",
    "    {'C':[0.1,1,10],'max_iter':[1000,10000]}]\n",
    "  #{'solver': ['newton-cg','sag','lbfgs' ],'C':[0.1,1,10],'max_iter':[1000,10000]}] \n",
    "  #{'solver': ['newton-cg','sag','lbfgs' ],'penalty':['l2'],'C':[0.1,1,10],'max_iter':[1000,10000]}]\n",
    "  #{'solver': ['liblinear','saga'],'penalty':['l1'],'C':[0.1,1,10],'max_iter':[1000,10000]}]\n",
    "search = GridSearchCV(clf, param_grid, scoring='recall', cv=5)\n",
    "\n",
    "\n",
    "lr=search.fit(X_train, y_train)\n",
    "y_pred=lr.predict(X_test)\n",
    "lr.score(X_test, y_test) \n",
    "\n",
    "print(' Accuracy Score: %.3f' % accuracy_score(y_test, y_pred) ,'\\n', \n",
    "      'Recall Score: %.3f' % recall_score(y_test, y_pred) ,'\\n', #True Postive out of Actual Postive\n",
    "      'Precision Score: %.3f' % precision_score(y_test, y_pred) ,'\\n', #True Postive out of Predicted Postive\n",
    "      'F1 Score Score: %.3f' % f1_score(y_test, y_pred) ) #Close to 1 is better; Close to 0 is worse\n",
    "\n",
    "Accuracy_Score.append(accuracy_score(y_test, y_pred))\n",
    "Recall_Score.append(recall_score(y_test, y_pred))\n",
    "Precision_Score.append(precision_score(y_test, y_pred))\n",
    "F1_Score.append(f1_score(y_test, y_pred))\n",
    "#search.cv_results_  (No much Change)"
   ]
  },
  {
   "cell_type": "markdown",
   "metadata": {},
   "source": [
    "### SVC (Support Vector Classifier)"
   ]
  },
  {
   "cell_type": "code",
   "execution_count": 376,
   "metadata": {},
   "outputs": [
    {
     "name": "stdout",
     "output_type": "stream",
     "text": [
      " Accuracy Score: 0.789 \n",
      " Recall Score: 0.806 \n",
      " Precision Score: 0.780 \n",
      " F1 Score Score: 0.793\n"
     ]
    }
   ],
   "source": [
    "from sklearn.svm import SVC\n",
    "\n",
    "clf = SVC(random_state=42)#,C=1,kernel='rbf',gamma='scale')\n",
    "\n",
    "\n",
    "param_grid = [\n",
    "    {'C': [0.01,0.1,1,10]}]    \n",
    "   #{'C': [0.01,0.1,1,10], 'kernel': ['rbf'],'gamma':['scale','auto']}]\n",
    "\n",
    "search = GridSearchCV(clf, param_grid, scoring='accuracy', cv=5)\n",
    "svc=search.fit(X_train, y_train)\n",
    "y_pred=svc.predict(X_test)\n",
    "\n",
    "\n",
    "#svc=clf.fit(X_train, y_train)\n",
    "#y_pred=svc.predict(X_test)\n",
    "#s2_2_y_pred=y_pred\n",
    "\n",
    "svc.score(X_test, y_test)\n",
    "print(' Accuracy Score: %.3f' % accuracy_score(y_test, y_pred) ,'\\n', \n",
    "      'Recall Score: %.3f' % recall_score(y_test, y_pred) ,'\\n', #True Postive out of Actual Postive\n",
    "      'Precision Score: %.3f' % precision_score(y_test, y_pred) ,'\\n', #True Postive out of Predicted Postive\n",
    "      'F1 Score Score: %.3f' % f1_score(y_test, y_pred) ) #Close to 1 is better; Close to 0 is worse\n",
    "\n",
    "Accuracy_Score.append(accuracy_score(y_test, y_pred))\n",
    "Recall_Score.append(recall_score(y_test, y_pred))\n",
    "Precision_Score.append(precision_score(y_test, y_pred))\n",
    "F1_Score.append(f1_score(y_test, y_pred))\n",
    "#search.cv_results_ "
   ]
  },
  {
   "cell_type": "code",
   "execution_count": 378,
   "metadata": {},
   "outputs": [
    {
     "name": "stdout",
     "output_type": "stream",
     "text": [
      " Accuracy Score: 0.765 \n",
      " Recall Score: 0.826 \n",
      " Precision Score: 0.736 \n",
      " F1 Score Score: 0.778\n"
     ]
    }
   ],
   "source": [
    "from sklearn.svm import SVC\n",
    "\n",
    "clf = SVC(random_state=42)#,C=1,kernel='rbf',gamma='scale')\n",
    "\n",
    "\n",
    "param_grid = [\n",
    "  {'C': [0.01,0.1,1,10]}]    \n",
    "  #{'C': [0.01,0.1,1,10], 'kernel': ['rbf'],'gamma':['scale','auto']}]\n",
    "\n",
    "search = GridSearchCV(clf, param_grid, scoring='recall', cv=5)\n",
    "\n",
    "svc=search.fit(X_train, y_train)\n",
    "y_pred=svc.predict(X_test)\n",
    "\n",
    "\n",
    "#svc=clf.fit(X_train, y_train)\n",
    "#y_pred=svc.predict(X_test)\n",
    "#s2_2_y_pred=y_pred\n",
    "\n",
    "svc.score(X_test, y_test)\n",
    "print(' Accuracy Score: %.3f' % accuracy_score(y_test, y_pred) ,'\\n', \n",
    "      'Recall Score: %.3f' % recall_score(y_test, y_pred) ,'\\n', #True Postive out of Actual Postive\n",
    "      'Precision Score: %.3f' % precision_score(y_test, y_pred) ,'\\n', #True Postive out of Predicted Postive\n",
    "      'F1 Score Score: %.3f' % f1_score(y_test, y_pred) ) #Close to 1 is better; Close to 0 is worse\n",
    "\n",
    "Accuracy_Score.append(accuracy_score(y_test, y_pred))\n",
    "Recall_Score.append(recall_score(y_test, y_pred))\n",
    "Precision_Score.append(precision_score(y_test, y_pred))\n",
    "F1_Score.append(f1_score(y_test, y_pred))\n",
    "#search.cv_results_ "
   ]
  },
  {
   "cell_type": "markdown",
   "metadata": {},
   "source": [
    "### Random Forest"
   ]
  },
  {
   "cell_type": "code",
   "execution_count": 388,
   "metadata": {},
   "outputs": [
    {
     "name": "stdout",
     "output_type": "stream",
     "text": [
      " Accuracy Score: 0.780 \n",
      " Recall Score: 0.796 \n",
      " Precision Score: 0.772 \n",
      " F1 Score Score: 0.784\n"
     ]
    }
   ],
   "source": [
    "from sklearn.ensemble import RandomForestClassifier\n",
    "\n",
    "clf = RandomForestClassifier(random_state=42)\n",
    "param_grid = [\n",
    "  #{'n_estimators' : [100,150,200],'max_depth':[5,10,15]}]\n",
    "  #{'n_estimators' : [100,110,120,130,140,150],'max_depth':[5,6,7,8,9,10]}]\n",
    "  #{'n_estimators' : [100,110,120,130,140,150],'max_depth':[9,10]}]\n",
    "  #{'n_estimators' : [110,111,112,113,114,115,116,117,118,119],'max_depth':[5,10,15]}]\n",
    "   {'n_estimators' : [117,118,119],'max_depth':[9,10,11],'criterion':['gini','entropy']}]\n",
    "search = GridSearchCV(clf, param_grid, scoring='accuracy', cv=5)\n",
    "clf=search.fit(X_train, y_train)\n",
    "y_pred=clf.predict(X_test)\n",
    "\n",
    "#clf.fit(X_train, y_train)\n",
    "#y_pred=clf.predict(X_test)\n",
    "clf.score(X_test, y_test)\n",
    "\n",
    "print(' Accuracy Score: %.3f' % accuracy_score(y_test, y_pred) ,'\\n', \n",
    "      'Recall Score: %.3f' % recall_score(y_test, y_pred) ,'\\n', #True Postive out of Actual Postive\n",
    "      'Precision Score: %.3f' % precision_score(y_test, y_pred) ,'\\n', #True Postive out of Predicted Postive\n",
    "      'F1 Score Score: %.3f' % f1_score(y_test, y_pred) ) #Close to 1 is better; Close to 0 is worse\n",
    "\n",
    "Accuracy_Score.append(accuracy_score(y_test, y_pred))\n",
    "Recall_Score.append(recall_score(y_test, y_pred))\n",
    "Precision_Score.append(precision_score(y_test, y_pred))\n",
    "F1_Score.append(f1_score(y_test, y_pred))\n",
    "\n",
    "#search.cv_results_"
   ]
  },
  {
   "cell_type": "code",
   "execution_count": 407,
   "metadata": {},
   "outputs": [
    {
     "name": "stdout",
     "output_type": "stream",
     "text": [
      " Accuracy Score: 0.780 \n",
      " Recall Score: 0.800 \n",
      " Precision Score: 0.770 \n",
      " F1 Score Score: 0.784\n"
     ]
    }
   ],
   "source": [
    "from sklearn.ensemble import RandomForestClassifier\n",
    "\n",
    "clf = RandomForestClassifier(random_state=42)\n",
    "param_grid = [\n",
    "  #{'n_estimators' : [100,150,200],'max_depth':[5,10,15]}]\n",
    "  #{'n_estimators' : [100,110,120,130,140,150],'max_depth':[5,6,7,8,9,10]}]\n",
    "  #{'n_estimators' : [100,110,120,130,140,150],'max_depth':[9,10]}]\n",
    "  #{'n_estimators' : [105,106,107,108,109,110,111,112,113,114,115,116,117,118,119],'max_depth':[9,10,11]}]\n",
    "   {'n_estimators' : [108,109],'max_depth':[9]}]\n",
    "search = GridSearchCV(clf, param_grid, scoring='recall', cv=5)\n",
    "clf=search.fit(X_train, y_train)\n",
    "y_pred=clf.predict(X_test)\n",
    "\n",
    "#clf.fit(X_train, y_train)\n",
    "#y_pred=clf.predict(X_test)\n",
    "clf.score(X_test, y_test)\n",
    "\n",
    "print(' Accuracy Score: %.3f' % accuracy_score(y_test, y_pred) ,'\\n', \n",
    "      'Recall Score: %.3f' % recall_score(y_test, y_pred) ,'\\n', #True Postive out of Actual Postive\n",
    "      'Precision Score: %.3f' % precision_score(y_test, y_pred) ,'\\n', #True Postive out of Predicted Postive\n",
    "      'F1 Score Score: %.3f' % f1_score(y_test, y_pred) ) #Close to 1 is better; Close to 0 is worse\n",
    "\n",
    "Accuracy_Score.append(accuracy_score(y_test, y_pred))\n",
    "Recall_Score.append(recall_score(y_test, y_pred))\n",
    "Precision_Score.append(precision_score(y_test, y_pred))\n",
    "F1_Score.append(f1_score(y_test, y_pred))\n",
    "\n",
    "#search.cv_results_"
   ]
  },
  {
   "cell_type": "markdown",
   "metadata": {},
   "source": [
    "### XGBoost"
   ]
  },
  {
   "cell_type": "code",
   "execution_count": 406,
   "metadata": {},
   "outputs": [
    {
     "name": "stdout",
     "output_type": "stream",
     "text": [
      " Accuracy Score: 0.786 \n",
      " Recall Score: 0.815 \n",
      " Precision Score: 0.770 \n",
      " F1 Score Score: 0.792\n"
     ]
    }
   ],
   "source": [
    "#scale_pos_weight=sum(negative instances) / sum(positive instances)\n",
    "import xgboost as xgb\n",
    "dtrain = xgb.DMatrix(data = X_train, label = y_train) \n",
    "dtest = xgb.DMatrix(data = X_test, label = y_test) \n",
    "# specify parameters via map\n",
    "param = {'max_depth':5, 'eta':0.07,'objective':'binary:hinge'}\n",
    "num_round = 500\n",
    "bst = xgb.train(param, dtrain, num_round)\n",
    "# make prediction\n",
    "y_pred = bst.predict(dtest)\n",
    "accuracy_score(y_test,y_pred)\n",
    "\n",
    "print(' Accuracy Score: %.3f' % accuracy_score(y_test, y_pred) ,'\\n', \n",
    "      'Recall Score: %.3f' % recall_score(y_test, y_pred) ,'\\n', #True Postive out of Actual Postive\n",
    "      'Precision Score: %.3f' % precision_score(y_test, y_pred) ,'\\n', #True Postive out of Predicted Postive\n",
    "      'F1 Score Score: %.3f' % f1_score(y_test, y_pred) ) #Close to 1 is better; Close to 0 is worse\n",
    "\n",
    "Accuracy_Score.append(accuracy_score(y_test, y_pred))\n",
    "Recall_Score.append(recall_score(y_test, y_pred))\n",
    "Precision_Score.append(precision_score(y_test, y_pred))\n",
    "F1_Score.append(f1_score(y_test, y_pred))"
   ]
  },
  {
   "cell_type": "code",
   "execution_count": 409,
   "metadata": {},
   "outputs": [
    {
     "data": {
      "text/html": [
       "<div>\n",
       "<style scoped>\n",
       "    .dataframe tbody tr th:only-of-type {\n",
       "        vertical-align: middle;\n",
       "    }\n",
       "\n",
       "    .dataframe tbody tr th {\n",
       "        vertical-align: top;\n",
       "    }\n",
       "\n",
       "    .dataframe thead th {\n",
       "        text-align: right;\n",
       "    }\n",
       "</style>\n",
       "<table border=\"1\" class=\"dataframe\">\n",
       "  <thead>\n",
       "    <tr style=\"text-align: right;\">\n",
       "      <th></th>\n",
       "      <th>Logistic Reg.(Accuracy)</th>\n",
       "      <th>Logistic Reg.(Recall)</th>\n",
       "      <th>SVC (Accuracy)</th>\n",
       "      <th>SVC (Recall)</th>\n",
       "      <th>Random Forest (Accuracy)</th>\n",
       "      <th>Random Forest (Recall)</th>\n",
       "      <th>XGB</th>\n",
       "    </tr>\n",
       "  </thead>\n",
       "  <tbody>\n",
       "    <tr>\n",
       "      <th>Accuracy_Score</th>\n",
       "      <td>0.753267</td>\n",
       "      <td>0.753267</td>\n",
       "      <td>0.789359</td>\n",
       "      <td>0.764779</td>\n",
       "      <td>0.780336</td>\n",
       "      <td>0.780336</td>\n",
       "      <td>0.780336</td>\n",
       "    </tr>\n",
       "    <tr>\n",
       "      <th>Recall_Score</th>\n",
       "      <td>0.781581</td>\n",
       "      <td>0.781581</td>\n",
       "      <td>0.806472</td>\n",
       "      <td>0.826385</td>\n",
       "      <td>0.795893</td>\n",
       "      <td>0.799627</td>\n",
       "      <td>0.799627</td>\n",
       "    </tr>\n",
       "    <tr>\n",
       "      <th>Precision_Score</th>\n",
       "      <td>0.739694</td>\n",
       "      <td>0.739694</td>\n",
       "      <td>0.779783</td>\n",
       "      <td>0.735734</td>\n",
       "      <td>0.771877</td>\n",
       "      <td>0.769922</td>\n",
       "      <td>0.769922</td>\n",
       "    </tr>\n",
       "    <tr>\n",
       "      <th>F1_Score</th>\n",
       "      <td>0.760061</td>\n",
       "      <td>0.760061</td>\n",
       "      <td>0.792903</td>\n",
       "      <td>0.778429</td>\n",
       "      <td>0.783701</td>\n",
       "      <td>0.784493</td>\n",
       "      <td>0.784493</td>\n",
       "    </tr>\n",
       "  </tbody>\n",
       "</table>\n",
       "</div>"
      ],
      "text/plain": [
       "                 Logistic Reg.(Accuracy)  Logistic Reg.(Recall)  \\\n",
       "Accuracy_Score                  0.753267               0.753267   \n",
       "Recall_Score                    0.781581               0.781581   \n",
       "Precision_Score                 0.739694               0.739694   \n",
       "F1_Score                        0.760061               0.760061   \n",
       "\n",
       "                 SVC (Accuracy)  SVC (Recall)  Random Forest (Accuracy)  \\\n",
       "Accuracy_Score         0.789359      0.764779                  0.780336   \n",
       "Recall_Score           0.806472      0.826385                  0.795893   \n",
       "Precision_Score        0.779783      0.735734                  0.771877   \n",
       "F1_Score               0.792903      0.778429                  0.783701   \n",
       "\n",
       "                 Random Forest (Recall)       XGB  \n",
       "Accuracy_Score                 0.780336  0.780336  \n",
       "Recall_Score                   0.799627  0.799627  \n",
       "Precision_Score                0.769922  0.769922  \n",
       "F1_Score                       0.784493  0.784493  "
      ]
     },
     "execution_count": 409,
     "metadata": {},
     "output_type": "execute_result"
    }
   ],
   "source": [
    "# Set 4 Score:\n",
    "ind_name=['Accuracy_Score','Recall_Score','Precision_Score','F1_Score']\n",
    "summary4=pd.DataFrame(np.vstack((Accuracy_Score,Recall_Score,Precision_Score,F1_Score)),\n",
    "                      columns=['Logistic Reg.(Accuracy)','Logistic Reg.(Recall)',\n",
    "                               'SVC (Accuracy)','SVC (Recall)',\n",
    "                               'Random Forest (Accuracy)','Random Forest (Recall)'\n",
    "                               ,'XGB'],index=ind_name)\n",
    "summary4"
   ]
  },
  {
   "cell_type": "markdown",
   "metadata": {},
   "source": [
    "## Model Selection"
   ]
  },
  {
   "cell_type": "code",
   "execution_count": 410,
   "metadata": {},
   "outputs": [
    {
     "data": {
      "text/html": [
       "<div>\n",
       "<style scoped>\n",
       "    .dataframe tbody tr th:only-of-type {\n",
       "        vertical-align: middle;\n",
       "    }\n",
       "\n",
       "    .dataframe tbody tr th {\n",
       "        vertical-align: top;\n",
       "    }\n",
       "\n",
       "    .dataframe thead th {\n",
       "        text-align: right;\n",
       "    }\n",
       "</style>\n",
       "<table border=\"1\" class=\"dataframe\">\n",
       "  <thead>\n",
       "    <tr style=\"text-align: right;\">\n",
       "      <th></th>\n",
       "      <th>Logistic Reg.</th>\n",
       "      <th>SVC</th>\n",
       "      <th>Random Forest</th>\n",
       "      <th>XGB</th>\n",
       "    </tr>\n",
       "  </thead>\n",
       "  <tbody>\n",
       "    <tr>\n",
       "      <th>Accuracy_Score</th>\n",
       "      <td>0.780647</td>\n",
       "      <td>0.822029</td>\n",
       "      <td>0.821095</td>\n",
       "      <td>0.605787</td>\n",
       "    </tr>\n",
       "    <tr>\n",
       "      <th>Recall_Score</th>\n",
       "      <td>0.807716</td>\n",
       "      <td>0.823273</td>\n",
       "      <td>0.750467</td>\n",
       "      <td>0.973864</td>\n",
       "    </tr>\n",
       "    <tr>\n",
       "      <th>Precision_Score</th>\n",
       "      <td>0.766234</td>\n",
       "      <td>0.821229</td>\n",
       "      <td>0.873913</td>\n",
       "      <td>0.560932</td>\n",
       "    </tr>\n",
       "    <tr>\n",
       "      <th>F1_Score</th>\n",
       "      <td>0.786428</td>\n",
       "      <td>0.822250</td>\n",
       "      <td>0.807499</td>\n",
       "      <td>0.711849</td>\n",
       "    </tr>\n",
       "  </tbody>\n",
       "</table>\n",
       "</div>"
      ],
      "text/plain": [
       "                 Logistic Reg.       SVC  Random Forest       XGB\n",
       "Accuracy_Score        0.780647  0.822029       0.821095  0.605787\n",
       "Recall_Score          0.807716  0.823273       0.750467  0.973864\n",
       "Precision_Score       0.766234  0.821229       0.873913  0.560932\n",
       "F1_Score              0.786428  0.822250       0.807499  0.711849"
      ]
     },
     "execution_count": 410,
     "metadata": {},
     "output_type": "execute_result"
    }
   ],
   "source": [
    "summary1"
   ]
  },
  {
   "cell_type": "code",
   "execution_count": 411,
   "metadata": {},
   "outputs": [
    {
     "data": {
      "text/html": [
       "<div>\n",
       "<style scoped>\n",
       "    .dataframe tbody tr th:only-of-type {\n",
       "        vertical-align: middle;\n",
       "    }\n",
       "\n",
       "    .dataframe tbody tr th {\n",
       "        vertical-align: top;\n",
       "    }\n",
       "\n",
       "    .dataframe thead th {\n",
       "        text-align: right;\n",
       "    }\n",
       "</style>\n",
       "<table border=\"1\" class=\"dataframe\">\n",
       "  <thead>\n",
       "    <tr style=\"text-align: right;\">\n",
       "      <th></th>\n",
       "      <th>Logistic Reg.</th>\n",
       "      <th>SVC</th>\n",
       "      <th>Random Forest</th>\n",
       "      <th>XGB</th>\n",
       "    </tr>\n",
       "  </thead>\n",
       "  <tbody>\n",
       "    <tr>\n",
       "      <th>Accuracy_Score</th>\n",
       "      <td>0.747978</td>\n",
       "      <td>0.785937</td>\n",
       "      <td>0.790915</td>\n",
       "      <td>0.575296</td>\n",
       "    </tr>\n",
       "    <tr>\n",
       "      <th>Recall_Score</th>\n",
       "      <td>0.785314</td>\n",
       "      <td>0.812072</td>\n",
       "      <td>0.799627</td>\n",
       "      <td>0.985065</td>\n",
       "    </tr>\n",
       "    <tr>\n",
       "      <th>Precision_Score</th>\n",
       "      <td>0.730747</td>\n",
       "      <td>0.771733</td>\n",
       "      <td>0.785933</td>\n",
       "      <td>0.541382</td>\n",
       "    </tr>\n",
       "    <tr>\n",
       "      <th>F1_Score</th>\n",
       "      <td>0.757049</td>\n",
       "      <td>0.791389</td>\n",
       "      <td>0.792721</td>\n",
       "      <td>0.698742</td>\n",
       "    </tr>\n",
       "  </tbody>\n",
       "</table>\n",
       "</div>"
      ],
      "text/plain": [
       "                 Logistic Reg.       SVC  Random Forest       XGB\n",
       "Accuracy_Score        0.747978  0.785937       0.790915  0.575296\n",
       "Recall_Score          0.785314  0.812072       0.799627  0.985065\n",
       "Precision_Score       0.730747  0.771733       0.785933  0.541382\n",
       "F1_Score              0.757049  0.791389       0.792721  0.698742"
      ]
     },
     "execution_count": 411,
     "metadata": {},
     "output_type": "execute_result"
    }
   ],
   "source": [
    "summary2"
   ]
  },
  {
   "cell_type": "code",
   "execution_count": 413,
   "metadata": {},
   "outputs": [
    {
     "data": {
      "text/html": [
       "<div>\n",
       "<style scoped>\n",
       "    .dataframe tbody tr th:only-of-type {\n",
       "        vertical-align: middle;\n",
       "    }\n",
       "\n",
       "    .dataframe tbody tr th {\n",
       "        vertical-align: top;\n",
       "    }\n",
       "\n",
       "    .dataframe thead th {\n",
       "        text-align: right;\n",
       "    }\n",
       "</style>\n",
       "<table border=\"1\" class=\"dataframe\">\n",
       "  <thead>\n",
       "    <tr style=\"text-align: right;\">\n",
       "      <th></th>\n",
       "      <th>Logistic Reg.(Accuracy)</th>\n",
       "      <th>Logistic Reg.(Recall)</th>\n",
       "      <th>SVC (Accuracy)</th>\n",
       "      <th>SVC (Recall)</th>\n",
       "      <th>Random Forest (Accuracy)</th>\n",
       "      <th>Random Forest (Recall)</th>\n",
       "      <th>XGB</th>\n",
       "    </tr>\n",
       "  </thead>\n",
       "  <tbody>\n",
       "    <tr>\n",
       "      <th>Accuracy_Score</th>\n",
       "      <td>0.785314</td>\n",
       "      <td>0.785003</td>\n",
       "      <td>0.825451</td>\n",
       "      <td>0.825451</td>\n",
       "      <td>0.831363</td>\n",
       "      <td>0.832296</td>\n",
       "      <td>0.885501</td>\n",
       "    </tr>\n",
       "    <tr>\n",
       "      <th>Recall_Score</th>\n",
       "      <td>0.813939</td>\n",
       "      <td>0.817673</td>\n",
       "      <td>0.827007</td>\n",
       "      <td>0.827007</td>\n",
       "      <td>0.767890</td>\n",
       "      <td>0.771002</td>\n",
       "      <td>0.902925</td>\n",
       "    </tr>\n",
       "    <tr>\n",
       "      <th>Precision_Score</th>\n",
       "      <td>0.769865</td>\n",
       "      <td>0.767523</td>\n",
       "      <td>0.824442</td>\n",
       "      <td>0.824442</td>\n",
       "      <td>0.879544</td>\n",
       "      <td>0.878723</td>\n",
       "      <td>0.872520</td>\n",
       "    </tr>\n",
       "    <tr>\n",
       "      <th>F1_Score</th>\n",
       "      <td>0.791289</td>\n",
       "      <td>0.791805</td>\n",
       "      <td>0.825722</td>\n",
       "      <td>0.825722</td>\n",
       "      <td>0.819934</td>\n",
       "      <td>0.821346</td>\n",
       "      <td>0.887462</td>\n",
       "    </tr>\n",
       "  </tbody>\n",
       "</table>\n",
       "</div>"
      ],
      "text/plain": [
       "                 Logistic Reg.(Accuracy)  Logistic Reg.(Recall)  \\\n",
       "Accuracy_Score                  0.785314               0.785003   \n",
       "Recall_Score                    0.813939               0.817673   \n",
       "Precision_Score                 0.769865               0.767523   \n",
       "F1_Score                        0.791289               0.791805   \n",
       "\n",
       "                 SVC (Accuracy)  SVC (Recall)  Random Forest (Accuracy)  \\\n",
       "Accuracy_Score         0.825451      0.825451                  0.831363   \n",
       "Recall_Score           0.827007      0.827007                  0.767890   \n",
       "Precision_Score        0.824442      0.824442                  0.879544   \n",
       "F1_Score               0.825722      0.825722                  0.819934   \n",
       "\n",
       "                 Random Forest (Recall)       XGB  \n",
       "Accuracy_Score                 0.832296  0.885501  \n",
       "Recall_Score                   0.771002  0.902925  \n",
       "Precision_Score                0.878723  0.872520  \n",
       "F1_Score                       0.821346  0.887462  "
      ]
     },
     "execution_count": 413,
     "metadata": {},
     "output_type": "execute_result"
    }
   ],
   "source": [
    "summary3"
   ]
  },
  {
   "cell_type": "code",
   "execution_count": 414,
   "metadata": {},
   "outputs": [
    {
     "data": {
      "text/html": [
       "<div>\n",
       "<style scoped>\n",
       "    .dataframe tbody tr th:only-of-type {\n",
       "        vertical-align: middle;\n",
       "    }\n",
       "\n",
       "    .dataframe tbody tr th {\n",
       "        vertical-align: top;\n",
       "    }\n",
       "\n",
       "    .dataframe thead th {\n",
       "        text-align: right;\n",
       "    }\n",
       "</style>\n",
       "<table border=\"1\" class=\"dataframe\">\n",
       "  <thead>\n",
       "    <tr style=\"text-align: right;\">\n",
       "      <th></th>\n",
       "      <th>Logistic Reg.(Accuracy)</th>\n",
       "      <th>Logistic Reg.(Recall)</th>\n",
       "      <th>SVC (Accuracy)</th>\n",
       "      <th>SVC (Recall)</th>\n",
       "      <th>Random Forest (Accuracy)</th>\n",
       "      <th>Random Forest (Recall)</th>\n",
       "      <th>XGB</th>\n",
       "    </tr>\n",
       "  </thead>\n",
       "  <tbody>\n",
       "    <tr>\n",
       "      <th>Accuracy_Score</th>\n",
       "      <td>0.753267</td>\n",
       "      <td>0.753267</td>\n",
       "      <td>0.789359</td>\n",
       "      <td>0.764779</td>\n",
       "      <td>0.780336</td>\n",
       "      <td>0.780336</td>\n",
       "      <td>0.780336</td>\n",
       "    </tr>\n",
       "    <tr>\n",
       "      <th>Recall_Score</th>\n",
       "      <td>0.781581</td>\n",
       "      <td>0.781581</td>\n",
       "      <td>0.806472</td>\n",
       "      <td>0.826385</td>\n",
       "      <td>0.795893</td>\n",
       "      <td>0.799627</td>\n",
       "      <td>0.799627</td>\n",
       "    </tr>\n",
       "    <tr>\n",
       "      <th>Precision_Score</th>\n",
       "      <td>0.739694</td>\n",
       "      <td>0.739694</td>\n",
       "      <td>0.779783</td>\n",
       "      <td>0.735734</td>\n",
       "      <td>0.771877</td>\n",
       "      <td>0.769922</td>\n",
       "      <td>0.769922</td>\n",
       "    </tr>\n",
       "    <tr>\n",
       "      <th>F1_Score</th>\n",
       "      <td>0.760061</td>\n",
       "      <td>0.760061</td>\n",
       "      <td>0.792903</td>\n",
       "      <td>0.778429</td>\n",
       "      <td>0.783701</td>\n",
       "      <td>0.784493</td>\n",
       "      <td>0.784493</td>\n",
       "    </tr>\n",
       "  </tbody>\n",
       "</table>\n",
       "</div>"
      ],
      "text/plain": [
       "                 Logistic Reg.(Accuracy)  Logistic Reg.(Recall)  \\\n",
       "Accuracy_Score                  0.753267               0.753267   \n",
       "Recall_Score                    0.781581               0.781581   \n",
       "Precision_Score                 0.739694               0.739694   \n",
       "F1_Score                        0.760061               0.760061   \n",
       "\n",
       "                 SVC (Accuracy)  SVC (Recall)  Random Forest (Accuracy)  \\\n",
       "Accuracy_Score         0.789359      0.764779                  0.780336   \n",
       "Recall_Score           0.806472      0.826385                  0.795893   \n",
       "Precision_Score        0.779783      0.735734                  0.771877   \n",
       "F1_Score               0.792903      0.778429                  0.783701   \n",
       "\n",
       "                 Random Forest (Recall)       XGB  \n",
       "Accuracy_Score                 0.780336  0.780336  \n",
       "Recall_Score                   0.799627  0.799627  \n",
       "Precision_Score                0.769922  0.769922  \n",
       "F1_Score                       0.784493  0.784493  "
      ]
     },
     "execution_count": 414,
     "metadata": {},
     "output_type": "execute_result"
    }
   ],
   "source": [
    "summary4"
   ]
  },
  {
   "cell_type": "markdown",
   "metadata": {},
   "source": [
    "After hyperparameter tuning, we can see that:\n",
    "1) For Accuracy, All score in set 1 Model have been improved, while in set 2 Model, only Logistic Regression, SVC and XGB have been improved.\n",
    "\n",
    "2) For Recall rate, Logistic Regression, SVC and Random Forest have been improved in set 1 while only SVC have been improved in set 2.\n",
    "\n",
    "So, which model should be used?\n",
    "In my opinion, XGB with hyperparameter tuning in set 1 is recommended to use.\n",
    "As mentioned before, our business question is find out customer who will exit the bank.\n",
    "Therefore, Recall Rate is more important than Accuracy Score.\n",
    "\n",
    "Recap that:\n",
    "TP (True Positive): Predict customer will exit while the customer really exit\n",
    "TN (True Negative): Predict customer will not exit while the customer really not exit\n",
    "FP (False Positive): Predict customer will exit while actually the customer will not exit \n",
    "FN (False Negative): Predict customer will not exit while actually the customer will exit \n",
    "\n",
    "Accuracy Rate = TP/(TP+TN)\n",
    "Recall Rate = TP/(TP+FN)\n",
    "Precision = TP/(TP+FP)\n",
    "F1 Score = 2TP/(2TP+FP+FN)\n",
    "\n",
    "In our case, we want predict Exit customer for retention.\n",
    "Therefore, which ones is more important?\n",
    "A) Finding a exit customer from a base with exiting customer and not exiting customer correctly? OR\n",
    "B) Finding a exit customer from a base with exiting customer and 'I guess the customer will not leave, but actually the customer will leave'? OR\n",
    "C) Finding a exit customer from a base with exiting customer and 'I guess the customer will leave, but actually the customer will not leave'?\n",
    "\n",
    "The answer should be B, right? \n",
    "We should minimize the % of 'I guess the customer will not leave, but actually the customer will leave', i.e. Use the highest recall rate.\n",
    "\n",
    "Therefore XGBoost in set 1 seems the best ones we are going to use.\n",
    "We should the ones with hyperparameter tuning because the F1_Score is higher than the ones without tuning.\n",
    "F1 score becomes high only when both precision and recall are high.\n"
   ]
  },
  {
   "cell_type": "code",
   "execution_count": null,
   "metadata": {},
   "outputs": [],
   "source": []
  }
 ],
 "metadata": {
  "kernelspec": {
   "display_name": "Python 3",
   "language": "python",
   "name": "python3"
  },
  "language_info": {
   "codemirror_mode": {
    "name": "ipython",
    "version": 3
   },
   "file_extension": ".py",
   "mimetype": "text/x-python",
   "name": "python",
   "nbconvert_exporter": "python",
   "pygments_lexer": "ipython3",
   "version": "3.7.6"
  }
 },
 "nbformat": 4,
 "nbformat_minor": 4
}
